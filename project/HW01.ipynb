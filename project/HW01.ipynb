{
 "cells": [
  {
   "cell_type": "code",
   "execution_count": 1,
   "id": "a99f7d1c-9925-48f7-a12b-3c9996ce8da7",
   "metadata": {
    "tags": []
   },
   "outputs": [],
   "source": [
    "import cfpq_data"
   ]
  },
  {
   "cell_type": "code",
   "execution_count": 2,
   "id": "d81521bb-0c24-4154-be7d-4b9c15945d50",
   "metadata": {},
   "outputs": [
    {
     "name": "stderr",
     "output_type": "stream",
     "text": [
      "[2023-02-23 21:07:28]>INFO>Found graph with name='bzip'\n",
      "[2023-02-23 21:07:28]>INFO>Load archive graph_archive=PosixPath('/hdd/Homework/sem10/FormalLangs/env/lib/python3.10/site-packages/cfpq_data/data/graphs/bzip.tar.gz')\n",
      "[2023-02-23 21:07:28]>INFO>Unzip graph name='bzip' to file graph=PosixPath('/hdd/Homework/sem10/FormalLangs/env/lib/python3.10/site-packages/cfpq_data/data/graphs/bzip/bzip.csv')\n",
      "[2023-02-23 21:07:28]>INFO>Remove archive graph_archive=PosixPath('/hdd/Homework/sem10/FormalLangs/env/lib/python3.10/site-packages/cfpq_data/data/graphs/bzip.tar.gz')\n"
     ]
    }
   ],
   "source": [
    "bzip_path = cfpq_data.download(\"bzip\")"
   ]
  },
  {
   "cell_type": "code",
   "execution_count": 3,
   "id": "dade8020-177e-4225-ba69-cbb8b0766863",
   "metadata": {},
   "outputs": [
    {
     "name": "stderr",
     "output_type": "stream",
     "text": [
      "[2023-02-23 21:07:29]>INFO>Load graph=<networkx.classes.multidigraph.MultiDiGraph object at 0x7fcb1a4f7b20> from path=PosixPath('/hdd/Homework/sem10/FormalLangs/env/lib/python3.10/site-packages/cfpq_data/data/graphs/bzip/bzip.csv')\n"
     ]
    }
   ],
   "source": [
    "bzip = cfpq_data.graph_from_csv(bzip_path)"
   ]
  },
  {
   "cell_type": "code",
   "execution_count": 10,
   "id": "61866865-b4e0-4aa1-8401-9e1ec1ac75cb",
   "metadata": {},
   "outputs": [
    {
     "data": {
      "text/plain": [
       "632"
      ]
     },
     "execution_count": 10,
     "metadata": {},
     "output_type": "execute_result"
    }
   ],
   "source": [
    "bzip.number_of_nodes()"
   ]
  },
  {
   "cell_type": "code",
   "execution_count": 17,
   "id": "e8e7c7f8-aa30-4b91-97db-1034383a21a0",
   "metadata": {
    "collapsed": true,
    "jupyter": {
     "outputs_hidden": true
    },
    "tags": []
   },
   "outputs": [
    {
     "data": {
      "text/plain": [
       "OutMultiEdgeDataView([(0, 1, {'label': 'd'}), (2, 3, {'label': 'd'}), (4, 5, {'label': 'a'}), (4, 146, {'label': 'a'}), (4, 322, {'label': 'a'}), (6, 7, {'label': 'a'}), (6, 9, {'label': 'a'}), (8, 9, {'label': 'a'}), (8, 206, {'label': 'a'}), (8, 75, {'label': 'a'}), (8, 97, {'label': 'a'}), (8, 7, {'label': 'a'}), (8, 585, {'label': 'd'}), (9, 7, {'label': 'a'}), (10, 11, {'label': 'd'}), (11, 22, {'label': 'a'}), (12, 13, {'label': 'a'}), (12, 151, {'label': 'a'}), (13, 53, {'label': 'a'}), (13, 19, {'label': 'a'}), (13, 171, {'label': 'a'}), (14, 15, {'label': 'd'}), (15, 177, {'label': 'a'}), (15, 198, {'label': 'a'}), (16, 17, {'label': 'd'}), (18, 19, {'label': 'a'}), (19, 238, {'label': 'a'}), (19, 122, {'label': 'a'}), (19, 171, {'label': 'd'}), (19, 12, {'label': 'a'}), (20, 21, {'label': 'a'}), (20, 56, {'label': 'a'}), (22, 23, {'label': 'a'}), (22, 170, {'label': 'a'}), (22, 48, {'label': 'a'}), (22, 209, {'label': 'a'}), (22, 3, {'label': 'a'}), (24, 25, {'label': 'd'}), (26, 27, {'label': 'd'}), (27, 20, {'label': 'a'}), (28, 29, {'label': 'a'}), (28, 61, {'label': 'a'}), (29, 61, {'label': 'a'}), (30, 31, {'label': 'a'}), (30, 39, {'label': 'a'}), (31, 39, {'label': 'a'}), (32, 33, {'label': 'd'}), (34, 35, {'label': 'd'}), (36, 37, {'label': 'd'}), (38, 39, {'label': 'd'}), (40, 41, {'label': 'd'}), (42, 43, {'label': 'd'}), (44, 30, {'label': 'd'}), (45, 46, {'label': 'd'}), (46, 408, {'label': 'd'}), (47, 48, {'label': 'd'}), (49, 50, {'label': 'a'}), (49, 143, {'label': 'a'}), (49, 28, {'label': 'a'}), (51, 52, {'label': 'd'}), (52, 193, {'label': 'd'}), (53, 151, {'label': 'a'}), (53, 238, {'label': 'a'}), (53, 12, {'label': 'a'}), (54, 55, {'label': 'd'}), (57, 58, {'label': 'a'}), (59, 60, {'label': 'a'}), (59, 301, {'label': 'a'}), (62, 63, {'label': 'd'}), (64, 65, {'label': 'd'}), (65, 4, {'label': 'a'}), (66, 67, {'label': 'd'}), (68, 69, {'label': 'a'}), (68, 252, {'label': 'a'}), (69, 252, {'label': 'a'}), (70, 71, {'label': 'a'}), (70, 110, {'label': 'a'}), (70, 120, {'label': 'a'}), (70, 8, {'label': 'a'}), (70, 206, {'label': 'a'}), (70, 52, {'label': 'a'}), (72, 73, {'label': 'a'}), (72, 118, {'label': 'a'}), (72, 223, {'label': 'a'}), (72, 299, {'label': 'a'}), (72, 612, {'label': 'a'}), (73, 257, {'label': 'a'}), (73, 300, {'label': 'a'}), (74, 75, {'label': 'a'}), (74, 97, {'label': 'a'}), (75, 97, {'label': 'a'}), (76, 75, {'label': 'a'}), (76, 97, {'label': 'a'}), (77, 78, {'label': 'd'}), (78, 280, {'label': 'a'}), (78, 379, {'label': 'a'}), (79, 18, {'label': 'a'}), (79, 19, {'label': 'd'}), (79, 19, {'label': 'a'}), (80, 81, {'label': 'd'}), (82, 83, {'label': 'd'}), (84, 85, {'label': 'd'}), (85, 216, {'label': 'a'}), (86, 87, {'label': 'd'}), (88, 89, {'label': 'd'}), (90, 91, {'label': 'd'}), (91, 129, {'label': 'a'}), (91, 144, {'label': 'a'}), (91, 167, {'label': 'a'}), (91, 243, {'label': 'a'}), (92, 93, {'label': 'd'}), (93, 37, {'label': 'a'}), (94, 95, {'label': 'd'}), (96, 97, {'label': 'a'}), (96, 75, {'label': 'a'}), (98, 99, {'label': 'd'}), (99, 31, {'label': 'a'}), (99, 39, {'label': 'a'}), (100, 4, {'label': 'd'}), (101, 102, {'label': 'a'}), (102, 422, {'label': 'd'}), (103, 83, {'label': 'a'}), (103, 486, {'label': 'a'}), (104, 105, {'label': 'd'}), (106, 107, {'label': 'd'}), (108, 109, {'label': 'd'}), (109, 7, {'label': 'a'}), (109, 9, {'label': 'a'}), (109, 8, {'label': 'a'}), (109, 206, {'label': 'a'}), (110, 71, {'label': 'a'}), (111, 112, {'label': 'd'}), (113, 114, {'label': 'a'}), (114, 295, {'label': 'a'}), (114, 245, {'label': 'a'}), (115, 71, {'label': 'd'}), (116, 117, {'label': 'd'}), (118, 73, {'label': 'a'}), (119, 120, {'label': 'a'}), (119, 68, {'label': 'a'}), (119, 52, {'label': 'a'}), (119, 438, {'label': 'a'}), (120, 52, {'label': 'a'}), (121, 122, {'label': 'a'}), (121, 241, {'label': 'a'}), (123, 59, {'label': 'a'}), (123, 506, {'label': 'd'}), (124, 58, {'label': 'a'}), (125, 75, {'label': 'a'}), (125, 97, {'label': 'a'}), (126, 127, {'label': 'd'}), (128, 5, {'label': 'd'}), (129, 243, {'label': 'a'}), (130, 131, {'label': 'd'}), (131, 595, {'label': 'a'}), (132, 97, {'label': 'a'}), (132, 75, {'label': 'a'}), (133, 134, {'label': 'd'}), (135, 58, {'label': 'a'}), (136, 137, {'label': 'd'}), (138, 139, {'label': 'd'}), (139, 213, {'label': 'a'}), (139, 568, {'label': 'a'}), (139, 467, {'label': 'a'}), (140, 58, {'label': 'a'}), (141, 142, {'label': 'd'}), (144, 129, {'label': 'a'}), (144, 243, {'label': 'a'}), (145, 146, {'label': 'd'}), (147, 148, {'label': 'd'}), (148, 73, {'label': 'a'}), (148, 118, {'label': 'a'}), (148, 223, {'label': 'a'}), (148, 299, {'label': 'a'}), (149, 97, {'label': 'a'}), (149, 291, {'label': 'a'}), (149, 120, {'label': 'a'}), (149, 195, {'label': 'a'}), (149, 8, {'label': 'a'}), (149, 206, {'label': 'a'}), (149, 52, {'label': 'a'}), (149, 75, {'label': 'a'}), (150, 114, {'label': 'd'}), (152, 153, {'label': 'd'}), (154, 155, {'label': 'a'}), (156, 157, {'label': 'a'}), (156, 479, {'label': 'a'}), (158, 159, {'label': 'd'}), (160, 161, {'label': 'd'}), (161, 375, {'label': 'a'}), (162, 163, {'label': 'd'}), (164, 165, {'label': 'd'}), (165, 174, {'label': 'a'}), (165, 165, {'label': 'a'}), (166, 161, {'label': 'a'}), (166, 375, {'label': 'a'}), (167, 144, {'label': 'a'}), (168, 169, {'label': 'd'}), (171, 12, {'label': 'a'}), (171, 238, {'label': 'a'}), (172, 8, {'label': 'a'}), (172, 206, {'label': 'a'}), (172, 536, {'label': 'd'}), (173, 174, {'label': 'd'}), (174, 165, {'label': 'a'}), (175, 176, {'label': 'd'}), (177, 178, {'label': 'a'}), (178, 310, {'label': 'a'}), (179, 180, {'label': 'd'}), (181, 182, {'label': 'd'}), (182, 553, {'label': 'd'}), (183, 184, {'label': 'd'}), (185, 186, {'label': 'd'}), (186, 261, {'label': 'a'}), (187, 188, {'label': 'd'}), (189, 61, {'label': 'd'}), (190, 97, {'label': 'd'}), (191, 192, {'label': 'd'}), (192, 305, {'label': 'a'}), (192, 389, {'label': 'a'}), (192, 569, {'label': 'a'}), (192, 453, {'label': 'a'}), (194, 195, {'label': 'd'}), (196, 197, {'label': 'd'}), (198, 177, {'label': 'a'}), (199, 200, {'label': 'd'}), (201, 177, {'label': 'd'}), (202, 203, {'label': 'd'}), (203, 325, {'label': 'a'}), (204, 205, {'label': 'd'}), (205, 93, {'label': 'a'}), (206, 8, {'label': 'a'}), (207, 208, {'label': 'd'}), (210, 97, {'label': 'a'}), (210, 75, {'label': 'a'}), (211, 102, {'label': 'a'}), (211, 101, {'label': 'a'}), (212, 213, {'label': 'd'}), (214, 75, {'label': 'a'}), (214, 97, {'label': 'a'}), (215, 216, {'label': 'd'}), (217, 218, {'label': 'd'}), (219, 220, {'label': 'd'}), (221, 148, {'label': 'a'}), (222, 223, {'label': 'd'}), (223, 299, {'label': 'a'}), (224, 198, {'label': 'd'}), (225, 226, {'label': 'd'}), (227, 228, {'label': 'a'}), (229, 157, {'label': 'd'}), (230, 231, {'label': 'a'}), (232, 58, {'label': 'a'}), (233, 234, {'label': 'd'}), (235, 21, {'label': 'd'}), (236, 237, {'label': 'd'}), (238, 12, {'label': 'a'}), (239, 240, {'label': 'd'}), (241, 122, {'label': 'a'}), (242, 243, {'label': 'd'}), (244, 245, {'label': 'd'}), (245, 157, {'label': 'a'}), (246, 247, {'label': 'd'}), (247, 15, {'label': 'a'}), (248, 249, {'label': 'd'}), (250, 251, {'label': 'd'}), (253, 254, {'label': 'd'}), (255, 75, {'label': 'a'}), (255, 97, {'label': 'a'}), (256, 257, {'label': 'd'}), (257, 300, {'label': 'a'}), (258, 158, {'label': 'd'}), (259, 260, {'label': 'd'}), (262, 263, {'label': 'd'}), (264, 265, {'label': 'd'}), (266, 29, {'label': 'd'}), (267, 268, {'label': 'd'}), (269, 270, {'label': 'd'}), (271, 272, {'label': 'd'}), (273, 197, {'label': 'a'}), (274, 72, {'label': 'a'}), (275, 261, {'label': 'd'}), (276, 277, {'label': 'a'}), (277, 227, {'label': 'd'}), (278, 58, {'label': 'd'}), (279, 151, {'label': 'd'}), (281, 282, {'label': 'a'}), (283, 226, {'label': 'a'}), (284, 205, {'label': 'a'}), (285, 123, {'label': 'a'}), (286, 287, {'label': 'd'}), (288, 231, {'label': 'd'}), (289, 290, {'label': 'd'}), (291, 195, {'label': 'a'}), (292, 75, {'label': 'a'}), (292, 97, {'label': 'a'}), (293, 294, {'label': 'd'}), (295, 157, {'label': 'a'}), (296, 297, {'label': 'd'}), (297, 609, {'label': 'd'}), (298, 31, {'label': 'd'}), (299, 300, {'label': 'a'}), (299, 257, {'label': 'a'}), (301, 366, {'label': 'a'}), (302, 303, {'label': 'd'}), (304, 305, {'label': 'd'}), (306, 282, {'label': 'd'}), (307, 75, {'label': 'a'}), (307, 97, {'label': 'a'}), (308, 7, {'label': 'a'}), (308, 9, {'label': 'a'}), (309, 310, {'label': 'd'}), (311, 312, {'label': 'd'}), (312, 617, {'label': 'd'}), (313, 314, {'label': 'd'}), (315, 316, {'label': 'd'}), (317, 318, {'label': 'd'}), (319, 320, {'label': 'd'}), (320, 375, {'label': 'a'}), (320, 161, {'label': 'a'}), (321, 322, {'label': 'd'}), (323, 324, {'label': 'd'}), (326, 68, {'label': 'd'}), (327, 328, {'label': 'd'}), (329, 330, {'label': 'd'}), (331, 50, {'label': 'a'}), (331, 143, {'label': 'a'}), (332, 73, {'label': 'd'}), (333, 334, {'label': 'd'}), (335, 91, {'label': 'a'}), (336, 337, {'label': 'd'}), (338, 273, {'label': 'd'}), (339, 340, {'label': 'd'}), (341, 75, {'label': 'a'}), (341, 97, {'label': 'a'}), (342, 50, {'label': 'd'}), (343, 228, {'label': 'd'}), (344, 345, {'label': 'd'}), (346, 347, {'label': 'd'}), (347, 163, {'label': 'a'}), (348, 323, {'label': 'd'}), (349, 350, {'label': 'd'}), (351, 352, {'label': 'd'}), (352, 108, {'label': 'a'}), (353, 354, {'label': 'd'}), (354, 63, {'label': 'a'}), (355, 356, {'label': 'd'}), (357, 358, {'label': 'd'}), (358, 251, {'label': 'a'}), (358, 8, {'label': 'a'}), (358, 501, {'label': 'a'}), (358, 206, {'label': 'a'}), (358, 521, {'label': 'd'}), (359, 28, {'label': 'a'}), (360, 336, {'label': 'd'}), (361, 102, {'label': 'a'}), (361, 101, {'label': 'a'}), (362, 363, {'label': 'd'}), (364, 365, {'label': 'd'}), (366, 438, {'label': 'a'}), (367, 368, {'label': 'd'}), (369, 58, {'label': 'a'}), (370, 231, {'label': 'a'}), (370, 230, {'label': 'a'}), (371, 372, {'label': 'd'}), (373, 122, {'label': 'd'}), (374, 375, {'label': 'd'}), (376, 88, {'label': 'd'}), (377, 316, {'label': 'a'}), (378, 28, {'label': 'd'}), (380, 381, {'label': 'd'}), (381, 495, {'label': 'd'}), (382, 181, {'label': 'd'}), (383, 384, {'label': 'd'}), (385, 167, {'label': 'd'}), (386, 387, {'label': 'd'}), (388, 129, {'label': 'd'}), (390, 273, {'label': 'a'}), (391, 392, {'label': 'd'}), (393, 178, {'label': 'd'}), (394, 20, {'label': 'd'}), (395, 396, {'label': 'd'}), (397, 58, {'label': 'a'}), (398, 399, {'label': 'd'}), (400, 59, {'label': 'd'}), (401, 402, {'label': 'd'}), (403, 404, {'label': 'd'}), (405, 75, {'label': 'a'}), (405, 97, {'label': 'a'}), (406, 407, {'label': 'd'}), (409, 268, {'label': 'a'}), (410, 155, {'label': 'd'}), (411, 91, {'label': 'a'}), (412, 413, {'label': 'd'}), (414, 123, {'label': 'd'}), (415, 416, {'label': 'd'}), (417, 311, {'label': 'd'}), (418, 419, {'label': 'd'}), (420, 7, {'label': 'd'}), (421, 422, {'label': 'a'}), (423, 274, {'label': 'd'}), (424, 75, {'label': 'a'}), (424, 97, {'label': 'a'}), (425, 426, {'label': 'd'}), (427, 368, {'label': 'a'}), (427, 459, {'label': 'a'}), (428, 116, {'label': 'd'}), (429, 430, {'label': 'd'}), (431, 144, {'label': 'd'}), (432, 272, {'label': 'a'}), (433, 434, {'label': 'd'}), (435, 436, {'label': 'd'}), (437, 101, {'label': 'd'}), (438, 439, {'label': 'd'}), (438, 13, {'label': 'a'}), (438, 68, {'label': 'a'}), (440, 441, {'label': 'd'}), (442, 443, {'label': 'd'}), (444, 421, {'label': 'a'}), (445, 143, {'label': 'd'}), (446, 447, {'label': 'd'}), (448, 238, {'label': 'd'}), (449, 206, {'label': 'd'}), (450, 27, {'label': 'a'}), (451, 110, {'label': 'd'}), (452, 453, {'label': 'd'}), (454, 72, {'label': 'd'}), (455, 60, {'label': 'd'}), (456, 457, {'label': 'd'}), (458, 459, {'label': 'd'}), (459, 368, {'label': 'a'}), (460, 461, {'label': 'd'}), (462, 75, {'label': 'd'}), (463, 285, {'label': 'd'}), (464, 280, {'label': 'd'}), (465, 22, {'label': 'd'}), (466, 467, {'label': 'd'}), (468, 469, {'label': 'a'}), (470, 438, {'label': 'a'}), (471, 379, {'label': 'd'}), (472, 103, {'label': 'd'}), (473, 69, {'label': 'd'}), (474, 253, {'label': 'd'}), (475, 209, {'label': 'd'}), (476, 477, {'label': 'd'}), (478, 166, {'label': 'd'}), (479, 157, {'label': 'a'}), (480, 157, {'label': 'a'}), (480, 479, {'label': 'a'}), (481, 75, {'label': 'a'}), (481, 97, {'label': 'a'}), (482, 157, {'label': 'a'}), (482, 479, {'label': 'a'}), (483, 7, {'label': 'a'}), (483, 9, {'label': 'a'}), (484, 121, {'label': 'd'}), (485, 486, {'label': 'd'}), (487, 488, {'label': 'a'}), (489, 53, {'label': 'd'}), (490, 491, {'label': 'd'}), (492, 493, {'label': 'd'}), (494, 291, {'label': 'd'}), (496, 497, {'label': 'd'}), (498, 276, {'label': 'd'}), (499, 500, {'label': 'd'}), (501, 251, {'label': 'a'}), (502, 503, {'label': 'd'}), (504, 505, {'label': 'a'}), (506, 536, {'label': 'a'}), (507, 508, {'label': 'd'}), (509, 510, {'label': 'd'}), (510, 260, {'label': 'a'}), (511, 91, {'label': 'a'}), (512, 8, {'label': 'd'}), (513, 252, {'label': 'd'}), (514, 501, {'label': 'd'}), (515, 516, {'label': 'd'}), (517, 325, {'label': 'd'}), (518, 300, {'label': 'd'}), (519, 520, {'label': 'd'}), (522, 523, {'label': 'd'}), (524, 170, {'label': 'd'}), (525, 515, {'label': 'd'}), (526, 438, {'label': 'd'}), (527, 528, {'label': 'd'}), (529, 530, {'label': 'd'}), (531, 532, {'label': 'd'}), (533, 157, {'label': 'a'}), (533, 479, {'label': 'a'}), (534, 421, {'label': 'd'}), (535, 277, {'label': 'd'}), (537, 538, {'label': 'a'}), (539, 540, {'label': 'd'}), (541, 542, {'label': 'd'}), (543, 469, {'label': 'd'}), (544, 545, {'label': 'd'}), (546, 547, {'label': 'd'}), (548, 274, {'label': 'a'}), (549, 13, {'label': 'd'}), (550, 551, {'label': 'd'}), (552, 108, {'label': 'd'}), (554, 555, {'label': 'd'}), (556, 91, {'label': 'a'}), (557, 58, {'label': 'a'}), (558, 72, {'label': 'a'}), (559, 221, {'label': 'd'}), (560, 561, {'label': 'd'}), (562, 241, {'label': 'd'}), (563, 366, {'label': 'd'}), (564, 565, {'label': 'd'}), (566, 368, {'label': 'a'}), (566, 459, {'label': 'a'}), (567, 120, {'label': 'd'}), (570, 571, {'label': 'd'}), (571, 589, {'label': 'a'}), (572, 23, {'label': 'd'}), (573, 574, {'label': 'd'}), (575, 118, {'label': 'd'}), (576, 504, {'label': 'd'}), (577, 578, {'label': 'd'}), (579, 11, {'label': 'a'}), (580, 230, {'label': 'd'}), (581, 9, {'label': 'd'}), (582, 488, {'label': 'd'}), (583, 389, {'label': 'd'}), (584, 58, {'label': 'a'}), (586, 56, {'label': 'd'}), (587, 548, {'label': 'd'}), (588, 102, {'label': 'd'}), (590, 591, {'label': 'd'}), (592, 569, {'label': 'd'}), (593, 538, {'label': 'd'}), (594, 301, {'label': 'd'}), (596, 597, {'label': 'd'}), (598, 599, {'label': 'd'}), (600, 601, {'label': 'd'}), (602, 603, {'label': 'd'}), (604, 283, {'label': 'd'}), (605, 123, {'label': 'a'}), (606, 589, {'label': 'd'}), (607, 608, {'label': 'd'}), (610, 611, {'label': 'd'}), (613, 612, {'label': 'd'}), (614, 615, {'label': 'd'}), (616, 479, {'label': 'd'}), (618, 18, {'label': 'd'}), (619, 620, {'label': 'd'}), (621, 595, {'label': 'd'}), (622, 281, {'label': 'd'}), (623, 624, {'label': 'd'}), (625, 568, {'label': 'd'}), (626, 299, {'label': 'd'}), (627, 505, {'label': 'd'}), (628, 273, {'label': 'a'}), (629, 558, {'label': 'd'}), (630, 12, {'label': 'd'}), (631, 295, {'label': 'd'})])"
      ]
     },
     "execution_count": 17,
     "metadata": {},
     "output_type": "execute_result"
    }
   ],
   "source": [
    "bzip.edges(data=True)"
   ]
  },
  {
   "cell_type": "code",
   "execution_count": 5,
   "id": "1eff3bc9-7539-4932-ad1e-d971d891906a",
   "metadata": {},
   "outputs": [
    {
     "name": "stderr",
     "output_type": "stream",
     "text": [
      "[2023-02-23 21:07:30]>INFO>Create a cycle graph=<networkx.classes.multidigraph.MultiDiGraph object at 0x7fcb1a556410> with n=5, label='a'\n"
     ]
    }
   ],
   "source": [
    "cycle = cfpq_data.labeled_cycle_graph(5, label=\"a\")"
   ]
  },
  {
   "cell_type": "code",
   "execution_count": 21,
   "id": "28d9d3b2-45ae-4158-99a8-56770c7a71af",
   "metadata": {
    "tags": []
   },
   "outputs": [
    {
     "data": {
      "text/plain": [
       "OutMultiEdgeDataView([(0, 1, {'label': 'a'}), (1, 2, {'label': 'a'}), (2, 3, {'label': 'a'}), (3, 4, {'label': 'a'}), (4, 0, {'label': 'a'})])"
      ]
     },
     "execution_count": 21,
     "metadata": {},
     "output_type": "execute_result"
    }
   ],
   "source": [
    "cycle.edges(data=True)"
   ]
  },
  {
   "cell_type": "code",
   "execution_count": 22,
   "id": "dc351a9f-b7c0-4a65-b453-a63ff69ed1fd",
   "metadata": {
    "tags": []
   },
   "outputs": [
    {
     "name": "stderr",
     "output_type": "stream",
     "text": [
      "[2023-02-23 21:19:17]>INFO>Create a graph=<networkx.classes.multidigraph.MultiDiGraph object at 0x7fcb19dddae0> with two cycles connected by one node with n=42, m=29, common_node=0, labels=('a', 'b')\n"
     ]
    }
   ],
   "source": [
    "g = cfpq_data.labeled_two_cycles_graph(42, 29)"
   ]
  },
  {
   "cell_type": "code",
   "execution_count": 27,
   "id": "7ed1c2df-25a9-4417-9750-d0e21f795388",
   "metadata": {
    "tags": []
   },
   "outputs": [
    {
     "data": {
      "text/plain": [
       "OutMultiEdgeDataView([(1, 2, {'label': 'a'}), (2, 3, {'label': 'a'}), (3, 4, {'label': 'a'}), (4, 5, {'label': 'a'}), (5, 6, {'label': 'a'}), (6, 7, {'label': 'a'}), (7, 8, {'label': 'a'}), (8, 9, {'label': 'a'}), (9, 10, {'label': 'a'}), (10, 11, {'label': 'a'}), (11, 12, {'label': 'a'}), (12, 13, {'label': 'a'}), (13, 14, {'label': 'a'}), (14, 15, {'label': 'a'}), (15, 16, {'label': 'a'}), (16, 17, {'label': 'a'}), (17, 18, {'label': 'a'}), (18, 19, {'label': 'a'}), (19, 20, {'label': 'a'}), (20, 21, {'label': 'a'}), (21, 22, {'label': 'a'}), (22, 23, {'label': 'a'}), (23, 24, {'label': 'a'}), (24, 25, {'label': 'a'}), (25, 26, {'label': 'a'}), (26, 27, {'label': 'a'}), (27, 28, {'label': 'a'}), (28, 29, {'label': 'a'}), (29, 30, {'label': 'a'}), (30, 31, {'label': 'a'}), (31, 32, {'label': 'a'}), (32, 33, {'label': 'a'}), (33, 34, {'label': 'a'}), (34, 35, {'label': 'a'}), (35, 36, {'label': 'a'}), (36, 37, {'label': 'a'}), (37, 38, {'label': 'a'}), (38, 39, {'label': 'a'}), (39, 40, {'label': 'a'}), (40, 41, {'label': 'a'}), (41, 42, {'label': 'a'}), (42, 0, {'label': 'a'}), (0, 1, {'label': 'a'}), (0, 43, {'label': 'b'}), (43, 44, {'label': 'b'}), (44, 45, {'label': 'b'}), (45, 46, {'label': 'b'}), (46, 47, {'label': 'b'}), (47, 48, {'label': 'b'}), (48, 49, {'label': 'b'}), (49, 50, {'label': 'b'}), (50, 51, {'label': 'b'}), (51, 52, {'label': 'b'}), (52, 53, {'label': 'b'}), (53, 54, {'label': 'b'}), (54, 55, {'label': 'b'}), (55, 56, {'label': 'b'}), (56, 57, {'label': 'b'}), (57, 58, {'label': 'b'}), (58, 59, {'label': 'b'}), (59, 60, {'label': 'b'}), (60, 61, {'label': 'b'}), (61, 62, {'label': 'b'}), (62, 63, {'label': 'b'}), (63, 64, {'label': 'b'}), (64, 65, {'label': 'b'}), (65, 66, {'label': 'b'}), (66, 67, {'label': 'b'}), (67, 68, {'label': 'b'}), (68, 69, {'label': 'b'}), (69, 70, {'label': 'b'}), (70, 71, {'label': 'b'}), (71, 0, {'label': 'b'})])"
      ]
     },
     "execution_count": 27,
     "metadata": {},
     "output_type": "execute_result"
    }
   ],
   "source": [
    "g.edges(data=True)"
   ]
  },
  {
   "cell_type": "code",
   "execution_count": 28,
   "id": "0ace904e-407e-488c-940f-ced6b200f661",
   "metadata": {
    "tags": []
   },
   "outputs": [
    {
     "name": "stderr",
     "output_type": "stream",
     "text": [
      "[2023-02-23 22:13:54]>INFO>Found graph with name='skos'\n",
      "[2023-02-23 22:13:54]>INFO>Load archive graph_archive=PosixPath('/hdd/Homework/sem10/FormalLangs/env/lib/python3.10/site-packages/cfpq_data/data/graphs/skos.tar.gz')\n",
      "[2023-02-23 22:13:54]>INFO>Unzip graph name='skos' to file graph=PosixPath('/hdd/Homework/sem10/FormalLangs/env/lib/python3.10/site-packages/cfpq_data/data/graphs/skos/skos.csv')\n",
      "[2023-02-23 22:13:54]>INFO>Remove archive graph_archive=PosixPath('/hdd/Homework/sem10/FormalLangs/env/lib/python3.10/site-packages/cfpq_data/data/graphs/skos.tar.gz')\n"
     ]
    }
   ],
   "source": [
    "skos_path = cfpq_data.download(\"skos\")"
   ]
  },
  {
   "cell_type": "code",
   "execution_count": 29,
   "id": "222ce441-6af8-40dc-a23c-0a6abcb88cee",
   "metadata": {
    "tags": []
   },
   "outputs": [
    {
     "name": "stderr",
     "output_type": "stream",
     "text": [
      "[2023-02-23 22:14:06]>INFO>Load graph=<networkx.classes.multidigraph.MultiDiGraph object at 0x7fcb19e61b40> from path=PosixPath('/hdd/Homework/sem10/FormalLangs/env/lib/python3.10/site-packages/cfpq_data/data/graphs/skos/skos.csv')\n"
     ]
    }
   ],
   "source": [
    "skos = cfpq_data.graph_from_csv(skos_path)"
   ]
  },
  {
   "cell_type": "code",
   "execution_count": 30,
   "id": "69c5148f-fd17-41f1-bc7f-7d3918e62fa7",
   "metadata": {
    "tags": []
   },
   "outputs": [
    {
     "data": {
      "text/plain": [
       "OutMultiEdgeDataView([(0, 1, {'label': 'subPropertyOf'}), (0, 48, {'label': 'label'}), (0, 65, {'label': 'comment'}), (0, 104, {'label': 'definition'}), (0, 5, {'label': 'isDefinedBy'}), (0, 30, {'label': 'type'}), (0, 10, {'label': 'type'}), (1, 8, {'label': 'definition'}), (1, 10, {'label': 'type'}), (1, 18, {'label': 'domain'}), (1, 18, {'label': 'range'}), (1, 62, {'label': 'label'}), (1, 95, {'label': 'scopeNote'}), (1, 30, {'label': 'type'}), (1, 5, {'label': 'isDefinedBy'}), (5, 54, {'label': 'seeAlso'}), (5, 55, {'label': 'type'}), (5, 66, {'label': 'title'}), (5, 69, {'label': 'contributor'}), (5, 72, {'label': 'description'}), (5, 103, {'label': 'creator'}), (5, 118, {'label': 'contributor'}), (5, 137, {'label': 'creator'}), (5, 141, {'label': 'contributor'}), (18, 73, {'label': 'label'}), (18, 101, {'label': 'definition'}), (18, 59, {'label': 'type'}), (18, 5, {'label': 'isDefinedBy'}), (2, 3, {'label': 'subPropertyOf'}), (2, 40, {'label': 'definition'}), (2, 42, {'label': 'inverseOf'}), (2, 30, {'label': 'type'}), (2, 5, {'label': 'isDefinedBy'}), (2, 0, {'label': 'subPropertyOf'}), (2, 10, {'label': 'type'}), (2, 120, {'label': 'label'}), (3, 49, {'label': 'comment'}), (3, 5, {'label': 'isDefinedBy'}), (3, 32, {'label': 'subPropertyOf'}), (3, 30, {'label': 'type'}), (3, 80, {'label': 'definition'}), (3, 88, {'label': 'scopeNote'}), (3, 10, {'label': 'type'}), (3, 140, {'label': 'label'}), (3, 77, {'label': 'inverseOf'}), (42, 43, {'label': 'label'}), (42, 5, {'label': 'isDefinedBy'}), (42, 0, {'label': 'subPropertyOf'}), (42, 2, {'label': 'inverseOf'}), (42, 10, {'label': 'type'}), (42, 106, {'label': 'definition'}), (42, 77, {'label': 'subPropertyOf'}), (42, 30, {'label': 'type'}), (32, 33, {'label': 'definition'}), (32, 36, {'label': 'type'}), (32, 10, {'label': 'type'}), (32, 1, {'label': 'subPropertyOf'}), (32, 50, {'label': 'inverseOf'}), (32, 63, {'label': 'label'}), (32, 81, {'label': 'scopeNote'}), (32, 5, {'label': 'isDefinedBy'}), (32, 30, {'label': 'type'}), (77, 3, {'label': 'inverseOf'}), (77, 99, {'label': 'definition'}), (77, 30, {'label': 'type'}), (77, 5, {'label': 'isDefinedBy'}), (77, 115, {'label': 'comment'}), (77, 121, {'label': 'label'}), (77, 50, {'label': 'subPropertyOf'}), (77, 88, {'label': 'scopeNote'}), (77, 10, {'label': 'type'}), (4, 5, {'label': 'isDefinedBy'}), (4, 23, {'label': 'comment'}), (4, 61, {'label': 'example'}), (4, 70, {'label': 'comment'}), (4, 26, {'label': 'type'}), (4, 91, {'label': 'definition'}), (4, 7, {'label': 'subPropertyOf'}), (4, 30, {'label': 'type'}), (4, 143, {'label': 'label'}), (6, 7, {'label': 'subPropertyOf'}), (6, 24, {'label': 'comment'}), (6, 5, {'label': 'isDefinedBy'}), (6, 76, {'label': 'comment'}), (6, 30, {'label': 'type'}), (6, 94, {'label': 'label'}), (6, 127, {'label': 'definition'}), (6, 26, {'label': 'type'}), (6, 142, {'label': 'comment'}), (9, 10, {'label': 'type'}), (9, 86, {'label': 'definition'}), (9, 89, {'label': 'subPropertyOf'}), (9, 109, {'label': 'label'}), (9, 5, {'label': 'isDefinedBy'}), (9, 30, {'label': 'type'}), (9, 138, {'label': 'comment'}), (9, 107, {'label': 'type'}), (9, 36, {'label': 'type'}), (89, 90, {'label': 'label'}), (89, 30, {'label': 'type'}), (89, 5, {'label': 'isDefinedBy'}), (89, 107, {'label': 'type'}), (89, 0, {'label': 'subPropertyOf'}), (89, 131, {'label': 'definition'}), (89, 10, {'label': 'type'}), (11, 12, {'label': 'label'}), (11, 10, {'label': 'type'}), (11, 64, {'label': 'definition'}), (11, 68, {'label': 'comment'}), (11, 30, {'label': 'type'}), (11, 5, {'label': 'isDefinedBy'}), (11, 107, {'label': 'type'}), (11, 1, {'label': 'subPropertyOf'}), (13, 14, {'label': 'subPropertyOf'}), (13, 5, {'label': 'isDefinedBy'}), (13, 30, {'label': 'type'}), (13, 110, {'label': 'label'}), (13, 44, {'label': 'inverseOf'}), (13, 10, {'label': 'type'}), (13, 52, {'label': 'range'}), (13, 132, {'label': 'definition'}), (13, 18, {'label': 'domain'}), (14, 82, {'label': 'definition'}), (14, 10, {'label': 'type'}), (14, 108, {'label': 'label'}), (14, 125, {'label': 'scopeNote'}), (14, 5, {'label': 'isDefinedBy'}), (14, 30, {'label': 'type'}), (14, 52, {'label': 'range'}), (44, 5, {'label': 'isDefinedBy'}), (44, 30, {'label': 'type'}), (44, 74, {'label': 'definition'}), (44, 52, {'label': 'domain'}), (44, 18, {'label': 'range'}), (44, 10, {'label': 'type'}), (44, 13, {'label': 'inverseOf'}), (44, 130, {'label': 'label'}), (52, 53, {'label': 'scopeNote'}), (52, 56, {'label': 'label'}), (52, 59, {'label': 'type'}), (52, 97, {'label': 'definition'}), (52, 5, {'label': 'isDefinedBy'}), (52, 113, {'label': 'example'}), (52, 18, {'label': 'disjointWith'}), (15, 16, {'label': 'definition'}), (15, 10, {'label': 'type'}), (15, 39, {'label': 'range'}), (15, 35, {'label': 'domain'}), (15, 30, {'label': 'type'}), (15, 5, {'label': 'isDefinedBy'}), (15, 133, {'label': 'label'}), (39, 17, {'label': 'unionOf'}), (39, 59, {'label': 'type'}), (35, 18, {'label': 'disjointWith'}), (35, 5, {'label': 'isDefinedBy'}), (35, 52, {'label': 'disjointWith'}), (35, 98, {'label': 'scopeNote'}), (35, 112, {'label': 'definition'}), (35, 129, {'label': 'label'}), (35, 59, {'label': 'type'}), (17, 18, {'label': 'first'}), (17, 123, {'label': 'rest'}), (123, 35, {'label': 'first'}), (123, 135, {'label': 'rest'}), (19, 20, {'label': 'definition'}), (19, 21, {'label': 'subPropertyOf'}), (19, 83, {'label': 'label'}), (19, 26, {'label': 'type'}), (19, 5, {'label': 'isDefinedBy'}), (19, 30, {'label': 'type'}), (21, 22, {'label': 'label'}), (21, 5, {'label': 'isDefinedBy'}), (21, 26, {'label': 'type'}), (21, 100, {'label': 'definition'}), (21, 119, {'label': 'scopeNote'}), (21, 30, {'label': 'type'}), (25, 26, {'label': 'type'}), (25, 34, {'label': 'label'}), (25, 7, {'label': 'subPropertyOf'}), (25, 87, {'label': 'definition'}), (25, 93, {'label': 'comment'}), (25, 30, {'label': 'type'}), (25, 5, {'label': 'isDefinedBy'}), (25, 70, {'label': 'comment'}), (27, 28, {'label': 'definition'}), (27, 57, {'label': 'type'}), (27, 5, {'label': 'isDefinedBy'}), (27, 92, {'label': 'scopeNote'}), (27, 30, {'label': 'type'}), (27, 111, {'label': 'label'}), (29, 30, {'label': 'type'}), (29, 60, {'label': 'label'}), (29, 96, {'label': 'definition'}), (29, 26, {'label': 'type'}), (29, 21, {'label': 'subPropertyOf'}), (29, 5, {'label': 'isDefinedBy'}), (31, 30, {'label': 'type'}), (31, 47, {'label': 'label'}), (31, 5, {'label': 'isDefinedBy'}), (31, 102, {'label': 'definition'}), (31, 21, {'label': 'subPropertyOf'}), (31, 26, {'label': 'type'}), (50, 5, {'label': 'isDefinedBy'}), (50, 32, {'label': 'inverseOf'}), (50, 85, {'label': 'scopeNote'}), (50, 1, {'label': 'subPropertyOf'}), (50, 30, {'label': 'type'}), (50, 36, {'label': 'type'}), (50, 10, {'label': 'type'}), (50, 117, {'label': 'definition'}), (50, 122, {'label': 'label'}), (37, 38, {'label': 'definition'}), (37, 5, {'label': 'isDefinedBy'}), (37, 51, {'label': 'label'}), (37, 30, {'label': 'type'}), (37, 67, {'label': 'comment'}), (37, 75, {'label': 'range'}), (37, 10, {'label': 'type'}), (37, 124, {'label': 'type'}), (37, 79, {'label': 'domain'}), (79, 35, {'label': 'subClassOf'}), (79, 116, {'label': 'scopeNote'}), (79, 126, {'label': 'label'}), (79, 128, {'label': 'definition'}), (79, 59, {'label': 'type'}), (79, 5, {'label': 'isDefinedBy'}), (41, 21, {'label': 'subPropertyOf'}), (41, 26, {'label': 'type'}), (41, 30, {'label': 'type'}), (41, 105, {'label': 'label'}), (41, 5, {'label': 'isDefinedBy'}), (41, 134, {'label': 'definition'}), (45, 46, {'label': 'label'}), (45, 5, {'label': 'isDefinedBy'}), (45, 26, {'label': 'type'}), (45, 84, {'label': 'definition'}), (45, 21, {'label': 'subPropertyOf'}), (45, 30, {'label': 'type'}), (58, 26, {'label': 'type'}), (58, 71, {'label': 'label'}), (58, 21, {'label': 'subPropertyOf'}), (58, 5, {'label': 'isDefinedBy'}), (58, 114, {'label': 'definition'}), (58, 30, {'label': 'type'}), (78, 5, {'label': 'isDefinedBy'}), (78, 0, {'label': 'subPropertyOf'}), (78, 30, {'label': 'type'}), (78, 107, {'label': 'type'}), (78, 10, {'label': 'type'}), (78, 136, {'label': 'label'}), (78, 139, {'label': 'definition'}), (78, 11, {'label': 'subPropertyOf'})])"
      ]
     },
     "execution_count": 30,
     "metadata": {},
     "output_type": "execute_result"
    }
   ],
   "source": [
    "skos.edges(data=True)"
   ]
  }
 ],
 "metadata": {
  "kernelspec": {
   "display_name": "Python 3 (ipykernel)",
   "language": "python",
   "name": "python3"
  },
  "language_info": {
   "codemirror_mode": {
    "name": "ipython",
    "version": 3
   },
   "file_extension": ".py",
   "mimetype": "text/x-python",
   "name": "python",
   "nbconvert_exporter": "python",
   "pygments_lexer": "ipython3",
   "version": "3.10.9"
  }
 },
 "nbformat": 4,
 "nbformat_minor": 5
}
