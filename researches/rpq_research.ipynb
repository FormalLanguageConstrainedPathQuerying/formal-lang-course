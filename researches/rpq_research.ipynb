{
  "nbformat": 4,
  "nbformat_minor": 0,
  "metadata": {
    "colab": {
      "name": "RPQ research",
      "provenance": [],
      "include_colab_link": true
    },
    "kernelspec": {
      "name": "python3",
      "display_name": "Python 3"
    },
    "language_info": {
      "name": "python"
    },
    "accelerator": "GPU"
  },
  "cells": [
    {
      "cell_type": "markdown",
      "metadata": {
        "id": "view-in-github",
        "colab_type": "text"
      },
      "source": [
        "<a href=\"https://colab.research.google.com/github/kznts9v-1lya/formal-lang-course/blob/task5-rpq-research/researches/rpq_research.ipynb\" target=\"_parent\"><img src=\"https://colab.research.google.com/assets/colab-badge.svg\" alt=\"Open In Colab\"/></a>"
      ]
    },
    {
      "cell_type": "markdown",
      "metadata": {
        "id": "N4X_1vHSZ5cA"
      },
      "source": [
        "# Автор [kznts9v_1lya](https://github.com/kznts9v-1lya)."
      ]
    },
    {
      "cell_type": "markdown",
      "metadata": {
        "id": "yk2eMvtFpowo"
      },
      "source": [
        "---\n",
        "\n",
        "# Экспериментальное исследование производительности CPU и GPU версий алгоритма Regular Path Quering."
      ]
    },
    {
      "cell_type": "markdown",
      "metadata": {
        "id": "yC1AlmimpjT8"
      },
      "source": [
        "## Введение\n",
        "\n",
        "Имеется **размеченный граф** $G$, задающий регулярный язык $L_G$.\n",
        "\n",
        "Имеется **регулярное выражение** $Q$, задающее регулярный язык ограничений $L_Q$.\n",
        "\n",
        "Задача $Regular Path Quering$ решает проблему достижимости между всеми парами вершин с регулярными ограничениями через тензорное произведение. Ограничения представляются в виде пар достижимых вершин графа, представляющего $L_G\\cap L_Q$.\n",
        "\n",
        "$RPQ = \\{(v_i, v_j)|\\exists\\pi:w(v_i\\pi v_j)\\in L, v_i\\in V_S, v_j\\in V_F\\}$, где $L = L_G\\cap L_Q$\n",
        "\n",
        "Известно свойство, что регулярные языки замкнуты относительно пересечения и по ним можно построить конечный автомат, допускающий эти языки. Именно поэтому $RPQ$ строит язык пересечения, задаваемый пересечением двух конечных автоматов $КА_{G}$ и $КА_{Q}$, допускающих $L_G$ и $L_Q$ соответсвенно, --- также конечным автоматом $КА_{I}$.\n",
        "\n",
        "Обратимся к определению, $КА_3 = КА_1\\cap КА_2 = (S^{1}\\times S^{2}, \\Delta^{3}, S^{1}_S\\times S^{2}_S, S^{1}_F\\times S^{2}_F)$, где функция переходов задаётся как\n",
        "$\\Delta^{3}: (v_i, v_j)\\times l_{abel}\\rightarrow (u_i, u_j)$\n",
        "\n",
        "$\n",
        "\\begin{cases}\n",
        "v_i\\in S^{1}\\times l\\rightarrow u_i\\in S^{1}\\in\\Delta^{1} \\\\\n",
        "v_j\\in S^{2}\\times l\\rightarrow u_j\\in S^{2}\\in\\Delta^{2}\n",
        "\\end{cases}$\n",
        "\n",
        "Для нахождения функции переходов $\\Delta^{I}$ используется алгоритм, основанный на тензорном произведении булевых матриц смежности конечных автоматов $КА_{G}$ и $КА_{Q}$, также известном как произведение Кронекера, и последующем построении транизитивного замыкания.\n",
        "\n",
        "В данной работе будет экспериментально исследована скорость работы описанного алгоритма решения проблемы $RPQ$, реализованный в двух вариантах $-$ на $CPU$ и $GPU$."
      ]
    },
    {
      "cell_type": "markdown",
      "metadata": {
        "id": "YLVGwYe4pibu"
      },
      "source": [
        "---\n",
        "\n",
        "## Постановка цели исследования\n",
        "\n",
        "Для достижения поставленной цели $-$ экспериментального исследования скорости работы описанного алгоритма решения проблемы $RPQ$ $-$ необходимо выполнить следующие подзадачи:\n",
        "\n",
        "- Используя разряженные матрицы [scipy.sparse](https://docs.scipy.org/doc/scipy/reference/sparse.html) реализовать алгоритм пересечения двух конечных автоматов через тензорное произведение с использованием $CPU$;\n",
        "- Используя библиотеку [pyCuBool](https://pypi.org/project/pycubool/) реализовать алгоритм пересечения двух конечных автоматов через тензорное произведение с использованием технологии $CUDA$ для $GPU$;\n",
        "- Сформировать датасет, необходимый для проведения экспериментов;\n",
        "- Произвести сравнительный анализ производительности версий алгоритма."
      ]
    },
    {
      "cell_type": "markdown",
      "metadata": {
        "id": "dkVwfu8KfAHo"
      },
      "source": [
        "---\n",
        "\n",
        "## Подготовка окружения"
      ]
    },
    {
      "cell_type": "code",
      "metadata": {
        "id": "QwsOy8uLoq5y"
      },
      "source": [
        "# Развёртывание репозитория\n",
        "!git clone https://github.com/kznts9v-1lya/formal-lang-course.git &> /dev/null\n",
        "!cd formal-lang-course && git checkout task5-rpq-research &> /dev/null"
      ],
      "execution_count": 81,
      "outputs": []
    },
    {
      "cell_type": "code",
      "metadata": {
        "id": "RekSR7GgpBKR"
      },
      "source": [
        "# Установка внешних зависимостей\n",
        "!pip install -r formal-lang-course/requirements.txt &> /dev/null\n",
        "!pip install pycubool &> /dev/null"
      ],
      "execution_count": 82,
      "outputs": []
    },
    {
      "cell_type": "code",
      "metadata": {
        "id": "1wcQJdNmpK19"
      },
      "source": [
        "# Инициализация директории в окружении\n",
        "import sys\n",
        "sys.path.insert(1, 'formal-lang-course')"
      ],
      "execution_count": 83,
      "outputs": []
    },
    {
      "cell_type": "markdown",
      "metadata": {
        "id": "BgbY1sZUfF2z"
      },
      "source": [
        "---\n",
        "\n",
        "## Описание данных исследования"
      ]
    },
    {
      "cell_type": "markdown",
      "metadata": {
        "id": "ptGwsEWtpay5"
      },
      "source": [
        "### Графы\n",
        "\n",
        "В качестве $G$ использовуются все графы из [RDF](https://jetbrains-research.github.io/CFPQ_Data/dataset/RDF.html) датасета, за исключением **taxonomy** и **taxonomy_hierarchy** из-за их исключительных размеров."
      ]
    },
    {
      "cell_type": "code",
      "metadata": {
        "id": "38ck5KGsqlQ8"
      },
      "source": [
        "# Названия использующихся графов\n",
        "\n",
        "GRAPH_NAMES = (\n",
        "    \"skos\",\n",
        "    \"generations\",\n",
        "    \"travel\",\n",
        "    \"univ_bench\",\n",
        "    \"atom_primitive\",\n",
        "    \"biomedical_mesure_primitive\",\n",
        "    \"foaf\",\n",
        "    \"people_pets\",\n",
        "    \"funding\",\n",
        "    \"wine\",\n",
        "    \"pizza\",\n",
        "    \"core\",\n",
        "    \"pathways\",\n",
        "    \"enzyme\",\n",
        "    \"go\",\n",
        "    \"go_hierarchy\",\n",
        "    \"eclass_514en\",\n",
        "    \"geospecies\",\n",
        ")"
      ],
      "execution_count": 84,
      "outputs": []
    },
    {
      "cell_type": "code",
      "metadata": {
        "id": "ROzjp4iuq_fC"
      },
      "source": [
        "# Объекты использующихся графов\n",
        "\n",
        "from project.graph_tools import get_from_dataset\n",
        "\n",
        "GRAPHS = []\n",
        "\n",
        "for graph_name in GRAPH_NAMES:\n",
        "  GRAPHS.append(get_from_dataset(graph_name)) "
      ],
      "execution_count": 85,
      "outputs": []
    },
    {
      "cell_type": "code",
      "metadata": {
        "id": "SdpC3YPgFusz",
        "colab": {
          "base_uri": "https://localhost:8080/",
          "height": 110
        },
        "outputId": "f14b21d7-a15f-4b3a-af62-7e3f9568a68e"
      },
      "source": [
        "# Информация об использующихся графах\n",
        "\n",
        "node_numbers = []\n",
        "edge_numbers = []\n",
        "for graph in GRAPHS:\n",
        "  node_number, edge_number = graph.description.nodes, graph.description.edges\n",
        "  node_numbers.append(node_number)\n",
        "  edge_numbers.append(edge_number)\n",
        "\n",
        "graph_descriptions_df = pd.DataFrame(\n",
        "    {\n",
        "      \"Node number\": node_numbers,\n",
        "      \"Edge number\": edge_numbers\n",
        "    },\n",
        "    index=GRAPH_NAMES\n",
        ")\n",
        "\n",
        "graph_descriptions_df"
      ],
      "execution_count": 86,
      "outputs": [
        {
          "output_type": "execute_result",
          "data": {
            "text/html": [
              "<div>\n",
              "<style scoped>\n",
              "    .dataframe tbody tr th:only-of-type {\n",
              "        vertical-align: middle;\n",
              "    }\n",
              "\n",
              "    .dataframe tbody tr th {\n",
              "        vertical-align: top;\n",
              "    }\n",
              "\n",
              "    .dataframe thead th {\n",
              "        text-align: right;\n",
              "    }\n",
              "</style>\n",
              "<table border=\"1\" class=\"dataframe\">\n",
              "  <thead>\n",
              "    <tr style=\"text-align: right;\">\n",
              "      <th></th>\n",
              "      <th>Node number</th>\n",
              "      <th>Edge number</th>\n",
              "    </tr>\n",
              "  </thead>\n",
              "  <tbody>\n",
              "    <tr>\n",
              "      <th>skos</th>\n",
              "      <td>144</td>\n",
              "      <td>252</td>\n",
              "    </tr>\n",
              "    <tr>\n",
              "      <th>generations</th>\n",
              "      <td>129</td>\n",
              "      <td>273</td>\n",
              "    </tr>\n",
              "  </tbody>\n",
              "</table>\n",
              "</div>"
            ],
            "text/plain": [
              "             Node number  Edge number\n",
              "skos                 144          252\n",
              "generations          129          273"
            ]
          },
          "metadata": {},
          "execution_count": 86
        }
      ]
    },
    {
      "cell_type": "markdown",
      "metadata": {
        "id": "tpSNNIRicWs6"
      },
      "source": [
        "### Запросы\n",
        "\n",
        "Запросы представляют из себя регулярные выражения. В них используются все общепринятые конструкции регулярных выражений (замыкание, конкатенация, альтернатива).\n",
        "\n",
        "Ниже приведён набор из четырёх используемых запросов.\n",
        "- $(L_0 | L_1)^* L_2$\n",
        "- $L_0 | L_2 | L_1^*$\n",
        "- $L_0 L_1 L_2 (L_3 | L_1)^*$\n",
        "- $(L_0 | L_3)^* | (L_1 | L_2)^*$"
      ]
    },
    {
      "cell_type": "markdown",
      "metadata": {
        "id": "mxC_RopAi2fg"
      },
      "source": [
        "#### Генераторы запросов\n",
        "\n",
        "\n",
        "Функции ниже отвечают за генерацию запросов как регулярных выражений."
      ]
    },
    {
      "cell_type": "code",
      "metadata": {
        "id": "8ZZa4rOarGL8"
      },
      "source": [
        "# Создание генераторов регулярных выражений --- запросов к графам\n",
        "\n",
        "from pyformlang.regular_expression.regex_objects import Symbol\n",
        "from pyformlang.regular_expression import Regex\n",
        "\n",
        "def _regex_from_label(label):\n",
        "  regex = Regex(\"\")\n",
        "  regex.head = Symbol(str(label))\n",
        "\n",
        "  return regex\n",
        "\n",
        "# (L0 | L1)* L2\n",
        "def query_one(labels):\n",
        "  \"\"\"\n",
        "  (L0 | L1)* L2\n",
        "  \"\"\"\n",
        "\n",
        "  label_regex_0 = _regex_from_label(labels[0])\n",
        "  label_regex_1 = _regex_from_label(labels[1])\n",
        "  label_regex_2 = _regex_from_label(labels[2])\n",
        "\n",
        "  return label_regex_0.union(label_regex_1).kleene_star().concatenate(label_regex_2)\n",
        "\n",
        "# L0 | L2 | L1*\n",
        "def query_two(labels):\n",
        "  \"\"\"\n",
        "  L0 | L2 | L1*\n",
        "  \"\"\"\n",
        "\n",
        "  label_regex_0 = _regex_from_label(labels[0])\n",
        "  label_regex_1 = _regex_from_label(labels[1])\n",
        "  label_regex_2 = _regex_from_label(labels[2])\n",
        "\n",
        "  return label_regex_0.union(label_regex_2).union(label_regex_1.kleene_star())\n",
        "\n",
        "# L0 L1 L2 (L3 | L1)*\n",
        "def query_three(labels):\n",
        "  \"\"\"\n",
        "  L0 L1 L2 (L3 | L1)*\n",
        "  \"\"\" \n",
        "\n",
        "  label_regex_0 = _regex_from_label(labels[0])\n",
        "  label_regex_1 = _regex_from_label(labels[1])\n",
        "  label_regex_2 = _regex_from_label(labels[2])\n",
        "  label_regex_3 = _regex_from_label(labels[3])\n",
        "\n",
        "  return label_regex_0.concatenate(label_regex_1).concatenate(label_regex_2).\\\n",
        "  concatenate((label_regex_3.union(label_regex_1)).kleene_star())\n",
        "\n",
        "# (L0 | L3)* | (L1 | L2)*\n",
        "def query_four(labels):\n",
        "  \"\"\"\n",
        "  (L0 | L3)* | (L1 | L2)*\n",
        "  \"\"\"\n",
        "\n",
        "  label_regex_0 = _regex_from_label(labels[0])\n",
        "  label_regex_1 = _regex_from_label(labels[1])\n",
        "  label_regex_2 = _regex_from_label(labels[2])\n",
        "  label_regex_3 = _regex_from_label(labels[3])\n",
        "\n",
        "  left_regex_part = (label_regex_0.union(label_regex_3)).kleene_star()\n",
        "  right_regex_part = (label_regex_1.union(label_regex_2)).kleene_star()\n",
        "\n",
        "  return left_regex_part.union(right_regex_part)\n",
        "\n",
        "QUERIES = [query_one, query_two, query_three, query_four]"
      ],
      "execution_count": 87,
      "outputs": []
    },
    {
      "cell_type": "markdown",
      "metadata": {
        "id": "63VKNyv6pe9D"
      },
      "source": [
        "---\n",
        "\n",
        "## Исследуемые версии алгоритма\n",
        "\n",
        "Элементами матрицы смежности для конечного автомата являются подмножества его меток, по которым возможен переход в данных состояниях. Чтобы не вводить операцию пересечения множеств в тензорном произведении, матрицы смежности двух конечных автоматов приводятся к виду булевых матриц по подмножеству символов.\n",
        "\n",
        "На практике, булевы матрицы являются сильно разреженными. Поэтому сравниваемые версии алгоритма используют библиотеки для работы с разреженными матрицами:\n",
        "\n",
        "- [scipy.sparse](https://docs.scipy.org/doc/scipy/reference/sparse.html): библиотека, использующаяся для реализаций операций с разряженными булевыми $dok$ матрицами на $CPU$;\n",
        "- [pyCuBool](https://pypi.org/project/pycubool/): библиотека, использующаяся для реализаций операций с разряженными булевыми матрицами на $GPU$."
      ]
    },
    {
      "cell_type": "markdown",
      "metadata": {
        "id": "Qb7j1dm2-8xH"
      },
      "source": [
        "### Реализация СPU-версии алгоритма ($scipy.sparse$) и GPU-версии алгоритма ($pyCuBool$)\n",
        "\n",
        "\n",
        "\n"
      ]
    },
    {
      "cell_type": "code",
      "metadata": {
        "id": "oKiGdZxi1X05"
      },
      "source": [
        "from typing import Set, Dict, Union\n",
        "\n",
        "import pycubool as cb\n",
        "import scipy.sparse as sps\n",
        "from pyformlang.finite_automaton import NondeterministicFiniteAutomaton, Symbol, State\n",
        "\n",
        "__all__ = [\"BooleanAdjacencies\"]\n",
        "\n",
        "\n",
        "class BooleanAdjacencies:\n",
        "    \"\"\"\n",
        "    Construct a Nondeterministic Finite Automaton boolean adjacency matrices\n",
        "    by symbols and encapsulates all the information lost in this case.\n",
        "\n",
        "    Supports CPU and GPU computing platforms.\n",
        "\n",
        "    Attributes\n",
        "    ----------\n",
        "    mode: str, default = \"cpu\"\n",
        "        Selected platform used for all calculations\n",
        "    boolean_adjacencies: Dict[Symbol, Union[sps.dok_matrix, cb.Matrix]]\n",
        "        Nondeterministic Finite Automaton boolean adjacency matrices by symbols\n",
        "    states_num: int\n",
        "        Number of states in specified Nondeterministic Finite Automaton\n",
        "    shape: Tuple[int, int]\n",
        "        Adjacency matrix size\n",
        "    states_nums: Dict[State, int]\n",
        "        States in specified Nondeterministic Finite Automaton and it's numbers\n",
        "    nums_states: Dict[int, State]\n",
        "        Numbers of states in specified Nondeterministic Finite Automaton\n",
        "        and the states itself\n",
        "    start_states: Set[State]\n",
        "        Start states in specified Nondeterministic Finite Automaton\n",
        "    final_states: Set[State]\n",
        "        Final states in specified Nondeterministic Finite Automaton\n",
        "    \"\"\"\n",
        "\n",
        "    def __init__(\n",
        "        self, nfa: NondeterministicFiniteAutomaton = None, mode: str = \"cpu\"\n",
        "    ) -> None:\n",
        "        \"\"\"\n",
        "        BooleanAdjacencies class constructor.\n",
        "\n",
        "        Parameters\n",
        "        ----------\n",
        "        nfa: NondeterministicFiniteAutomaton, default = None\n",
        "            Nondeterministic Finite Automaton to construct boolean adjacency matrices\n",
        "        mode: str, default = \"cpu\"\n",
        "            Allows to select the platform used for all calculations\n",
        "        \"\"\"\n",
        "\n",
        "        modes = [\"cpu\", \"gpu\"]\n",
        "        if mode not in modes:\n",
        "            raise ValueError(\"Invalid computing platform specified\")\n",
        "        self.mode = mode\n",
        "\n",
        "        self.states_num = 0\n",
        "        self.shape = (self.states_num, self.states_num)\n",
        "        self.states_nums = dict()\n",
        "        self.nums_states = dict()\n",
        "        self.start_states = set()\n",
        "        self.final_states = set()\n",
        "\n",
        "        self.boolean_adjacencies = dict()\n",
        "\n",
        "        if nfa is not None:\n",
        "            self.states_num = len(nfa.states)\n",
        "            self.shape = (self.states_num, self.states_num)\n",
        "            self.states_nums = {state: num for num, state in enumerate(nfa.states)}\n",
        "            self.nums_states = {num: state for num, state in enumerate(nfa.states)}\n",
        "            self.start_states = nfa.start_states\n",
        "            self.final_states = nfa.final_states\n",
        "\n",
        "            transition_func = nfa.to_dict()\n",
        "            self.boolean_adjacencies = self._get_boolean_adjacencies(transition_func)\n",
        "\n",
        "    def _get_boolean_adjacencies(\n",
        "        self, transition_func: Dict[State, Dict[Symbol, Union[State, Set[State]]]]\n",
        "    ) -> Dict[Symbol, Union[sps.dok_matrix, cb.Matrix]]:\n",
        "        \"\"\"\n",
        "        Construct a Nondeterministic Finite Automaton boolean adjacency\n",
        "        matrices by symbols.\n",
        "\n",
        "        Parameters\n",
        "        ----------\n",
        "        transition_func: Dict[State, Dict[Symbol, Union[State, Set[State]]]]\n",
        "            Transition function of Nondeterministic Finite Automaton\n",
        "\n",
        "        Returns\n",
        "        -------\n",
        "        Dict[Symbol, Union[sps.dok_matrix, cb.Matrix]]\n",
        "            Nondeterministic Finite Automaton boolean adjacency matrices\n",
        "            by symbols\n",
        "        \"\"\"\n",
        "\n",
        "        boolean_adjacencies = dict()\n",
        "\n",
        "        for state_from, transitions in transition_func.items():\n",
        "            for symbol, states_to in transitions.items():\n",
        "                if not isinstance(states_to, set):\n",
        "                    states_to = {states_to}\n",
        "\n",
        "                for state_to in states_to:\n",
        "                    state_from_num = self.states_nums[state_from]\n",
        "                    state_to_num = self.states_nums[state_to]\n",
        "\n",
        "                    if self.mode == \"cpu\":\n",
        "                        if symbol not in boolean_adjacencies:\n",
        "                            boolean_adjacencies[\n",
        "                                symbol\n",
        "                            ]: sps.dok_matrix = sps.dok_matrix(self.shape, dtype=bool)\n",
        "\n",
        "                        boolean_adjacencies[symbol][state_from_num, state_to_num] = True\n",
        "\n",
        "                    if self.mode == \"gpu\":\n",
        "                        if symbol not in boolean_adjacencies:\n",
        "                            boolean_adjacencies[symbol]: cb.Matrix = cb.Matrix.empty(\n",
        "                                self.shape\n",
        "                            )\n",
        "\n",
        "                        boolean_adjacencies[symbol][state_from_num, state_to_num] = True\n",
        "\n",
        "        return boolean_adjacencies\n",
        "\n",
        "    def intersect(self, other):\n",
        "        \"\"\"\n",
        "        Makes the intersection of two Nondeterministic Finite Automaton\n",
        "        presented as boolean adjacency matrices by symbols.\n",
        "\n",
        "        Warnings\n",
        "        --------\n",
        "        This method is NOT commutative:\n",
        "        other should be QUERY Nondeterministic Finite Automaton\n",
        "\n",
        "        Parameters\n",
        "        ----------\n",
        "        other: BooleanAdjacencies\n",
        "            BooleanAdjacencies of Nondeterministic Finite Automaton\n",
        "            to intersect with\n",
        "\n",
        "        Returns\n",
        "        -------\n",
        "        BooleanAdjacencies\n",
        "            The result of intersection presented as\n",
        "            boolean adjacency matrices by symbols\n",
        "        \"\"\"\n",
        "\n",
        "        intersection = BooleanAdjacencies()\n",
        "        intersection.mode = self.mode\n",
        "\n",
        "        intersection.states_num = self.states_num * other.states_num\n",
        "        intersection.shape = (intersection.states_num, intersection.states_num)\n",
        "        intersection_symbols = (\n",
        "            self.boolean_adjacencies.keys() & other.boolean_adjacencies.keys()\n",
        "        )\n",
        "\n",
        "        for symbol in intersection_symbols:\n",
        "            if self.mode == \"cpu\":\n",
        "                intersection.boolean_adjacencies[symbol] = sps.kron(\n",
        "                    self.boolean_adjacencies[symbol],\n",
        "                    other.boolean_adjacencies[symbol],\n",
        "                    format=\"dok\",\n",
        "                )\n",
        "\n",
        "            if self.mode == \"gpu\":\n",
        "                self_boolean_adjacency_indices = self.boolean_adjacencies[\n",
        "                    symbol\n",
        "                ].to_lists()\n",
        "                other_boolean_adjacency_indices = other.boolean_adjacencies[\n",
        "                    symbol\n",
        "                ].to_lists()\n",
        "                intersection.boolean_adjacencies[symbol] = cb.Matrix.from_lists(\n",
        "                    shape=self.shape,\n",
        "                    rows=self_boolean_adjacency_indices[0],\n",
        "                    cols=self_boolean_adjacency_indices[1],\n",
        "                ).kronecker(\n",
        "                    cb.Matrix.from_lists(\n",
        "                        shape=other.shape,\n",
        "                        rows=other_boolean_adjacency_indices[0],\n",
        "                        cols=other_boolean_adjacency_indices[1],\n",
        "                    )\n",
        "                )\n",
        "\n",
        "        for graph_state, graph_state_num in self.states_nums.items():\n",
        "            for query_state, query_state_num in other.states_nums.items():\n",
        "                intersection_state = State(str(query_state) + \"⋂\" + str(graph_state))\n",
        "                intersection_state_num = (\n",
        "                    graph_state_num * other.states_num + query_state_num\n",
        "                )\n",
        "\n",
        "                intersection.states_nums[intersection_state] = intersection_state_num\n",
        "                intersection.nums_states[intersection_state_num] = intersection_state\n",
        "\n",
        "                if (\n",
        "                    graph_state in self.start_states\n",
        "                    and query_state in other.start_states\n",
        "                ):\n",
        "                    intersection.start_states.add(intersection_state)\n",
        "\n",
        "                if (\n",
        "                    graph_state in self.final_states\n",
        "                    and query_state in other.final_states\n",
        "                ):\n",
        "                    intersection.final_states.add(intersection_state)\n",
        "\n",
        "        return intersection\n",
        "\n",
        "    def get_transitive_closure(self) -> Union[sps.dok_matrix, cb.Matrix]:\n",
        "        \"\"\"\n",
        "        Makes the transitive closure of Nondeterministic Finite Automaton\n",
        "        presented as boolean adjacency matrices by symbols.\n",
        "\n",
        "        Returns\n",
        "        -------\n",
        "        Union[sps.dok_matrix, cb.Matrix]:\n",
        "            Nondeterministic Finite Automaton transitive closure\n",
        "        \"\"\"\n",
        "\n",
        "        if self.mode == \"cpu\":\n",
        "            transitive_closure: sps.dok_matrix = sps.dok_matrix(\n",
        "                sps.csr_matrix(\n",
        "                    sum(\n",
        "                        boolean_adjacency\n",
        "                        for boolean_adjacency in self.boolean_adjacencies.values()\n",
        "                    ),\n",
        "                    dtype=bool,\n",
        "                ),\n",
        "                dtype=bool,\n",
        "            )\n",
        "\n",
        "            current_nonzeros = transitive_closure.nnz\n",
        "            next_nonzeros = 0\n",
        "\n",
        "            while current_nonzeros != next_nonzeros:\n",
        "                transitive_closure += transitive_closure @ transitive_closure\n",
        "\n",
        "                current_nonzeros, next_nonzeros = next_nonzeros, transitive_closure.nnz\n",
        "\n",
        "            return transitive_closure\n",
        "\n",
        "        if self.mode == \"gpu\":\n",
        "            shape = (0, 0)\n",
        "            if self.shape == shape:\n",
        "                shape = (1, 1)\n",
        "            else:\n",
        "                shape = self.shape\n",
        "            transitive_closure: cb.Matrix = cb.Matrix.empty(shape)\n",
        "\n",
        "            for boolean_adjacency in self.boolean_adjacencies.values():\n",
        "                boolean_adjacency_indices = boolean_adjacency.to_lists()\n",
        "\n",
        "                transitive_closure = transitive_closure.ewiseadd(\n",
        "                    cb.Matrix.from_lists(\n",
        "                        shape=shape,\n",
        "                        rows=boolean_adjacency_indices[0],\n",
        "                        cols=boolean_adjacency_indices[1],\n",
        "                    )\n",
        "                )\n",
        "\n",
        "            current_nonzeros = len(transitive_closure.to_list())\n",
        "            next_nonzeros = 0\n",
        "\n",
        "            while current_nonzeros != next_nonzeros:\n",
        "                transitive_closure_pow: cb.Matrix = transitive_closure.mxm(\n",
        "                    transitive_closure\n",
        "                )\n",
        "                transitive_closure = transitive_closure.ewiseadd(transitive_closure_pow)\n",
        "\n",
        "                current_nonzeros, next_nonzeros = next_nonzeros, len(\n",
        "                    transitive_closure.to_list()\n",
        "                )\n",
        "\n",
        "            return transitive_closure\n",
        "\n",
        "    def to_nfa(self) -> NondeterministicFiniteAutomaton:\n",
        "        \"\"\"\n",
        "        Construct a Nondeterministic Finite Automaton from\n",
        "        it's boolean adjacency matrices by symbols.\n",
        "\n",
        "        Returns\n",
        "        -------\n",
        "        NondeterministicFiniteAutomaton\n",
        "            The resulting Nondeterministic Finite Automaton\n",
        "        \"\"\"\n",
        "\n",
        "        nfa = NondeterministicFiniteAutomaton()\n",
        "\n",
        "        for symbol, boolean_adjacency in self.boolean_adjacencies.items():\n",
        "            if self.mode == \"cpu\":\n",
        "                boolean_adjacency_indices = sps.dok_matrix(\n",
        "                    boolean_adjacency, dtype=bool\n",
        "                ).nonzero()\n",
        "\n",
        "                for state_from_num, state_to_num in zip(*boolean_adjacency_indices):\n",
        "                    state_from = self.nums_states[state_from_num]\n",
        "                    state_to = self.nums_states[state_to_num]\n",
        "\n",
        "                    nfa.add_transition(state_from, symbol, state_to)\n",
        "\n",
        "            if self.mode == \"gpu\":\n",
        "                boolean_adjacency_indices = boolean_adjacency.to_lists()\n",
        "\n",
        "                for state_from_num, state_to_num in zip(*boolean_adjacency_indices):\n",
        "                    state_from = self.nums_states[state_from_num]\n",
        "                    state_to = self.nums_states[state_to_num]\n",
        "\n",
        "                    nfa.add_transition(state_from, symbol, state_to)\n",
        "\n",
        "        for start_state in self.start_states:\n",
        "            nfa.add_start_state(start_state)\n",
        "\n",
        "        for final_state in self.final_states:\n",
        "            nfa.add_final_state(final_state)\n",
        "\n",
        "        return nfa\n"
      ],
      "execution_count": 88,
      "outputs": []
    },
    {
      "cell_type": "markdown",
      "metadata": {
        "id": "bfmV5OHrlX4M"
      },
      "source": [
        ""
      ]
    },
    {
      "cell_type": "markdown",
      "metadata": {
        "id": "FC6XV1dclP5G"
      },
      "source": [
        "### Реализация общего алгоритма $RPQ$"
      ]
    },
    {
      "cell_type": "code",
      "metadata": {
        "id": "ElRYJ5AM1wHb"
      },
      "source": [
        "from typing import Tuple\n",
        "\n",
        "import networkx as nx\n",
        "from pyformlang.regular_expression import Regex\n",
        "\n",
        "from project.automaton_tools import get_min_dfa_from_regex, get_nfa_from_graph\n",
        "\n",
        "__all__ = [\"regular_path_querying\", \"regular_str_path_querying\"]\n",
        "\n",
        "\n",
        "def regular_str_path_querying(\n",
        "    graph: nx.MultiDiGraph,\n",
        "    query_str: str,\n",
        "    result: Tuple[Set],\n",
        "    start_node_nums: Set[int] = None,\n",
        "    final_node_nums: Set[int] = None,\n",
        "    mode: str = \"cpu\",\n",
        ") -> Set[Tuple[int, int]]:\n",
        "    \"\"\"\n",
        "    Using the specified graph and a regular query,\n",
        "    finds all pairs of reachable node numbers.\n",
        "\n",
        "    If actual regex is specified, regex_str is no longer taken into account.\n",
        "\n",
        "    If start_nodes or final_nodes are not specified,\n",
        "    all nodes are considered start or final respectively.\n",
        "\n",
        "    Parameters\n",
        "    ----------\n",
        "    graph: nx.MultiDiGraph\n",
        "        Graph for queries\n",
        "    query_str: str\n",
        "        Query to graph as a string\n",
        "    start_node_nums: Set[int], default = None\n",
        "        Set of start node numbers to configure Nondeterministic Finite Automaton,\n",
        "        which must exist in the graph\n",
        "    final_node_nums: Set[int], default = None\n",
        "        Set of final node numbers to configure Nondeterministic Finite Automaton,\n",
        "        which must exist in the graph\n",
        "    mode: str, default = \"cpu\"\n",
        "        Allows to select the platform used for all calculations\n",
        "\n",
        "    Returns\n",
        "    -------\n",
        "    Set[Tuple[int, int]]\n",
        "        Set of all pairs of reachable node numbers\n",
        "\n",
        "    Raises\n",
        "    ------\n",
        "    ValueError\n",
        "        If invalid computing platform specified\n",
        "    ValueError\n",
        "        If non-existent in the specified graph node number is used\n",
        "    MisformedRegexError\n",
        "        If specified regex_str has an irregular format\n",
        "    \"\"\"\n",
        "\n",
        "    result = regular_path_querying(\n",
        "        graph, Regex(query_str), start_node_nums, final_node_nums, mode\n",
        "    )\n",
        "\n",
        "    return result\n",
        "\n",
        "\n",
        "def regular_path_querying(\n",
        "    graph: nx.MultiDiGraph,\n",
        "    query_regex: Regex,\n",
        "    result: Tuple[Set],\n",
        "    start_node_nums: Set[int] = None,\n",
        "    final_node_nums: Set[int] = None,\n",
        "    mode: str = \"cpu\",\n",
        ") -> Set[Tuple[int, int]]:\n",
        "    \"\"\"\n",
        "    Using the specified graph and a regular query,\n",
        "    finds all pairs of reachable node numbers.\n",
        "\n",
        "    If start_nodes or final_nodes are not specified,\n",
        "    all nodes are considered start or final respectively.\n",
        "\n",
        "    Parameters\n",
        "    ----------\n",
        "    graph: nx.MultiDiGraph\n",
        "        Graph for queries\n",
        "    query_regex: Regex\n",
        "        Query to graph as complete Regex\n",
        "    start_node_nums: Set[int], default = None\n",
        "        Set of start node numbers to configure Nondeterministic Finite Automaton,\n",
        "        which must exist in the graph\n",
        "    final_node_nums: Set[int], default = None\n",
        "        Set of final node numbers to configure Nondeterministic Finite Automaton,\n",
        "        which must exist in the graph\n",
        "    mode: str, default = \"cpu\"\n",
        "        Allows to select the platform used for all calculations\n",
        "\n",
        "    Returns\n",
        "    -------\n",
        "    Set[Tuple[int, int]]\n",
        "        Set of all pairs of reachable node numbers\n",
        "\n",
        "    Raises\n",
        "    ------\n",
        "    ValueError\n",
        "        If invalid computing platform specified\n",
        "    ValueError\n",
        "        If non-existent in the specified graph node number is used\n",
        "    MisformedRegexError\n",
        "        If specified regex_str has an irregular format\n",
        "    \"\"\"\n",
        "\n",
        "    graph = BooleanAdjacencies(\n",
        "        get_nfa_from_graph(graph, start_node_nums, final_node_nums), mode\n",
        "    )\n",
        "\n",
        "    query = BooleanAdjacencies(get_min_dfa_from_regex(query_regex), mode)\n",
        "\n",
        "    intersection = graph.intersect(query)\n",
        "    transitive_closure = intersection.get_transitive_closure()\n",
        "\n",
        "    reachable_state_nums = set()\n",
        "\n",
        "    if mode == \"cpu\":\n",
        "        for state_from_num, state_to_num in zip(*transitive_closure.nonzero()):\n",
        "            state_from = intersection.nums_states[state_from_num]\n",
        "            state_to = intersection.nums_states[state_to_num]\n",
        "\n",
        "            if (\n",
        "                state_from in intersection.start_states\n",
        "                and state_to in intersection.final_states\n",
        "            ):\n",
        "                reachable_state_from_num = state_from_num // query.states_num\n",
        "                reachable_state_to_num = state_to_num // query.states_num\n",
        "\n",
        "                reachable_state_nums.add(\n",
        "                    (reachable_state_from_num, reachable_state_to_num)\n",
        "                )\n",
        "\n",
        "    if mode == \"gpu\":\n",
        "        for state_from_num, state_to_num in zip(*transitive_closure.to_lists()):\n",
        "            state_from = intersection.nums_states[state_from_num]\n",
        "            state_to = intersection.nums_states[state_to_num]\n",
        "\n",
        "            if (\n",
        "                state_from in intersection.start_states\n",
        "                and state_to in intersection.final_states\n",
        "            ):\n",
        "                reachable_state_from_num = state_from_num // query.states_num\n",
        "                reachable_state_to_num = state_to_num // query.states_num\n",
        "\n",
        "                reachable_state_nums.add(\n",
        "                    (reachable_state_from_num, reachable_state_to_num)\n",
        "                )\n",
        "\n",
        "\n",
        "    result = reachable_state_nums\n",
        "\n",
        "    return result\n"
      ],
      "execution_count": 89,
      "outputs": []
    },
    {
      "cell_type": "markdown",
      "metadata": {
        "id": "7uw0B5LpxClK"
      },
      "source": [
        "---\n",
        "\n",
        "## Сравнение производительности версий алгоритма\n",
        "\n",
        "Для сравнения времени работы (в **мс.**) версий $CPU$- и $GPU$-версий алгоритма к каждому графу задается по 4 запроса, каждый из которых выполняется 3 раза для поддержания баланса между точностью результата и длительностью эксперимента. При меньшей выборке теряется точность результата, при большей - длительность посчёта выходит за рамки разумного. В качестве результата берётся наилучшее (наименьшее) время.\n",
        "\n"
      ]
    },
    {
      "cell_type": "markdown",
      "metadata": {
        "id": "ebgoskPJnbMH"
      },
      "source": [
        "### Платформа для исследования\n",
        "\n",
        "Ниже представлена доступная информация о платформе **Google Colab**, на которой проходили эксперименты."
      ]
    },
    {
      "cell_type": "markdown",
      "metadata": {
        "id": "IPcZMZ_ZMHUC"
      },
      "source": [
        "#### ОС"
      ]
    },
    {
      "cell_type": "code",
      "metadata": {
        "id": "qyNw0qDFMMOT",
        "colab": {
          "base_uri": "https://localhost:8080/"
        },
        "outputId": "319dd3f2-2dbd-4315-f14c-ccdcfce3b4db"
      },
      "source": [
        "!cat /etc/os-release"
      ],
      "execution_count": 90,
      "outputs": [
        {
          "output_type": "stream",
          "name": "stdout",
          "text": [
            "NAME=\"Ubuntu\"\n",
            "VERSION=\"18.04.5 LTS (Bionic Beaver)\"\n",
            "ID=ubuntu\n",
            "ID_LIKE=debian\n",
            "PRETTY_NAME=\"Ubuntu 18.04.5 LTS\"\n",
            "VERSION_ID=\"18.04\"\n",
            "HOME_URL=\"https://www.ubuntu.com/\"\n",
            "SUPPORT_URL=\"https://help.ubuntu.com/\"\n",
            "BUG_REPORT_URL=\"https://bugs.launchpad.net/ubuntu/\"\n",
            "PRIVACY_POLICY_URL=\"https://www.ubuntu.com/legal/terms-and-policies/privacy-policy\"\n",
            "VERSION_CODENAME=bionic\n",
            "UBUNTU_CODENAME=bionic\n"
          ]
        }
      ]
    },
    {
      "cell_type": "markdown",
      "metadata": {
        "id": "skUL4m3PMOZA"
      },
      "source": [
        "#### CPU"
      ]
    },
    {
      "cell_type": "code",
      "metadata": {
        "id": "aVh8K7y1MUNC",
        "colab": {
          "base_uri": "https://localhost:8080/"
        },
        "outputId": "f3507900-0dea-4799-c2c2-416e01b44687"
      },
      "source": [
        "!lscpu | grep 'Model name'\n",
        "!lscpu | grep 'Socket(s)'\n",
        "!lscpu | grep 'Core(s) per socket:'\n",
        "!lscpu | grep 'Thread(s) per core'\n",
        "!lscpu | grep \"MHz\""
      ],
      "execution_count": 91,
      "outputs": [
        {
          "output_type": "stream",
          "name": "stdout",
          "text": [
            "Model name:          Intel(R) Xeon(R) CPU @ 2.30GHz\n",
            "Socket(s):           1\n",
            "Core(s) per socket:  1\n",
            "Thread(s) per core:  2\n",
            "CPU MHz:             2299.998\n"
          ]
        }
      ]
    },
    {
      "cell_type": "markdown",
      "metadata": {
        "id": "oYsspo-8MVv8"
      },
      "source": [
        "#### GPU"
      ]
    },
    {
      "cell_type": "code",
      "metadata": {
        "id": "8jkr6A9DMX-8",
        "colab": {
          "base_uri": "https://localhost:8080/"
        },
        "outputId": "cfbe540d-1309-4fff-a62b-8ca4a1ece67a"
      },
      "source": [
        "!nvidia-smi"
      ],
      "execution_count": 92,
      "outputs": [
        {
          "output_type": "stream",
          "name": "stdout",
          "text": [
            "Tue Oct 12 18:58:01 2021       \n",
            "+-----------------------------------------------------------------------------+\n",
            "| NVIDIA-SMI 470.74       Driver Version: 460.32.03    CUDA Version: 11.2     |\n",
            "|-------------------------------+----------------------+----------------------+\n",
            "| GPU  Name        Persistence-M| Bus-Id        Disp.A | Volatile Uncorr. ECC |\n",
            "| Fan  Temp  Perf  Pwr:Usage/Cap|         Memory-Usage | GPU-Util  Compute M. |\n",
            "|                               |                      |               MIG M. |\n",
            "|===============================+======================+======================|\n",
            "|   0  Tesla K80           Off  | 00000000:00:04.0 Off |                    0 |\n",
            "| N/A   57C    P8    31W / 149W |      3MiB / 11441MiB |      0%      Default |\n",
            "|                               |                      |                  N/A |\n",
            "+-------------------------------+----------------------+----------------------+\n",
            "                                                                               \n",
            "+-----------------------------------------------------------------------------+\n",
            "| Processes:                                                                  |\n",
            "|  GPU   GI   CI        PID   Type   Process name                  GPU Memory |\n",
            "|        ID   ID                                                   Usage      |\n",
            "|=============================================================================|\n",
            "|  No running processes found                                                 |\n",
            "+-----------------------------------------------------------------------------+\n"
          ]
        }
      ]
    },
    {
      "cell_type": "markdown",
      "metadata": {
        "id": "Wh-3iK4XMZV4"
      },
      "source": [
        "#### RAM"
      ]
    },
    {
      "cell_type": "code",
      "metadata": {
        "id": "LaCDHn8yMb3B",
        "colab": {
          "base_uri": "https://localhost:8080/"
        },
        "outputId": "af249fc5-f2c5-43cc-91bd-4ab0dbefeb96"
      },
      "source": [
        "!grep MemTotal /proc/meminfo"
      ],
      "execution_count": 93,
      "outputs": [
        {
          "output_type": "stream",
          "name": "stdout",
          "text": [
            "MemTotal:       13302916 kB\n"
          ]
        }
      ]
    },
    {
      "cell_type": "markdown",
      "metadata": {
        "id": "7ej4wol4pthh"
      },
      "source": [
        "### Производительность СPU-версии алгоритма ($scipy.sparse$)"
      ]
    },
    {
      "cell_type": "code",
      "metadata": {
        "id": "juk8SmezGcz6",
        "colab": {
          "base_uri": "https://localhost:8080/"
        },
        "outputId": "2dfb9ad1-4775-43c2-e822-c9382bbb92e9"
      },
      "source": [
        "import pandas as pd\n",
        "\n",
        "print(\"=== VERSION BASED ON CPU (scipy.sparse) ===\")\n",
        "\n",
        "queries = [\"(L0 | L1)* L2\", \"L0 | L2 | L1*\",\n",
        "          \"L0 L1 L2 (L3 | L1)*\", \"(L0 | L3)* | (L1 | L2)*\"]\n",
        "\n",
        "cpu_times_df = pd.DataFrame(index=queries, columns=GRAPH_NAMES)\n",
        "cpu_results = dict((graph.description.name, []) for graph in GRAPHS)\n",
        "\n",
        "for graph in GRAPHS:\n",
        "  labels = list(graph.description.edge_labels)\n",
        "\n",
        "  for index, query_generator in enumerate(QUERIES):\n",
        "    query = query_generator(labels)\n",
        "\n",
        "    print(str(graph))\n",
        "    print(f\"Query: {query_generator.__doc__}\")\n",
        "    print(\"Perfomance:\")\n",
        "    results = tuple()\n",
        "    time = None\n",
        "    if graph.description.name not in [\"go_hierarchy\", \"eclass_514en\", \"geospecies\"]:\n",
        "      time = %timeit -n 3 -o regular_path_querying(graph.graph, query, results, mode=\"cpu\")\n",
        "    else:\n",
        "      time = %timeit -n 1 -o regular_path_querying(graph.graph, query, results, mode=\"cpu\")\n",
        "    print(\"=== === ===\")\n",
        "\n",
        "    cpu_times_df.loc[queries[index], graph.description.name] = round(time.best * 1000, 2)\n",
        "    cpu_results[graph.description.name].append(results)"
      ],
      "execution_count": 94,
      "outputs": [
        {
          "output_type": "stream",
          "name": "stdout",
          "text": [
            "=== VERSION BASED ON CPU (scipy.sparse) ===\n",
            "Graph skos:\n",
            "- number of nodes: 144\n",
            "\t- number of edges: 252\n",
            "\t- edge labels: {rdflib.term.URIRef('http://www.w3.org/1999/02/22-rdf-syntax-ns#rest'), rdflib.term.URIRef('http://purl.org/dc/terms/title'), rdflib.term.URIRef('http://www.w3.org/2000/01/rdf-schema#domain'), rdflib.term.URIRef('http://www.w3.org/2000/01/rdf-schema#isDefinedBy'), rdflib.term.URIRef('http://www.w3.org/2000/01/rdf-schema#comment'), rdflib.term.URIRef('http://www.w3.org/2004/02/skos/core#definition'), rdflib.term.URIRef('http://www.w3.org/2000/01/rdf-schema#subClassOf'), rdflib.term.URIRef('http://www.w3.org/2000/01/rdf-schema#label'), rdflib.term.URIRef('http://www.w3.org/2002/07/owl#unionOf'), rdflib.term.URIRef('http://purl.org/dc/terms/description'), rdflib.term.URIRef('http://www.w3.org/2002/07/owl#inverseOf'), rdflib.term.URIRef('http://www.w3.org/2000/01/rdf-schema#range'), rdflib.term.URIRef('http://purl.org/dc/terms/creator'), rdflib.term.URIRef('http://www.w3.org/2004/02/skos/core#scopeNote'), rdflib.term.URIRef('http://www.w3.org/2000/01/rdf-schema#subPropertyOf'), rdflib.term.URIRef('http://purl.org/dc/terms/contributor'), rdflib.term.URIRef('http://www.w3.org/1999/02/22-rdf-syntax-ns#first'), rdflib.term.URIRef('http://www.w3.org/2000/01/rdf-schema#seeAlso'), rdflib.term.URIRef('http://www.w3.org/1999/02/22-rdf-syntax-ns#type'), rdflib.term.URIRef('http://www.w3.org/2004/02/skos/core#example'), rdflib.term.URIRef('http://www.w3.org/2002/07/owl#disjointWith')}\n",
            "Query: \n",
            "  (L0 | L1)* L2\n",
            "  \n",
            "Perfomance:\n",
            "3 loops, best of 5: 24.5 ms per loop\n",
            "=== === ===\n",
            "Graph skos:\n",
            "- number of nodes: 144\n",
            "\t- number of edges: 252\n",
            "\t- edge labels: {rdflib.term.URIRef('http://www.w3.org/1999/02/22-rdf-syntax-ns#rest'), rdflib.term.URIRef('http://purl.org/dc/terms/title'), rdflib.term.URIRef('http://www.w3.org/2000/01/rdf-schema#domain'), rdflib.term.URIRef('http://www.w3.org/2000/01/rdf-schema#isDefinedBy'), rdflib.term.URIRef('http://www.w3.org/2000/01/rdf-schema#comment'), rdflib.term.URIRef('http://www.w3.org/2004/02/skos/core#definition'), rdflib.term.URIRef('http://www.w3.org/2000/01/rdf-schema#subClassOf'), rdflib.term.URIRef('http://www.w3.org/2000/01/rdf-schema#label'), rdflib.term.URIRef('http://www.w3.org/2002/07/owl#unionOf'), rdflib.term.URIRef('http://purl.org/dc/terms/description'), rdflib.term.URIRef('http://www.w3.org/2002/07/owl#inverseOf'), rdflib.term.URIRef('http://www.w3.org/2000/01/rdf-schema#range'), rdflib.term.URIRef('http://purl.org/dc/terms/creator'), rdflib.term.URIRef('http://www.w3.org/2004/02/skos/core#scopeNote'), rdflib.term.URIRef('http://www.w3.org/2000/01/rdf-schema#subPropertyOf'), rdflib.term.URIRef('http://purl.org/dc/terms/contributor'), rdflib.term.URIRef('http://www.w3.org/1999/02/22-rdf-syntax-ns#first'), rdflib.term.URIRef('http://www.w3.org/2000/01/rdf-schema#seeAlso'), rdflib.term.URIRef('http://www.w3.org/1999/02/22-rdf-syntax-ns#type'), rdflib.term.URIRef('http://www.w3.org/2004/02/skos/core#example'), rdflib.term.URIRef('http://www.w3.org/2002/07/owl#disjointWith')}\n",
            "Query: \n",
            "  L0 | L2 | L1*\n",
            "  \n",
            "Perfomance:\n",
            "3 loops, best of 5: 26.3 ms per loop\n",
            "=== === ===\n",
            "Graph skos:\n",
            "- number of nodes: 144\n",
            "\t- number of edges: 252\n",
            "\t- edge labels: {rdflib.term.URIRef('http://www.w3.org/1999/02/22-rdf-syntax-ns#rest'), rdflib.term.URIRef('http://purl.org/dc/terms/title'), rdflib.term.URIRef('http://www.w3.org/2000/01/rdf-schema#domain'), rdflib.term.URIRef('http://www.w3.org/2000/01/rdf-schema#isDefinedBy'), rdflib.term.URIRef('http://www.w3.org/2000/01/rdf-schema#comment'), rdflib.term.URIRef('http://www.w3.org/2004/02/skos/core#definition'), rdflib.term.URIRef('http://www.w3.org/2000/01/rdf-schema#subClassOf'), rdflib.term.URIRef('http://www.w3.org/2000/01/rdf-schema#label'), rdflib.term.URIRef('http://www.w3.org/2002/07/owl#unionOf'), rdflib.term.URIRef('http://purl.org/dc/terms/description'), rdflib.term.URIRef('http://www.w3.org/2002/07/owl#inverseOf'), rdflib.term.URIRef('http://www.w3.org/2000/01/rdf-schema#range'), rdflib.term.URIRef('http://purl.org/dc/terms/creator'), rdflib.term.URIRef('http://www.w3.org/2004/02/skos/core#scopeNote'), rdflib.term.URIRef('http://www.w3.org/2000/01/rdf-schema#subPropertyOf'), rdflib.term.URIRef('http://purl.org/dc/terms/contributor'), rdflib.term.URIRef('http://www.w3.org/1999/02/22-rdf-syntax-ns#first'), rdflib.term.URIRef('http://www.w3.org/2000/01/rdf-schema#seeAlso'), rdflib.term.URIRef('http://www.w3.org/1999/02/22-rdf-syntax-ns#type'), rdflib.term.URIRef('http://www.w3.org/2004/02/skos/core#example'), rdflib.term.URIRef('http://www.w3.org/2002/07/owl#disjointWith')}\n",
            "Query: \n",
            "  L0 L1 L2 (L3 | L1)*\n",
            "  \n",
            "Perfomance:\n",
            "3 loops, best of 5: 26.5 ms per loop\n",
            "=== === ===\n",
            "Graph skos:\n",
            "- number of nodes: 144\n",
            "\t- number of edges: 252\n",
            "\t- edge labels: {rdflib.term.URIRef('http://www.w3.org/1999/02/22-rdf-syntax-ns#rest'), rdflib.term.URIRef('http://purl.org/dc/terms/title'), rdflib.term.URIRef('http://www.w3.org/2000/01/rdf-schema#domain'), rdflib.term.URIRef('http://www.w3.org/2000/01/rdf-schema#isDefinedBy'), rdflib.term.URIRef('http://www.w3.org/2000/01/rdf-schema#comment'), rdflib.term.URIRef('http://www.w3.org/2004/02/skos/core#definition'), rdflib.term.URIRef('http://www.w3.org/2000/01/rdf-schema#subClassOf'), rdflib.term.URIRef('http://www.w3.org/2000/01/rdf-schema#label'), rdflib.term.URIRef('http://www.w3.org/2002/07/owl#unionOf'), rdflib.term.URIRef('http://purl.org/dc/terms/description'), rdflib.term.URIRef('http://www.w3.org/2002/07/owl#inverseOf'), rdflib.term.URIRef('http://www.w3.org/2000/01/rdf-schema#range'), rdflib.term.URIRef('http://purl.org/dc/terms/creator'), rdflib.term.URIRef('http://www.w3.org/2004/02/skos/core#scopeNote'), rdflib.term.URIRef('http://www.w3.org/2000/01/rdf-schema#subPropertyOf'), rdflib.term.URIRef('http://purl.org/dc/terms/contributor'), rdflib.term.URIRef('http://www.w3.org/1999/02/22-rdf-syntax-ns#first'), rdflib.term.URIRef('http://www.w3.org/2000/01/rdf-schema#seeAlso'), rdflib.term.URIRef('http://www.w3.org/1999/02/22-rdf-syntax-ns#type'), rdflib.term.URIRef('http://www.w3.org/2004/02/skos/core#example'), rdflib.term.URIRef('http://www.w3.org/2002/07/owl#disjointWith')}\n",
            "Query: \n",
            "  (L0 | L3)* | (L1 | L2)*\n",
            "  \n",
            "Perfomance:\n",
            "3 loops, best of 5: 26.9 ms per loop\n",
            "=== === ===\n",
            "Graph generations:\n",
            "- number of nodes: 129\n",
            "\t- number of edges: 273\n",
            "\t- edge labels: {rdflib.term.URIRef('http://www.owl-ontologies.com/generations.owl#hasChild'), rdflib.term.URIRef('http://www.w3.org/2000/01/rdf-schema#range'), rdflib.term.URIRef('http://www.w3.org/1999/02/22-rdf-syntax-ns#rest'), rdflib.term.URIRef('http://www.w3.org/2002/07/owl#sameAs'), rdflib.term.URIRef('http://www.w3.org/2002/07/owl#oneOf'), rdflib.term.URIRef('http://www.w3.org/2002/07/owl#hasValue'), rdflib.term.URIRef('http://www.w3.org/2002/07/owl#onProperty'), rdflib.term.URIRef('http://www.w3.org/1999/02/22-rdf-syntax-ns#first'), rdflib.term.URIRef('http://www.w3.org/2002/07/owl#someValuesFrom'), rdflib.term.URIRef('http://www.w3.org/2002/07/owl#versionInfo'), rdflib.term.URIRef('http://www.owl-ontologies.com/generations.owl#hasSex'), rdflib.term.URIRef('http://www.w3.org/1999/02/22-rdf-syntax-ns#type'), rdflib.term.URIRef('http://www.owl-ontologies.com/generations.owl#hasSibling'), rdflib.term.URIRef('http://www.w3.org/2002/07/owl#intersectionOf'), rdflib.term.URIRef('http://www.w3.org/2002/07/owl#equivalentClass'), rdflib.term.URIRef('http://www.owl-ontologies.com/generations.owl#hasParent'), rdflib.term.URIRef('http://www.w3.org/2002/07/owl#inverseOf')}\n",
            "Query: \n",
            "  (L0 | L1)* L2\n",
            "  \n",
            "Perfomance:\n",
            "3 loops, best of 5: 27.4 ms per loop\n",
            "=== === ===\n",
            "Graph generations:\n",
            "- number of nodes: 129\n",
            "\t- number of edges: 273\n",
            "\t- edge labels: {rdflib.term.URIRef('http://www.owl-ontologies.com/generations.owl#hasChild'), rdflib.term.URIRef('http://www.w3.org/2000/01/rdf-schema#range'), rdflib.term.URIRef('http://www.w3.org/1999/02/22-rdf-syntax-ns#rest'), rdflib.term.URIRef('http://www.w3.org/2002/07/owl#sameAs'), rdflib.term.URIRef('http://www.w3.org/2002/07/owl#oneOf'), rdflib.term.URIRef('http://www.w3.org/2002/07/owl#hasValue'), rdflib.term.URIRef('http://www.w3.org/2002/07/owl#onProperty'), rdflib.term.URIRef('http://www.w3.org/1999/02/22-rdf-syntax-ns#first'), rdflib.term.URIRef('http://www.w3.org/2002/07/owl#someValuesFrom'), rdflib.term.URIRef('http://www.w3.org/2002/07/owl#versionInfo'), rdflib.term.URIRef('http://www.owl-ontologies.com/generations.owl#hasSex'), rdflib.term.URIRef('http://www.w3.org/1999/02/22-rdf-syntax-ns#type'), rdflib.term.URIRef('http://www.owl-ontologies.com/generations.owl#hasSibling'), rdflib.term.URIRef('http://www.w3.org/2002/07/owl#intersectionOf'), rdflib.term.URIRef('http://www.w3.org/2002/07/owl#equivalentClass'), rdflib.term.URIRef('http://www.owl-ontologies.com/generations.owl#hasParent'), rdflib.term.URIRef('http://www.w3.org/2002/07/owl#inverseOf')}\n",
            "Query: \n",
            "  L0 | L2 | L1*\n",
            "  \n",
            "Perfomance:\n",
            "3 loops, best of 5: 26.9 ms per loop\n",
            "=== === ===\n",
            "Graph generations:\n",
            "- number of nodes: 129\n",
            "\t- number of edges: 273\n",
            "\t- edge labels: {rdflib.term.URIRef('http://www.owl-ontologies.com/generations.owl#hasChild'), rdflib.term.URIRef('http://www.w3.org/2000/01/rdf-schema#range'), rdflib.term.URIRef('http://www.w3.org/1999/02/22-rdf-syntax-ns#rest'), rdflib.term.URIRef('http://www.w3.org/2002/07/owl#sameAs'), rdflib.term.URIRef('http://www.w3.org/2002/07/owl#oneOf'), rdflib.term.URIRef('http://www.w3.org/2002/07/owl#hasValue'), rdflib.term.URIRef('http://www.w3.org/2002/07/owl#onProperty'), rdflib.term.URIRef('http://www.w3.org/1999/02/22-rdf-syntax-ns#first'), rdflib.term.URIRef('http://www.w3.org/2002/07/owl#someValuesFrom'), rdflib.term.URIRef('http://www.w3.org/2002/07/owl#versionInfo'), rdflib.term.URIRef('http://www.owl-ontologies.com/generations.owl#hasSex'), rdflib.term.URIRef('http://www.w3.org/1999/02/22-rdf-syntax-ns#type'), rdflib.term.URIRef('http://www.owl-ontologies.com/generations.owl#hasSibling'), rdflib.term.URIRef('http://www.w3.org/2002/07/owl#intersectionOf'), rdflib.term.URIRef('http://www.w3.org/2002/07/owl#equivalentClass'), rdflib.term.URIRef('http://www.owl-ontologies.com/generations.owl#hasParent'), rdflib.term.URIRef('http://www.w3.org/2002/07/owl#inverseOf')}\n",
            "Query: \n",
            "  L0 L1 L2 (L3 | L1)*\n",
            "  \n",
            "Perfomance:\n",
            "3 loops, best of 5: 28.6 ms per loop\n",
            "=== === ===\n",
            "Graph generations:\n",
            "- number of nodes: 129\n",
            "\t- number of edges: 273\n",
            "\t- edge labels: {rdflib.term.URIRef('http://www.owl-ontologies.com/generations.owl#hasChild'), rdflib.term.URIRef('http://www.w3.org/2000/01/rdf-schema#range'), rdflib.term.URIRef('http://www.w3.org/1999/02/22-rdf-syntax-ns#rest'), rdflib.term.URIRef('http://www.w3.org/2002/07/owl#sameAs'), rdflib.term.URIRef('http://www.w3.org/2002/07/owl#oneOf'), rdflib.term.URIRef('http://www.w3.org/2002/07/owl#hasValue'), rdflib.term.URIRef('http://www.w3.org/2002/07/owl#onProperty'), rdflib.term.URIRef('http://www.w3.org/1999/02/22-rdf-syntax-ns#first'), rdflib.term.URIRef('http://www.w3.org/2002/07/owl#someValuesFrom'), rdflib.term.URIRef('http://www.w3.org/2002/07/owl#versionInfo'), rdflib.term.URIRef('http://www.owl-ontologies.com/generations.owl#hasSex'), rdflib.term.URIRef('http://www.w3.org/1999/02/22-rdf-syntax-ns#type'), rdflib.term.URIRef('http://www.owl-ontologies.com/generations.owl#hasSibling'), rdflib.term.URIRef('http://www.w3.org/2002/07/owl#intersectionOf'), rdflib.term.URIRef('http://www.w3.org/2002/07/owl#equivalentClass'), rdflib.term.URIRef('http://www.owl-ontologies.com/generations.owl#hasParent'), rdflib.term.URIRef('http://www.w3.org/2002/07/owl#inverseOf')}\n",
            "Query: \n",
            "  (L0 | L3)* | (L1 | L2)*\n",
            "  \n",
            "Perfomance:\n",
            "3 loops, best of 5: 28.1 ms per loop\n",
            "=== === ===\n"
          ]
        }
      ]
    },
    {
      "cell_type": "markdown",
      "metadata": {
        "id": "qLxI1S49Ygb0"
      },
      "source": [
        ""
      ]
    },
    {
      "cell_type": "markdown",
      "metadata": {
        "id": "IgDG3ljCLwIZ"
      },
      "source": [
        "В таблице ниже показано время работы данной версии алгоритма (в **мс**.) в зависимости от графа и регулярного выражения."
      ]
    },
    {
      "cell_type": "code",
      "metadata": {
        "id": "Qfh7p5AQTD3j",
        "colab": {
          "base_uri": "https://localhost:8080/",
          "height": 172
        },
        "outputId": "2202d40c-5e19-4608-9bae-eae4e7a60ea7"
      },
      "source": [
        "cpu_times_df"
      ],
      "execution_count": 95,
      "outputs": [
        {
          "output_type": "execute_result",
          "data": {
            "text/html": [
              "<div>\n",
              "<style scoped>\n",
              "    .dataframe tbody tr th:only-of-type {\n",
              "        vertical-align: middle;\n",
              "    }\n",
              "\n",
              "    .dataframe tbody tr th {\n",
              "        vertical-align: top;\n",
              "    }\n",
              "\n",
              "    .dataframe thead th {\n",
              "        text-align: right;\n",
              "    }\n",
              "</style>\n",
              "<table border=\"1\" class=\"dataframe\">\n",
              "  <thead>\n",
              "    <tr style=\"text-align: right;\">\n",
              "      <th></th>\n",
              "      <th>skos</th>\n",
              "      <th>generations</th>\n",
              "    </tr>\n",
              "  </thead>\n",
              "  <tbody>\n",
              "    <tr>\n",
              "      <th>(L0 | L1)* L2</th>\n",
              "      <td>24.55</td>\n",
              "      <td>27.44</td>\n",
              "    </tr>\n",
              "    <tr>\n",
              "      <th>L0 | L2 | L1*</th>\n",
              "      <td>26.32</td>\n",
              "      <td>26.93</td>\n",
              "    </tr>\n",
              "    <tr>\n",
              "      <th>L0 L1 L2 (L3 | L1)*</th>\n",
              "      <td>26.5</td>\n",
              "      <td>28.57</td>\n",
              "    </tr>\n",
              "    <tr>\n",
              "      <th>(L0 | L3)* | (L1 | L2)*</th>\n",
              "      <td>26.85</td>\n",
              "      <td>28.07</td>\n",
              "    </tr>\n",
              "  </tbody>\n",
              "</table>\n",
              "</div>"
            ],
            "text/plain": [
              "                          skos generations\n",
              "(L0 | L1)* L2            24.55       27.44\n",
              "L0 | L2 | L1*            26.32       26.93\n",
              "L0 L1 L2 (L3 | L1)*       26.5       28.57\n",
              "(L0 | L3)* | (L1 | L2)*  26.85       28.07"
            ]
          },
          "metadata": {},
          "execution_count": 95
        }
      ]
    },
    {
      "cell_type": "markdown",
      "metadata": {
        "id": "Il_VJLPxqDSs"
      },
      "source": [
        "### Производительность GPU-версии алгоритма ($pyCuBool$)"
      ]
    },
    {
      "cell_type": "code",
      "metadata": {
        "id": "eey92j1aIjam",
        "colab": {
          "base_uri": "https://localhost:8080/"
        },
        "outputId": "4aceb818-30ce-487d-8dcc-c68ae997dd1d"
      },
      "source": [
        "print(\"=== VERSION BASED ON GPU (pyCuBool) ===\")\n",
        "\n",
        "gpu_times_df = pd.DataFrame(index=queries, columns=GRAPH_NAMES)\n",
        "gpu_results = dict((graph.description.name, []) for graph in GRAPHS)\n",
        "\n",
        "for graph in GRAPHS:\n",
        "  labels = list(graph.description.edge_labels)\n",
        "\n",
        "  for index, query_generator in enumerate(QUERIES):\n",
        "    query = query_generator(labels)\n",
        "\n",
        "    print(str(graph))\n",
        "    print(f\"Query: {query_generator.__doc__}\")\n",
        "    print(\"Perfomance:\")\n",
        "    results = tuple()\n",
        "    time = None\n",
        "    if graph.description.name not in [\"go_hierarchy\", \"eclass_514en\", \"geospecies\"]:\n",
        "      time = %timeit -n 3 -o regular_path_querying(graph.graph, query, results, mode=\"gpu\")\n",
        "    else:\n",
        "      time = %timeit -n 1 -o regular_path_querying(graph.graph, query, results, mode=\"gpu\")\n",
        "    print(\"=== === ===\")\n",
        "\n",
        "    gpu_times_df.loc[queries[index], graph.description.name] = round(time.best * 1000, 2)\n",
        "    gpu_results[graph.description.name].append(results)\n"
      ],
      "execution_count": 97,
      "outputs": [
        {
          "output_type": "stream",
          "name": "stdout",
          "text": [
            "=== VERSION BASED ON GPU (pyCuBool) ===\n",
            "Graph skos:\n",
            "- number of nodes: 144\n",
            "\t- number of edges: 252\n",
            "\t- edge labels: {rdflib.term.URIRef('http://www.w3.org/1999/02/22-rdf-syntax-ns#rest'), rdflib.term.URIRef('http://purl.org/dc/terms/title'), rdflib.term.URIRef('http://www.w3.org/2000/01/rdf-schema#domain'), rdflib.term.URIRef('http://www.w3.org/2000/01/rdf-schema#isDefinedBy'), rdflib.term.URIRef('http://www.w3.org/2000/01/rdf-schema#comment'), rdflib.term.URIRef('http://www.w3.org/2004/02/skos/core#definition'), rdflib.term.URIRef('http://www.w3.org/2000/01/rdf-schema#subClassOf'), rdflib.term.URIRef('http://www.w3.org/2000/01/rdf-schema#label'), rdflib.term.URIRef('http://www.w3.org/2002/07/owl#unionOf'), rdflib.term.URIRef('http://purl.org/dc/terms/description'), rdflib.term.URIRef('http://www.w3.org/2002/07/owl#inverseOf'), rdflib.term.URIRef('http://www.w3.org/2000/01/rdf-schema#range'), rdflib.term.URIRef('http://purl.org/dc/terms/creator'), rdflib.term.URIRef('http://www.w3.org/2004/02/skos/core#scopeNote'), rdflib.term.URIRef('http://www.w3.org/2000/01/rdf-schema#subPropertyOf'), rdflib.term.URIRef('http://purl.org/dc/terms/contributor'), rdflib.term.URIRef('http://www.w3.org/1999/02/22-rdf-syntax-ns#first'), rdflib.term.URIRef('http://www.w3.org/2000/01/rdf-schema#seeAlso'), rdflib.term.URIRef('http://www.w3.org/1999/02/22-rdf-syntax-ns#type'), rdflib.term.URIRef('http://www.w3.org/2004/02/skos/core#example'), rdflib.term.URIRef('http://www.w3.org/2002/07/owl#disjointWith')}\n",
            "Query: \n",
            "  (L0 | L1)* L2\n",
            "  \n",
            "Perfomance:\n",
            "3 loops, best of 5: 22.1 ms per loop\n",
            "=== === ===\n",
            "Graph skos:\n",
            "- number of nodes: 144\n",
            "\t- number of edges: 252\n",
            "\t- edge labels: {rdflib.term.URIRef('http://www.w3.org/1999/02/22-rdf-syntax-ns#rest'), rdflib.term.URIRef('http://purl.org/dc/terms/title'), rdflib.term.URIRef('http://www.w3.org/2000/01/rdf-schema#domain'), rdflib.term.URIRef('http://www.w3.org/2000/01/rdf-schema#isDefinedBy'), rdflib.term.URIRef('http://www.w3.org/2000/01/rdf-schema#comment'), rdflib.term.URIRef('http://www.w3.org/2004/02/skos/core#definition'), rdflib.term.URIRef('http://www.w3.org/2000/01/rdf-schema#subClassOf'), rdflib.term.URIRef('http://www.w3.org/2000/01/rdf-schema#label'), rdflib.term.URIRef('http://www.w3.org/2002/07/owl#unionOf'), rdflib.term.URIRef('http://purl.org/dc/terms/description'), rdflib.term.URIRef('http://www.w3.org/2002/07/owl#inverseOf'), rdflib.term.URIRef('http://www.w3.org/2000/01/rdf-schema#range'), rdflib.term.URIRef('http://purl.org/dc/terms/creator'), rdflib.term.URIRef('http://www.w3.org/2004/02/skos/core#scopeNote'), rdflib.term.URIRef('http://www.w3.org/2000/01/rdf-schema#subPropertyOf'), rdflib.term.URIRef('http://purl.org/dc/terms/contributor'), rdflib.term.URIRef('http://www.w3.org/1999/02/22-rdf-syntax-ns#first'), rdflib.term.URIRef('http://www.w3.org/2000/01/rdf-schema#seeAlso'), rdflib.term.URIRef('http://www.w3.org/1999/02/22-rdf-syntax-ns#type'), rdflib.term.URIRef('http://www.w3.org/2004/02/skos/core#example'), rdflib.term.URIRef('http://www.w3.org/2002/07/owl#disjointWith')}\n",
            "Query: \n",
            "  L0 | L2 | L1*\n",
            "  \n",
            "Perfomance:\n",
            "3 loops, best of 5: 21.5 ms per loop\n",
            "=== === ===\n",
            "Graph skos:\n",
            "- number of nodes: 144\n",
            "\t- number of edges: 252\n",
            "\t- edge labels: {rdflib.term.URIRef('http://www.w3.org/1999/02/22-rdf-syntax-ns#rest'), rdflib.term.URIRef('http://purl.org/dc/terms/title'), rdflib.term.URIRef('http://www.w3.org/2000/01/rdf-schema#domain'), rdflib.term.URIRef('http://www.w3.org/2000/01/rdf-schema#isDefinedBy'), rdflib.term.URIRef('http://www.w3.org/2000/01/rdf-schema#comment'), rdflib.term.URIRef('http://www.w3.org/2004/02/skos/core#definition'), rdflib.term.URIRef('http://www.w3.org/2000/01/rdf-schema#subClassOf'), rdflib.term.URIRef('http://www.w3.org/2000/01/rdf-schema#label'), rdflib.term.URIRef('http://www.w3.org/2002/07/owl#unionOf'), rdflib.term.URIRef('http://purl.org/dc/terms/description'), rdflib.term.URIRef('http://www.w3.org/2002/07/owl#inverseOf'), rdflib.term.URIRef('http://www.w3.org/2000/01/rdf-schema#range'), rdflib.term.URIRef('http://purl.org/dc/terms/creator'), rdflib.term.URIRef('http://www.w3.org/2004/02/skos/core#scopeNote'), rdflib.term.URIRef('http://www.w3.org/2000/01/rdf-schema#subPropertyOf'), rdflib.term.URIRef('http://purl.org/dc/terms/contributor'), rdflib.term.URIRef('http://www.w3.org/1999/02/22-rdf-syntax-ns#first'), rdflib.term.URIRef('http://www.w3.org/2000/01/rdf-schema#seeAlso'), rdflib.term.URIRef('http://www.w3.org/1999/02/22-rdf-syntax-ns#type'), rdflib.term.URIRef('http://www.w3.org/2004/02/skos/core#example'), rdflib.term.URIRef('http://www.w3.org/2002/07/owl#disjointWith')}\n",
            "Query: \n",
            "  L0 L1 L2 (L3 | L1)*\n",
            "  \n",
            "Perfomance:\n",
            "3 loops, best of 5: 23.6 ms per loop\n",
            "=== === ===\n",
            "Graph skos:\n",
            "- number of nodes: 144\n",
            "\t- number of edges: 252\n",
            "\t- edge labels: {rdflib.term.URIRef('http://www.w3.org/1999/02/22-rdf-syntax-ns#rest'), rdflib.term.URIRef('http://purl.org/dc/terms/title'), rdflib.term.URIRef('http://www.w3.org/2000/01/rdf-schema#domain'), rdflib.term.URIRef('http://www.w3.org/2000/01/rdf-schema#isDefinedBy'), rdflib.term.URIRef('http://www.w3.org/2000/01/rdf-schema#comment'), rdflib.term.URIRef('http://www.w3.org/2004/02/skos/core#definition'), rdflib.term.URIRef('http://www.w3.org/2000/01/rdf-schema#subClassOf'), rdflib.term.URIRef('http://www.w3.org/2000/01/rdf-schema#label'), rdflib.term.URIRef('http://www.w3.org/2002/07/owl#unionOf'), rdflib.term.URIRef('http://purl.org/dc/terms/description'), rdflib.term.URIRef('http://www.w3.org/2002/07/owl#inverseOf'), rdflib.term.URIRef('http://www.w3.org/2000/01/rdf-schema#range'), rdflib.term.URIRef('http://purl.org/dc/terms/creator'), rdflib.term.URIRef('http://www.w3.org/2004/02/skos/core#scopeNote'), rdflib.term.URIRef('http://www.w3.org/2000/01/rdf-schema#subPropertyOf'), rdflib.term.URIRef('http://purl.org/dc/terms/contributor'), rdflib.term.URIRef('http://www.w3.org/1999/02/22-rdf-syntax-ns#first'), rdflib.term.URIRef('http://www.w3.org/2000/01/rdf-schema#seeAlso'), rdflib.term.URIRef('http://www.w3.org/1999/02/22-rdf-syntax-ns#type'), rdflib.term.URIRef('http://www.w3.org/2004/02/skos/core#example'), rdflib.term.URIRef('http://www.w3.org/2002/07/owl#disjointWith')}\n",
            "Query: \n",
            "  (L0 | L3)* | (L1 | L2)*\n",
            "  \n",
            "Perfomance:\n",
            "3 loops, best of 5: 22.9 ms per loop\n",
            "=== === ===\n",
            "Graph generations:\n",
            "- number of nodes: 129\n",
            "\t- number of edges: 273\n",
            "\t- edge labels: {rdflib.term.URIRef('http://www.owl-ontologies.com/generations.owl#hasChild'), rdflib.term.URIRef('http://www.w3.org/2000/01/rdf-schema#range'), rdflib.term.URIRef('http://www.w3.org/1999/02/22-rdf-syntax-ns#rest'), rdflib.term.URIRef('http://www.w3.org/2002/07/owl#sameAs'), rdflib.term.URIRef('http://www.w3.org/2002/07/owl#oneOf'), rdflib.term.URIRef('http://www.w3.org/2002/07/owl#hasValue'), rdflib.term.URIRef('http://www.w3.org/2002/07/owl#onProperty'), rdflib.term.URIRef('http://www.w3.org/1999/02/22-rdf-syntax-ns#first'), rdflib.term.URIRef('http://www.w3.org/2002/07/owl#someValuesFrom'), rdflib.term.URIRef('http://www.w3.org/2002/07/owl#versionInfo'), rdflib.term.URIRef('http://www.owl-ontologies.com/generations.owl#hasSex'), rdflib.term.URIRef('http://www.w3.org/1999/02/22-rdf-syntax-ns#type'), rdflib.term.URIRef('http://www.owl-ontologies.com/generations.owl#hasSibling'), rdflib.term.URIRef('http://www.w3.org/2002/07/owl#intersectionOf'), rdflib.term.URIRef('http://www.w3.org/2002/07/owl#equivalentClass'), rdflib.term.URIRef('http://www.owl-ontologies.com/generations.owl#hasParent'), rdflib.term.URIRef('http://www.w3.org/2002/07/owl#inverseOf')}\n",
            "Query: \n",
            "  (L0 | L1)* L2\n",
            "  \n",
            "Perfomance:\n",
            "3 loops, best of 5: 22.8 ms per loop\n",
            "=== === ===\n",
            "Graph generations:\n",
            "- number of nodes: 129\n",
            "\t- number of edges: 273\n",
            "\t- edge labels: {rdflib.term.URIRef('http://www.owl-ontologies.com/generations.owl#hasChild'), rdflib.term.URIRef('http://www.w3.org/2000/01/rdf-schema#range'), rdflib.term.URIRef('http://www.w3.org/1999/02/22-rdf-syntax-ns#rest'), rdflib.term.URIRef('http://www.w3.org/2002/07/owl#sameAs'), rdflib.term.URIRef('http://www.w3.org/2002/07/owl#oneOf'), rdflib.term.URIRef('http://www.w3.org/2002/07/owl#hasValue'), rdflib.term.URIRef('http://www.w3.org/2002/07/owl#onProperty'), rdflib.term.URIRef('http://www.w3.org/1999/02/22-rdf-syntax-ns#first'), rdflib.term.URIRef('http://www.w3.org/2002/07/owl#someValuesFrom'), rdflib.term.URIRef('http://www.w3.org/2002/07/owl#versionInfo'), rdflib.term.URIRef('http://www.owl-ontologies.com/generations.owl#hasSex'), rdflib.term.URIRef('http://www.w3.org/1999/02/22-rdf-syntax-ns#type'), rdflib.term.URIRef('http://www.owl-ontologies.com/generations.owl#hasSibling'), rdflib.term.URIRef('http://www.w3.org/2002/07/owl#intersectionOf'), rdflib.term.URIRef('http://www.w3.org/2002/07/owl#equivalentClass'), rdflib.term.URIRef('http://www.owl-ontologies.com/generations.owl#hasParent'), rdflib.term.URIRef('http://www.w3.org/2002/07/owl#inverseOf')}\n",
            "Query: \n",
            "  L0 | L2 | L1*\n",
            "  \n",
            "Perfomance:\n",
            "3 loops, best of 5: 23 ms per loop\n",
            "=== === ===\n",
            "Graph generations:\n",
            "- number of nodes: 129\n",
            "\t- number of edges: 273\n",
            "\t- edge labels: {rdflib.term.URIRef('http://www.owl-ontologies.com/generations.owl#hasChild'), rdflib.term.URIRef('http://www.w3.org/2000/01/rdf-schema#range'), rdflib.term.URIRef('http://www.w3.org/1999/02/22-rdf-syntax-ns#rest'), rdflib.term.URIRef('http://www.w3.org/2002/07/owl#sameAs'), rdflib.term.URIRef('http://www.w3.org/2002/07/owl#oneOf'), rdflib.term.URIRef('http://www.w3.org/2002/07/owl#hasValue'), rdflib.term.URIRef('http://www.w3.org/2002/07/owl#onProperty'), rdflib.term.URIRef('http://www.w3.org/1999/02/22-rdf-syntax-ns#first'), rdflib.term.URIRef('http://www.w3.org/2002/07/owl#someValuesFrom'), rdflib.term.URIRef('http://www.w3.org/2002/07/owl#versionInfo'), rdflib.term.URIRef('http://www.owl-ontologies.com/generations.owl#hasSex'), rdflib.term.URIRef('http://www.w3.org/1999/02/22-rdf-syntax-ns#type'), rdflib.term.URIRef('http://www.owl-ontologies.com/generations.owl#hasSibling'), rdflib.term.URIRef('http://www.w3.org/2002/07/owl#intersectionOf'), rdflib.term.URIRef('http://www.w3.org/2002/07/owl#equivalentClass'), rdflib.term.URIRef('http://www.owl-ontologies.com/generations.owl#hasParent'), rdflib.term.URIRef('http://www.w3.org/2002/07/owl#inverseOf')}\n",
            "Query: \n",
            "  L0 L1 L2 (L3 | L1)*\n",
            "  \n",
            "Perfomance:\n",
            "3 loops, best of 5: 24.5 ms per loop\n",
            "=== === ===\n",
            "Graph generations:\n",
            "- number of nodes: 129\n",
            "\t- number of edges: 273\n",
            "\t- edge labels: {rdflib.term.URIRef('http://www.owl-ontologies.com/generations.owl#hasChild'), rdflib.term.URIRef('http://www.w3.org/2000/01/rdf-schema#range'), rdflib.term.URIRef('http://www.w3.org/1999/02/22-rdf-syntax-ns#rest'), rdflib.term.URIRef('http://www.w3.org/2002/07/owl#sameAs'), rdflib.term.URIRef('http://www.w3.org/2002/07/owl#oneOf'), rdflib.term.URIRef('http://www.w3.org/2002/07/owl#hasValue'), rdflib.term.URIRef('http://www.w3.org/2002/07/owl#onProperty'), rdflib.term.URIRef('http://www.w3.org/1999/02/22-rdf-syntax-ns#first'), rdflib.term.URIRef('http://www.w3.org/2002/07/owl#someValuesFrom'), rdflib.term.URIRef('http://www.w3.org/2002/07/owl#versionInfo'), rdflib.term.URIRef('http://www.owl-ontologies.com/generations.owl#hasSex'), rdflib.term.URIRef('http://www.w3.org/1999/02/22-rdf-syntax-ns#type'), rdflib.term.URIRef('http://www.owl-ontologies.com/generations.owl#hasSibling'), rdflib.term.URIRef('http://www.w3.org/2002/07/owl#intersectionOf'), rdflib.term.URIRef('http://www.w3.org/2002/07/owl#equivalentClass'), rdflib.term.URIRef('http://www.owl-ontologies.com/generations.owl#hasParent'), rdflib.term.URIRef('http://www.w3.org/2002/07/owl#inverseOf')}\n",
            "Query: \n",
            "  (L0 | L3)* | (L1 | L2)*\n",
            "  \n",
            "Perfomance:\n",
            "3 loops, best of 5: 24.8 ms per loop\n",
            "=== === ===\n"
          ]
        }
      ]
    },
    {
      "cell_type": "markdown",
      "metadata": {
        "id": "rkFUVev-O7c9"
      },
      "source": [
        "В таблице ниже показано время работы данной версии алгоритма (в **мс**.) в зависимости от графа и регулярного выражения."
      ]
    },
    {
      "cell_type": "code",
      "metadata": {
        "id": "FJ3fSKKS7hYu",
        "colab": {
          "base_uri": "https://localhost:8080/",
          "height": 172
        },
        "outputId": "cea184fc-ef00-4542-e927-4e6259dddd29"
      },
      "source": [
        "gpu_times_df"
      ],
      "execution_count": 98,
      "outputs": [
        {
          "output_type": "execute_result",
          "data": {
            "text/html": [
              "<div>\n",
              "<style scoped>\n",
              "    .dataframe tbody tr th:only-of-type {\n",
              "        vertical-align: middle;\n",
              "    }\n",
              "\n",
              "    .dataframe tbody tr th {\n",
              "        vertical-align: top;\n",
              "    }\n",
              "\n",
              "    .dataframe thead th {\n",
              "        text-align: right;\n",
              "    }\n",
              "</style>\n",
              "<table border=\"1\" class=\"dataframe\">\n",
              "  <thead>\n",
              "    <tr style=\"text-align: right;\">\n",
              "      <th></th>\n",
              "      <th>skos</th>\n",
              "      <th>generations</th>\n",
              "    </tr>\n",
              "  </thead>\n",
              "  <tbody>\n",
              "    <tr>\n",
              "      <th>(L0 | L1)* L2</th>\n",
              "      <td>22.08</td>\n",
              "      <td>22.79</td>\n",
              "    </tr>\n",
              "    <tr>\n",
              "      <th>L0 | L2 | L1*</th>\n",
              "      <td>21.5</td>\n",
              "      <td>23</td>\n",
              "    </tr>\n",
              "    <tr>\n",
              "      <th>L0 L1 L2 (L3 | L1)*</th>\n",
              "      <td>23.57</td>\n",
              "      <td>24.55</td>\n",
              "    </tr>\n",
              "    <tr>\n",
              "      <th>(L0 | L3)* | (L1 | L2)*</th>\n",
              "      <td>22.85</td>\n",
              "      <td>24.8</td>\n",
              "    </tr>\n",
              "  </tbody>\n",
              "</table>\n",
              "</div>"
            ],
            "text/plain": [
              "                          skos generations\n",
              "(L0 | L1)* L2            22.08       22.79\n",
              "L0 | L2 | L1*             21.5          23\n",
              "L0 L1 L2 (L3 | L1)*      23.57       24.55\n",
              "(L0 | L3)* | (L1 | L2)*  22.85        24.8"
            ]
          },
          "metadata": {},
          "execution_count": 98
        }
      ]
    },
    {
      "cell_type": "markdown",
      "metadata": {
        "id": "piuMPLylY73D"
      },
      "source": [
        "### Зависимость производительности от параметров графа\n",
        "\n",
        "Для запроса $L_0 L_1 L_2 (L_3 | L_1)^*$ построены графики зависимости времени решения проблемы $RPQ$ от количества вершин и ребёр графа на примере **GPU-версии алгоритма ($pyCuBool$)**."
      ]
    },
    {
      "cell_type": "markdown",
      "metadata": {
        "id": "sRbijxh-sGvg"
      },
      "source": [
        "#### От количества вершин\n",
        "\n",
        "Рассмотрим зависимость производительности от количества вершин."
      ]
    },
    {
      "cell_type": "code",
      "metadata": {
        "id": "El5Fwe1NWIL6",
        "colab": {
          "base_uri": "https://localhost:8080/",
          "height": 1000
        },
        "outputId": "7e62f98b-d170-4b99-b7e2-c2ff35b2a9ba"
      },
      "source": [
        "# Лучшее время выполнения GPU-версии алгоритма RPQ (pyCuBool)\n",
        "# на запросе L0 L1 L2 (L3 | L1)*\n",
        "\n",
        "import matplotlib.pyplot as plt\n",
        "\n",
        "X = [graph.description.nodes for graph in GRAPHS]\n",
        "Y = [gpu_times_df[graph.description.name][2] for graph in GRAPHS]\n",
        "\n",
        "plt.figure(figsize=(20, 20))\n",
        "plt.plot(X, Y)\n",
        "plt.xlabel(\"Вершины\")\n",
        "plt.ylabel(\"Время выполнения (мс.)\")\n",
        "plt.title(\"Зависимость времени работы версии алгоритма от количества вершин в графе\")\n",
        "\n",
        "for x, y, name in zip(X, Y, GRAPH_NAMES):\n",
        "  plt.annotate(name, (x, y), textcoords=\"offset points\", xytext=(-20, 20))"
      ],
      "execution_count": 99,
      "outputs": [
        {
          "output_type": "display_data",
          "data": {
            "image/png": "[encoded data removed]",
            "text/plain": [
              "<Figure size 1440x1440 with 1 Axes>"
            ]
          },
          "metadata": {
            "needs_background": "light"
          }
        }
      ]
    },
    {
      "cell_type": "markdown",
      "metadata": {
        "id": "MtTOwgo1mvAM"
      },
      "source": [
        "По графику наблюдается наличие зависимости времени выполнения алгоритма от числа вершин графа. \n"
      ]
    },
    {
      "cell_type": "markdown",
      "metadata": {
        "id": "SXwVW74csSDY"
      },
      "source": [
        "#### От количества ребер\n",
        "\n",
        "Рассмотрим зависимость производительности от количества рёбер."
      ]
    },
    {
      "cell_type": "code",
      "metadata": {
        "id": "dYkI_4MjnAPz",
        "colab": {
          "base_uri": "https://localhost:8080/",
          "height": 1000
        },
        "outputId": "1414f02e-7323-4252-d8ce-ae8973f055ca"
      },
      "source": [
        "# Лучшее время выполнения GPU-версии алгоритма RPQ (pyCuBool)\n",
        "# на запросе L0 L1 L2 (L3 | L1)*\n",
        "\n",
        "import matplotlib.pyplot as plt\n",
        "\n",
        "X = [graph.description.edges for graph in GRAPHS]\n",
        "Y = [gpu_times_df[graph.description.name][2] for graph in GRAPHS]\n",
        "\n",
        "plt.figure(figsize=(20, 20))\n",
        "plt.plot(X, Y)\n",
        "plt.xlabel(\"Ребра\")\n",
        "plt.ylabel(\"Время выполнения (мс.)\")\n",
        "plt.title(\"Зависимость времени работы версии алгоритма от количества ребер в графе\")\n",
        "\n",
        "for x, y, name in zip(X, Y, GRAPH_NAMES):\n",
        "  plt.annotate(name, (x, y), textcoords=\"offset points\", xytext=(-20, 20))"
      ],
      "execution_count": 100,
      "outputs": [
        {
          "output_type": "display_data",
          "data": {
            "image/png": "[encoded data removed]",
            "text/plain": [
              "<Figure size 1440x1440 with 1 Axes>"
            ]
          },
          "metadata": {
            "needs_background": "light"
          }
        }
      ]
    },
    {
      "cell_type": "markdown",
      "metadata": {
        "id": "E7egEFs1wTXs"
      },
      "source": [
        "Наблюдается ещё более выраженная зависимость времени выполнения от количества рёбер в графе, чем от количества вершин."
      ]
    },
    {
      "cell_type": "markdown",
      "metadata": {
        "id": "BYSZ3lyEwW3l"
      },
      "source": [
        "## Итоги исследования\n",
        "\n",
        "Алгоритм решения проблемы $RPQ$ показал лучшие результаты в случае использования реализации с применением $pyCuBool$ для выполнения операций с булевыми матрицами. Данный результат объясняется тем, что библиотека $pyCuBool$ в своей реализации применяет технологию $NVIDIA$ $CUDA$, использующую графический ускоритель для вычислений. По данным эксперимента можно судить об эффективности параллельных вычислений при помощи данной технологии."
      ]
    }
  ]
}