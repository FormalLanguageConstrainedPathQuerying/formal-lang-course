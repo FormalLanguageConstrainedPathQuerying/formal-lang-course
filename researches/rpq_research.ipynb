{
  "nbformat": 4,
  "nbformat_minor": 0,
  "metadata": {
    "colab": {
      "name": "RPQ research",
      "provenance": [],
      "authorship_tag": "ABX9TyN1vA9T2ddRsIl1SLH0x//t",
      "include_colab_link": true
    },
    "kernelspec": {
      "name": "python3",
      "display_name": "Python 3"
    },
    "language_info": {
      "name": "python"
    },
    "accelerator": "GPU"
  },
  "cells": [
    {
      "cell_type": "markdown",
      "metadata": {
        "id": "view-in-github",
        "colab_type": "text"
      },
      "source": [
        "<a href=\"https://colab.research.google.com/github/kznts9v-1lya/formal-lang-course/blob/task5-rpq-research/researches/rpq_research.ipynb\" target=\"_parent\"><img src=\"https://colab.research.google.com/assets/colab-badge.svg\" alt=\"Open In Colab\"/></a>"
      ]
    },
    {
      "cell_type": "markdown",
      "metadata": {
        "id": "N4X_1vHSZ5cA"
      },
      "source": [
        "# Автор [kznts9v_1lya](https://github.com/kznts9v-1lya)."
      ]
    },
    {
      "cell_type": "markdown",
      "metadata": {
        "id": "yk2eMvtFpowo"
      },
      "source": [
        "---\n",
        "\n",
        "# Экспериментальное исследование производительности CPU и GPU версий алгоритма Regular Path Quering."
      ]
    },
    {
      "cell_type": "markdown",
      "metadata": {
        "id": "yC1AlmimpjT8"
      },
      "source": [
        "---\n",
        "\n",
        "## Введение\n",
        "\n",
        "Имеется **размеченный граф** $G$, задающий регулярный язык $L_G$.\n",
        "\n",
        "Имеется **регулярное выражение** $Q$, задающее регулярный язык ограничений $L_Q$.\n",
        "\n",
        "Задача $Regular Path Quering$ решает проблему поиска путей в заданных ограничениях. Они представляются в виде пар достижимых вершин графа, представляющего $L_G\\cap L_Q$.\n",
        "\n",
        "$RPQ = \\{(v_i, v_j)|\\exists\\pi:w(v_i\\pi v_j)\\in L, v_i\\in V_S, v_j\\in V_F\\}$, где $L = L_G\\cap L_Q$\n",
        "\n",
        "Известно свойство, что регулярные языки замкнуты относительно пересечения и по ним можно построить конечный автомат, допускающий эти языки. Именно поэтому $RPQ$ строит язык пересечения, задаваемый пересечением двух конечных автоматов $КА_{G}$ и $КА_{Q}$, допускающих $L_G$ и $L_Q$ соответсвенно, --- также конечным автоматом $КА_{I}$.\n",
        "\n",
        "Обратимся к определению, $КА_3 = КА_1\\cap КА_2 = (S^{1}\\times S^{2}, \\Delta^{3}, S^{1}_S\\times S^{2}_S, S^{1}_F\\times S^{2}_F)$, где функция переходов задаётся как\n",
        "$\\Delta^{3}: (v_i, v_j)\\times l_{abel}\\rightarrow (u_i, u_j)$\n",
        "\n",
        "$\n",
        "\\begin{cases}\n",
        "v_i\\in S^{1}\\times l\\rightarrow u_i\\in S^{1}\\in\\Delta^{1} \\\\\n",
        "v_j\\in S^{2}\\times l\\rightarrow u_j\\in S^{2}\\in\\Delta^{2}\n",
        "\\end{cases}$\n",
        "\n",
        "Для нахождения функции переходов $\\Delta^{I}$ используется алгоритм, основанный на тензорном произведении булевых матриц смежности конечных автоматов $КА_{G}$ и $КА_{Q}$, также известном как произведение Кронекера, и последующем построении транизитивного замыкания.\n",
        "\n",
        "В данной работе будет экспериментально исследована скорость работы описанного алгоритма решения проблемы $RPQ$, реализованный в двух вариантах --- на CPU и GPU."
      ]
    },
    {
      "cell_type": "markdown",
      "metadata": {
        "id": "YLVGwYe4pibu"
      },
      "source": [
        "---\n",
        "\n",
        "## Постановка цели работы\n",
        "\n",
        "Для достижения поставленной цели --- экспериментального исследования скорости работы описанного алгоритма решения проблемы $RPQ$ --- необходимо выполнить следующие подзадачи:\n",
        "\n",
        "- Используя разряженные матрицы [scipy.sparse](https://docs.scipy.org/doc/scipy/reference/sparse.html) реализовать алгоритм пересечения двух конечных автоматов через тензорное произведение с использованием $CPU$;\n",
        "- Используя библиотеку [puCuBool](https://pypi.org/project/pycubool/) реализовать алгоритм пересечения двух конечных автоматов через тензорное произведение с использованием технологии $CUDA$ для $GPU$;\n",
        "- Сформировать датасет, необходимый для проведения экспериментов;\n",
        "- Произвести сравнительный анализ производительности версий алгоритма."
      ]
    },
    {
      "cell_type": "markdown",
      "metadata": {
        "id": "63VKNyv6pe9D"
      },
      "source": [
        "---\n",
        "\n",
        "## Исследуемые версии алгоритма\n",
        "\n",
        "Элементами матрицы смежности для конечного автомата являются подмножества его меток, по которым возможен переход в данных состояниях. Чтобы не вводить операцию пересечения множеств в тензорном произведении, матрицы смежности двух конечных автоматов приводятся к виду булевых матриц по всем символам.\n",
        "\n",
        "На практике, булевы матрицы являются сильно разреженными. Поэтому сравниваемые версии алгоритма используют библиотеки для работы с разреженными матрицами:\n",
        "\n",
        "- [scipy.sparse](https://docs.scipy.org/doc/scipy/reference/sparse.html)\n",
        "- [puCuBool](https://pypi.org/project/pycubool/)\n",
        "\n",
        "---"
      ]
    },
    {
      "cell_type": "code",
      "metadata": {
        "id": "QwsOy8uLoq5y",
        "outputId": "fa1fdc9c-aead-4829-d688-eb1efae76791",
        "colab": {
          "base_uri": "https://localhost:8080/"
        }
      },
      "source": [
        "# Развёртывание https://github.com/kznts9v-1lya/formal-lang-course\n",
        "!git clone https://github.com/kznts9v-1lya/formal-lang-course"
      ],
      "execution_count": 3,
      "outputs": [
        {
          "output_type": "stream",
          "name": "stdout",
          "text": [
            "fatal: destination path 'formal-lang-course' already exists and is not an empty directory.\n"
          ]
        }
      ]
    },
    {
      "cell_type": "code",
      "metadata": {
        "id": "RekSR7GgpBKR",
        "outputId": "93101c83-7808-4583-ba59-095462b44c8a",
        "colab": {
          "base_uri": "https://localhost:8080/"
        }
      },
      "source": [
        "# Установка внешних зависимостей\n",
        "!pip install -r formal-lang-course/requirements.txt"
      ],
      "execution_count": 4,
      "outputs": [
        {
          "output_type": "stream",
          "name": "stdout",
          "text": [
            "Requirement already satisfied: antlr4-python3-runtime in /usr/local/lib/python3.7/dist-packages (from -r formal-lang-course/requirements.txt (line 1)) (4.9.2)\n",
            "Requirement already satisfied: black in /usr/local/lib/python3.7/dist-packages (from -r formal-lang-course/requirements.txt (line 2)) (21.9b0)\n",
            "Requirement already satisfied: cfpq-data in /usr/local/lib/python3.7/dist-packages (from -r formal-lang-course/requirements.txt (line 3)) (1.0.2)\n",
            "Requirement already satisfied: numpy in /usr/local/lib/python3.7/dist-packages (from -r formal-lang-course/requirements.txt (line 4)) (1.19.5)\n",
            "Requirement already satisfied: pre-commit in /usr/local/lib/python3.7/dist-packages (from -r formal-lang-course/requirements.txt (line 5)) (2.15.0)\n",
            "Requirement already satisfied: pydot in /usr/local/lib/python3.7/dist-packages (from -r formal-lang-course/requirements.txt (line 6)) (1.3.0)\n",
            "Requirement already satisfied: pyformlang in /usr/local/lib/python3.7/dist-packages (from -r formal-lang-course/requirements.txt (line 7)) (0.1.26)\n",
            "Requirement already satisfied: pytest in /usr/local/lib/python3.7/dist-packages (from -r formal-lang-course/requirements.txt (line 8)) (3.6.4)\n",
            "Requirement already satisfied: scipy in /usr/local/lib/python3.7/dist-packages (from -r formal-lang-course/requirements.txt (line 9)) (1.4.1)\n",
            "Requirement already satisfied: mypy-extensions>=0.4.3 in /usr/local/lib/python3.7/dist-packages (from black->-r formal-lang-course/requirements.txt (line 2)) (0.4.3)\n",
            "Requirement already satisfied: typed-ast>=1.4.2 in /usr/local/lib/python3.7/dist-packages (from black->-r formal-lang-course/requirements.txt (line 2)) (1.4.3)\n",
            "Requirement already satisfied: click>=7.1.2 in /usr/local/lib/python3.7/dist-packages (from black->-r formal-lang-course/requirements.txt (line 2)) (7.1.2)\n",
            "Requirement already satisfied: regex>=2020.1.8 in /usr/local/lib/python3.7/dist-packages (from black->-r formal-lang-course/requirements.txt (line 2)) (2021.9.30)\n",
            "Requirement already satisfied: tomli<2.0.0,>=0.2.6 in /usr/local/lib/python3.7/dist-packages (from black->-r formal-lang-course/requirements.txt (line 2)) (1.2.1)\n",
            "Requirement already satisfied: pathspec<1,>=0.9.0 in /usr/local/lib/python3.7/dist-packages (from black->-r formal-lang-course/requirements.txt (line 2)) (0.9.0)\n",
            "Requirement already satisfied: platformdirs>=2 in /usr/local/lib/python3.7/dist-packages (from black->-r formal-lang-course/requirements.txt (line 2)) (2.4.0)\n",
            "Requirement already satisfied: typing-extensions>=3.10.0.0 in /usr/local/lib/python3.7/dist-packages (from black->-r formal-lang-course/requirements.txt (line 2)) (3.10.0.2)\n",
            "Requirement already satisfied: boto3==1.18.31 in /usr/local/lib/python3.7/dist-packages (from cfpq-data->-r formal-lang-course/requirements.txt (line 3)) (1.18.31)\n",
            "Requirement already satisfied: tqdm==4.62.2 in /usr/local/lib/python3.7/dist-packages (from cfpq-data->-r formal-lang-course/requirements.txt (line 3)) (4.62.2)\n",
            "Requirement already satisfied: rdflib==6.0.0 in /usr/local/lib/python3.7/dist-packages (from cfpq-data->-r formal-lang-course/requirements.txt (line 3)) (6.0.0)\n",
            "Requirement already satisfied: networkx==2.6.2 in /usr/local/lib/python3.7/dist-packages (from cfpq-data->-r formal-lang-course/requirements.txt (line 3)) (2.6.2)\n",
            "Requirement already satisfied: jmespath<1.0.0,>=0.7.1 in /usr/local/lib/python3.7/dist-packages (from boto3==1.18.31->cfpq-data->-r formal-lang-course/requirements.txt (line 3)) (0.10.0)\n",
            "Requirement already satisfied: botocore<1.22.0,>=1.21.31 in /usr/local/lib/python3.7/dist-packages (from boto3==1.18.31->cfpq-data->-r formal-lang-course/requirements.txt (line 3)) (1.21.58)\n",
            "Requirement already satisfied: s3transfer<0.6.0,>=0.5.0 in /usr/local/lib/python3.7/dist-packages (from boto3==1.18.31->cfpq-data->-r formal-lang-course/requirements.txt (line 3)) (0.5.0)\n",
            "Requirement already satisfied: pyparsing in /usr/local/lib/python3.7/dist-packages (from rdflib==6.0.0->cfpq-data->-r formal-lang-course/requirements.txt (line 3)) (2.4.7)\n",
            "Requirement already satisfied: setuptools in /usr/local/lib/python3.7/dist-packages (from rdflib==6.0.0->cfpq-data->-r formal-lang-course/requirements.txt (line 3)) (57.4.0)\n",
            "Requirement already satisfied: isodate in /usr/local/lib/python3.7/dist-packages (from rdflib==6.0.0->cfpq-data->-r formal-lang-course/requirements.txt (line 3)) (0.6.0)\n",
            "Requirement already satisfied: urllib3<1.27,>=1.25.4 in /usr/local/lib/python3.7/dist-packages (from botocore<1.22.0,>=1.21.31->boto3==1.18.31->cfpq-data->-r formal-lang-course/requirements.txt (line 3)) (1.26.7)\n",
            "Requirement already satisfied: python-dateutil<3.0.0,>=2.1 in /usr/local/lib/python3.7/dist-packages (from botocore<1.22.0,>=1.21.31->boto3==1.18.31->cfpq-data->-r formal-lang-course/requirements.txt (line 3)) (2.8.2)\n",
            "Requirement already satisfied: six>=1.5 in /usr/local/lib/python3.7/dist-packages (from python-dateutil<3.0.0,>=2.1->botocore<1.22.0,>=1.21.31->boto3==1.18.31->cfpq-data->-r formal-lang-course/requirements.txt (line 3)) (1.15.0)\n",
            "Requirement already satisfied: nodeenv>=0.11.1 in /usr/local/lib/python3.7/dist-packages (from pre-commit->-r formal-lang-course/requirements.txt (line 5)) (1.6.0)\n",
            "Requirement already satisfied: pyyaml>=5.1 in /usr/local/lib/python3.7/dist-packages (from pre-commit->-r formal-lang-course/requirements.txt (line 5)) (5.4.1)\n",
            "Requirement already satisfied: cfgv>=2.0.0 in /usr/local/lib/python3.7/dist-packages (from pre-commit->-r formal-lang-course/requirements.txt (line 5)) (3.3.1)\n",
            "Requirement already satisfied: identify>=1.0.0 in /usr/local/lib/python3.7/dist-packages (from pre-commit->-r formal-lang-course/requirements.txt (line 5)) (2.3.0)\n",
            "Requirement already satisfied: virtualenv>=20.0.8 in /usr/local/lib/python3.7/dist-packages (from pre-commit->-r formal-lang-course/requirements.txt (line 5)) (20.8.1)\n",
            "Requirement already satisfied: toml in /usr/local/lib/python3.7/dist-packages (from pre-commit->-r formal-lang-course/requirements.txt (line 5)) (0.10.2)\n",
            "Requirement already satisfied: importlib-metadata in /usr/local/lib/python3.7/dist-packages (from pre-commit->-r formal-lang-course/requirements.txt (line 5)) (4.8.1)\n",
            "Requirement already satisfied: distlib<1,>=0.3.1 in /usr/local/lib/python3.7/dist-packages (from virtualenv>=20.0.8->pre-commit->-r formal-lang-course/requirements.txt (line 5)) (0.3.3)\n",
            "Requirement already satisfied: backports.entry-points-selectable>=1.0.4 in /usr/local/lib/python3.7/dist-packages (from virtualenv>=20.0.8->pre-commit->-r formal-lang-course/requirements.txt (line 5)) (1.1.0)\n",
            "Requirement already satisfied: filelock<4,>=3.0.0 in /usr/local/lib/python3.7/dist-packages (from virtualenv>=20.0.8->pre-commit->-r formal-lang-course/requirements.txt (line 5)) (3.3.0)\n",
            "Requirement already satisfied: zipp>=0.5 in /usr/local/lib/python3.7/dist-packages (from importlib-metadata->pre-commit->-r formal-lang-course/requirements.txt (line 5)) (3.6.0)\n",
            "Requirement already satisfied: py>=1.5.0 in /usr/local/lib/python3.7/dist-packages (from pytest->-r formal-lang-course/requirements.txt (line 8)) (1.10.0)\n",
            "Requirement already satisfied: pluggy<0.8,>=0.5 in /usr/local/lib/python3.7/dist-packages (from pytest->-r formal-lang-course/requirements.txt (line 8)) (0.7.1)\n",
            "Requirement already satisfied: more-itertools>=4.0.0 in /usr/local/lib/python3.7/dist-packages (from pytest->-r formal-lang-course/requirements.txt (line 8)) (8.10.0)\n",
            "Requirement already satisfied: attrs>=17.4.0 in /usr/local/lib/python3.7/dist-packages (from pytest->-r formal-lang-course/requirements.txt (line 8)) (21.2.0)\n",
            "Requirement already satisfied: atomicwrites>=1.0 in /usr/local/lib/python3.7/dist-packages (from pytest->-r formal-lang-course/requirements.txt (line 8)) (1.4.0)\n"
          ]
        }
      ]
    },
    {
      "cell_type": "code",
      "metadata": {
        "id": "1wcQJdNmpK19"
      },
      "source": [
        "# Инициализация директории в окружении\n",
        "import sys\n",
        "sys.path.insert(1, 'formal-lang-course')"
      ],
      "execution_count": 6,
      "outputs": []
    },
    {
      "cell_type": "markdown",
      "metadata": {
        "id": "ptGwsEWtpay5"
      },
      "source": [
        "---\n",
        "\n",
        "## Описание данных для экспериментов\n",
        "\n",
        "В качестве $L_G$ использовуются графы из [RDF](https://jetbrains-research.github.io/CFPQ_Data/dataset/RDF.html) датасета.\n",
        "\n",
        "В запросах используются все общепринятые конструкции регулярных выражений (замыкание, конкатенация, альтернатива)."
      ]
    },
    {
      "cell_type": "code",
      "metadata": {
        "id": "38ck5KGsqlQ8"
      },
      "source": [
        "# Названия использующихся графов\n",
        "\n",
        "GRAPHS = (\n",
        "    # \"skos\",\n",
        "    # \"generations\",\n",
        "    # \"travel\",\n",
        "    # \"univ_bench\",\n",
        "    # \"atom_primitive\",\n",
        "    # \"biomedical_mesure_primitive\",\n",
        "    # \"foaf\",\n",
        "    # \"people_pets\",\n",
        "    # \"funding\",\n",
        "    # \"wine\",\n",
        "    # \"pizza\",\n",
        "    # \"core\",\n",
        "    # \"pathways\",\n",
        "    # \"enzyme\",\n",
        "    \"eclass_514en\",\n",
        "    \"go_hierarchy\",\n",
        "    \"go\",\n",
        "    \"geospecies\",\n",
        ")"
      ],
      "execution_count": 10,
      "outputs": []
    },
    {
      "cell_type": "code",
      "metadata": {
        "id": "ROzjp4iuq_fC",
        "outputId": "f7db71f6-6378-470f-8cdb-866390e53223",
        "colab": {
          "base_uri": "https://localhost:8080/"
        }
      },
      "source": [
        "# Информация о графах\n",
        "\n",
        "from project.graph_tools import get_description\n",
        "\n",
        "for graph in GRAPHS:\n",
        "  print(f\"{graph}: {get_description(graph)}\")"
      ],
      "execution_count": 13,
      "outputs": [
        {
          "output_type": "stream",
          "name": "stdout",
          "text": [
            "eclass_514en: - number of nodes: 239111\n",
            "\t- number of edges: 360248\n",
            "\t- edge labels: {rdflib.term.URIRef('http://www.w3.org/2000/01/rdf-schema#subPropertyOf'), rdflib.term.URIRef('http://purl.org/dc/elements/1.1/creator'), rdflib.term.URIRef('http://www.w3.org/2000/01/rdf-schema#subClassOf'), rdflib.term.URIRef('http://www.w3.org/2000/01/rdf-schema#range'), rdflib.term.URIRef('http://www.w3.org/1999/02/22-rdf-syntax-ns#type'), rdflib.term.URIRef('http://www.w3.org/2000/01/rdf-schema#domain'), rdflib.term.URIRef('http://www.w3.org/2000/01/rdf-schema#comment'), rdflib.term.URIRef('http://www.w3.org/2002/07/owl#imports'), rdflib.term.URIRef('http://www.w3.org/2000/01/rdf-schema#label'), rdflib.term.URIRef('http://www.ebusiness-unibw.org/ontologies/eclass/5.1.4/#hierarchyCode')}\n",
            "go_hierarchy: - number of nodes: 45007\n",
            "\t- number of edges: 490109\n",
            "\t- edge labels: {rdflib.term.URIRef('http://www.w3.org/2000/01/rdf-schema#subClassOf')}\n",
            "go: - number of nodes: 582929\n",
            "\t- number of edges: 1437437\n",
            "\t- edge labels: {rdflib.term.URIRef('http://www.geneontology.org/formats/oboInOwl#hasDbXref'), rdflib.term.URIRef('http://www.w3.org/2000/01/rdf-schema#subPropertyOf'), rdflib.term.URIRef('http://www.w3.org/2002/07/owl#onProperty'), rdflib.term.URIRef('http://purl.obolibrary.org/obo/IAO_0000589'), rdflib.term.URIRef('http://purl.org/dc/elements/1.1/creator'), rdflib.term.URIRef('http://www.w3.org/2000/01/rdf-schema#subClassOf'), rdflib.term.URIRef('http://purl.obolibrary.org/obo/IAO_0000115'), rdflib.term.URIRef('http://www.w3.org/2002/07/owl#versionIRI'), rdflib.term.URIRef('http://www.w3.org/2002/07/owl#annotatedProperty'), rdflib.term.URIRef('http://www.geneontology.org/formats/oboInOwl#hasSynonymType'), rdflib.term.URIRef('http://www.w3.org/2002/07/owl#inverseOf'), rdflib.term.URIRef('http://www.geneontology.org/formats/oboInOwl#SynonymTypeProperty'), rdflib.term.URIRef('http://www.w3.org/2002/07/owl#annotatedSource'), rdflib.term.URIRef('http://purl.obolibrary.org/obo/IAO_0000231'), rdflib.term.URIRef('http://www.geneontology.org/formats/oboInOwl#default-namespace'), rdflib.term.URIRef('http://www.w3.org/1999/02/22-rdf-syntax-ns#rest'), rdflib.term.URIRef('http://www.w3.org/2000/01/rdf-schema#label'), rdflib.term.URIRef('http://www.w3.org/2002/07/owl#someValuesFrom'), rdflib.term.URIRef('http://purl.obolibrary.org/obo/IAO_0100001'), rdflib.term.URIRef('http://purl.org/dc/elements/1.1/date'), rdflib.term.URIRef('http://www.geneontology.org/formats/oboInOwl#creation_date'), rdflib.term.URIRef('http://www.geneontology.org/formats/oboInOwl#hasExactSynonym'), rdflib.term.URIRef('http://purl.org/dc/terms/license'), rdflib.term.URIRef('http://www.geneontology.org/formats/oboInOwl#hasOBOFormatVersion'), rdflib.term.URIRef('http://www.geneontology.org/formats/oboInOwl#hasScope'), rdflib.term.URIRef('http://www.w3.org/2002/07/owl#intersectionOf'), rdflib.term.URIRef('http://www.w3.org/2000/01/rdf-schema#comment'), rdflib.term.URIRef('http://www.geneontology.org/formats/oboInOwl#hasAlternativeId'), rdflib.term.URIRef('http://www.w3.org/2002/07/owl#propertyChainAxiom'), rdflib.term.URIRef('http://www.geneontology.org/formats/oboInOwl#hasNarrowSynonym'), rdflib.term.URIRef('http://www.geneontology.org/formats/oboInOwl#id'), rdflib.term.URIRef('http://www.geneontology.org/formats/oboInOwl#hasRelatedSynonym'), rdflib.term.URIRef('http://www.geneontology.org/formats/oboInOwl#hasOBONamespace'), rdflib.term.URIRef('http://www.geneontology.org/formats/oboInOwl#consider'), rdflib.term.URIRef('http://www.w3.org/1999/02/22-rdf-syntax-ns#first'), rdflib.term.URIRef('http://purl.obolibrary.org/obo/IAO_0000425'), rdflib.term.URIRef('http://www.geneontology.org/formats/oboInOwl#is_metadata_tag'), rdflib.term.URIRef('http://www.geneontology.org/formats/oboInOwl#hasBroadSynonym'), rdflib.term.URIRef('http://www.w3.org/2002/07/owl#deprecated'), rdflib.term.URIRef('http://www.w3.org/2002/07/owl#annotatedTarget'), rdflib.term.URIRef('http://www.geneontology.org/formats/oboInOwl#created_by'), rdflib.term.URIRef('http://www.geneontology.org/formats/oboInOwl#inSubset'), rdflib.term.URIRef('http://www.w3.org/2002/07/owl#equivalentClass'), rdflib.term.URIRef('http://www.geneontology.org/formats/oboInOwl#is_class_level'), rdflib.term.URIRef('http://www.geneontology.org/formats/oboInOwl#shorthand'), rdflib.term.URIRef('http://www.w3.org/2002/07/owl#disjointWith'), rdflib.term.URIRef('http://www.w3.org/1999/02/22-rdf-syntax-ns#type')}\n"
          ]
        },
        {
          "output_type": "stream",
          "name": "stderr",
          "text": [
            "file:///usr/local/lib/python3.7/dist-packages/cfpq_data/data/RDF/Graphs/<http:/sw.opencyc.org/concept/Mx4rvVi495wpEbGdrcN5Y29ycA> does not look like a valid URI, trying to serialize this will break.\n",
            "file:///usr/local/lib/python3.7/dist-packages/cfpq_data/data/RDF/Graphs/<http:/sw.opencyc.org/concept/Mx4rvVi495wpEbGdrcN5Y29ycA> does not look like a valid URI, trying to serialize this will break.\n"
          ]
        },
        {
          "output_type": "stream",
          "name": "stdout",
          "text": [
            "geospecies: - number of nodes: 450609\n",
            "\t- number of edges: 2201532\n",
            "\t- edge labels: {rdflib.term.URIRef('http://rdf.geospecies.org/ont/geospecies#isExpectedIn'), rdflib.term.URIRef('http://rdf.geospecies.org/ont/geospecies#hasDateRange'), rdflib.term.URIRef('http://rdf.geospecies.org/ont/geospecies#hasWikispeciesArticle'), rdflib.term.URIRef('http://www.w3.org/2000/01/rdf-schema#seeAlso'), rdflib.term.URIRef('http://rdf.geospecies.org/ont/geospecies#hasLowExpectationOf'), rdflib.term.URIRef('http://rdf.geospecies.org/ont/geospecies#closeMatch'), rdflib.term.URIRef('http://rdf.geospecies.org/ont/geospecies#isUnknownAboutIn'), rdflib.term.URIRef('http://rdf.geospecies.org/ont/geospecies#hasExpectationOf'), rdflib.term.URIRef('http://rdf.geospecies.org/ont/geospecies#hasOmernik_3_Ecozone'), rdflib.term.URIRef('http://rdf.geospecies.org/ont/geospecies#hasSpecificEpithet'), rdflib.term.URIRef('http://purl.org/dc/terms/license'), rdflib.term.URIRef('http://rdf.geospecies.org/ont/geospecies#hasCountyName'), rdflib.term.URIRef('http://www.w3.org/2004/02/skos/core#relatedMatch'), rdflib.term.URIRef('http://www.w3.org/2002/12/cal#summary'), rdflib.term.URIRef('http://rdf.geospecies.org/ont/geospecies#hasWisconsinHerbariumHabitatAssociation'), rdflib.term.URIRef('http://rdf.geospecies.org/ont/geospecies#hasCollector'), rdflib.term.URIRef('http://rdf.geospecies.org/ont/geospecies#hasNCBI'), rdflib.term.URIRef('http://rs.tdwg.org/dwc/terms/locality'), rdflib.term.URIRef('http://xmlns.com/foaf/0.1/homepage'), rdflib.term.URIRef('http://rdf.geospecies.org/ont/geospecies#hasLocationName'), rdflib.term.URIRef('http://purl.org/dc/terms/language'), rdflib.term.URIRef('http://rs.tdwg.org/dwc/terms/county'), rdflib.term.URIRef('http://xmlns.com/foaf/0.1/primaryTopic'), rdflib.term.URIRef('http://rdf.geospecies.org/ont/geospecies#hasStartDayOfYear'), rdflib.term.URIRef('http://rdf.geospecies.org/ont/geospecies#hasWikipediaArticle'), rdflib.term.URIRef('http://rdf.geospecies.org/ont/geospecies#hasCommonName'), rdflib.term.URIRef('http://rdf.geospecies.org/ont/geospecies#hasDayOfYear'), rdflib.term.URIRef('http://xmlns.com/foaf/0.1/topic'), rdflib.term.URIRef('http://rdf.geospecies.org/ont/geospecies#wasObservedIn'), rdflib.term.URIRef('http://rdf.geospecies.org/ont/geospecies#inKingdom'), rdflib.term.URIRef('http://xmlns.com/foaf/0.1/maker'), rdflib.term.URIRef('http://rdf.geospecies.org/ont/geospecies#hasGNIPage'), rdflib.term.URIRef('http://rdf.geospecies.org/ont/geospecies#hasCountry'), rdflib.term.URIRef('http://rdf.geospecies.org/ont/geospecies#siteOrder'), rdflib.term.URIRef('http://rdf.geospecies.org/ont/geospecies#hasContinent'), rdflib.term.URIRef('http://rdfs.org/ns/void#subset'), rdflib.term.URIRef('http://rs.tdwg.org/dwc/terms/geodeticDatum'), rdflib.term.URIRef('http://www.w3.org/2003/01/geo/wgs84_pos#lat'), rdflib.term.URIRef('http://rdf.geospecies.org/ont/geospecies#inClass'), rdflib.term.URIRef('http://rdf.geospecies.org/ont/geospecies#hasOrderName'), rdflib.term.URIRef('http://rdf.geospecies.org/ont/geospecies#hasBBC_Ecozone'), rdflib.term.URIRef('http://www.w3.org/1999/02/22-rdf-syntax-ns#type'), rdflib.term.URIRef('http://www.w3.org/2004/02/skos/core#altLabel'), rdflib.term.URIRef('http://rdf.geospecies.org/ont/geospecies#hasScientificName'), rdflib.term.URIRef('http://rdf.geospecies.org/ont/geospecies#hasSubfamilyName'), rdflib.term.URIRef('http://creativecommons.org/ns#morePermissions'), rdflib.term.URIRef('http://purl.org/dc/terms/source'), rdflib.term.URIRef('http://purl.org/dc/elements/1.1/title'), rdflib.term.URIRef('http://rs.tdwg.org/dwc/terms/coordinateUncertaintyInMeters'), rdflib.term.URIRef('http://rdf.geospecies.org/ont/geospecies#inOrder'), rdflib.term.URIRef('http://rdf.geospecies.org/ont/geospecies#isUSDA_ExpectedIn'), rdflib.term.URIRef('http://rdf.geospecies.org/ont/geospecies#hasSite'), rdflib.term.URIRef('http://rdf.geospecies.org/ont/geospecies#hasContinentName'), rdflib.term.URIRef('http://purl.org/dc/terms/isReferencedBy'), rdflib.term.URIRef('http://xmlns.com/foaf/0.1/closeMatch'), rdflib.term.URIRef('http://rdf.geospecies.org/ont/geospecies#hasSubgenusName'), rdflib.term.URIRef('http://rdf.geospecies.org/ont/geospecies#hasGBIFPage'), rdflib.term.URIRef('http://rdf.geospecies.org/ont/geospecies#hasLocalityName'), rdflib.term.URIRef('http://rdf.geospecies.org/ont/geospecies#hasBugGuidePage'), rdflib.term.URIRef('http://dbpedia.org/property/hasPhotoCollection'), rdflib.term.URIRef('http://purl.uniprot.org/core/rank'), rdflib.term.URIRef('http://rdf.geospecies.org/ont/geospecies#hasClassName'), rdflib.term.URIRef('http://www.w3.org/2004/02/skos/core#broaderTransitive'), rdflib.term.URIRef('http://rdfs.org/ns/void#uriRegexPattern'), rdflib.term.URIRef('http://rs.tdwg.org/dwc/terms/stateProvince'), rdflib.term.URIRef('http://rdf.geospecies.org/ont/geospecies#hasBioLib'), rdflib.term.URIRef('http://rdf.geospecies.org/ont/geospecies#hasEOL'), rdflib.term.URIRef('http://xmlns.com/foaf/0.1/depiction'), rdflib.term.URIRef('http://rdf.geospecies.org/ont/geospecies#hasTreeBaseID'), rdflib.term.URIRef('http://purl.org/dc/terms/created'), rdflib.term.URIRef('http://rdf.geospecies.org/ont/geospecies#hasGNI'), rdflib.term.URIRef('http://rdf.geospecies.org/ont/geospecies#hasGeodeticDatum'), rdflib.term.URIRef('http://xmlns.com/foaf/0.1/page'), rdflib.term.URIRef('http://rdf.geospecies.org/ont/geospecies#hasToLPage'), rdflib.term.URIRef('http://creativecommons.org/ns#License'), rdflib.term.URIRef('http://rdf.geospecies.org/ont/geospecies#inPhylum'), rdflib.term.URIRef('http://rdf.geospecies.org/ont/geospecies#hasObservationMethod'), rdflib.term.URIRef('http://rdf.geospecies.org/ont/geospecies#relatedMatch'), rdflib.term.URIRef('http://purl.org/dc/terms/subject'), rdflib.term.URIRef('http://rdf.geospecies.org/ont/geospecies#hasGBIF'), rdflib.term.URIRef('http://rdf.geospecies.org/ont/geospecies#hasUUID'), rdflib.term.URIRef('http://rdf.geospecies.org/ont/geospecies#hasNomenclaturalCode'), rdflib.term.URIRef('http://rdf.geospecies.org/ont/geospecies#hasFamilyInfoContributor'), rdflib.term.URIRef('http://rdf.geospecies.org/ont/geospecies#hasBBCPage'), rdflib.term.URIRef('http://rdf.geospecies.org/ont/geospecies#speciesReference'), rdflib.term.URIRef('http://rdf.geospecies.org/ont/geospecies#hasEndDayOfYear'), rdflib.term.URIRef('http://rs.tdwg.org/dwc/terms/countryCode'), rdflib.term.URIRef('http://rdf.geospecies.org/ont/geospecies#hasUSDA_Growth'), rdflib.term.URIRef('http://xmlns.com/foaf/0.1/name'), rdflib.term.URIRef('http://rdf.geospecies.org/ont/families/wQViY/wQViY_ontology.owl#isPossibleMosquitoVectorOfVirus'), rdflib.term.URIRef('http://rdf.geospecies.org/ont/geospecies#hasStateProvince'), rdflib.term.URIRef('http://purl.org/rss/1.0/modules/event/startdate'), rdflib.term.URIRef('http://rdf.geospecies.org/ont/geospecies#hasWI_Herbarium_Habitat'), rdflib.term.URIRef('http://purl.org/NET/scovo#dimension'), rdflib.term.URIRef('http://creativecommons.org/ns#attributionURL'), rdflib.term.URIRef('http://rdf.geospecies.org/ont/geospecies#hasScientificNameAuthorship'), rdflib.term.URIRef('http://rdf.geospecies.org/ont/geospecies#isBugGuidePageOf'), rdflib.term.URIRef('http://rdf.geospecies.org/ont/families/wQViY/wQViY_ontology.owl#isPossibleMosquitoVectorOfHumanMalaria'), rdflib.term.URIRef('http://www.w3.org/2004/02/skos/core#narrowerTransitive'), rdflib.term.URIRef('http://www.w3.org/2004/02/skos/core#closeMatch'), rdflib.term.URIRef('http://rdf.geospecies.org/ont/geospecies#hasSubspeciesName'), rdflib.term.URIRef('http://rdf.geospecies.org/ont/geospecies#hasGenusName'), rdflib.term.URIRef('http://www.w3.org/2000/01/rdf-schema#comment'), rdflib.term.URIRef('http://purl.org/rss/1.0/modules/event/type'), rdflib.term.URIRef('http://rs.tdwg.org/dwc/terms/continent'), rdflib.term.URIRef('http://rdf.geospecies.org/ont/geospecies#hasFamilyName'), rdflib.term.URIRef('http://rdf.geospecies.org/ont/geospecies#hasObservationOf'), rdflib.term.URIRef('http://purl.org/ontology/bibo/uri'), rdflib.term.URIRef('http://purl.org/rss/1.0/modules/event/location'), rdflib.term.URIRef('http://www.geonames.org/ontology#parentFeature'), rdflib.term.URIRef('http://purl.org/dc/terms/description'), rdflib.term.URIRef('http://rdf.geospecies.org/ont/geospecies#hasITIS'), rdflib.term.URIRef('http://purl.org/dc/terms/coverage'), rdflib.term.URIRef('http://rdf.geospecies.org/ont/geospecies#hasBioLibPage'), rdflib.term.URIRef('http://rdf.geospecies.org/ont/geospecies#hasArticle'), rdflib.term.URIRef('http://xmlns.com/foaf/0.1/isPrimaryTopicOf'), rdflib.term.URIRef('http://rdfs.org/ns/void#exampleResource'), rdflib.term.URIRef('http://rdfs.org/ns/void#dataDumpLocation'), rdflib.term.URIRef('http://rdf.geospecies.org/ont/geospecies#siteFamily'), rdflib.term.URIRef('http://rdfs.org/ns/void#vocabulary'), rdflib.term.URIRef('http://purl.org/dc/terms/isPartOf'), rdflib.term.URIRef('http://rdf.geospecies.org/ont/geospecies#isNotUSDA_ExpectedIn'), rdflib.term.URIRef('http://rdf.geospecies.org/ont/geospecies#inFamily'), rdflib.term.URIRef('http://rdf.geospecies.org/ont/families/wQViY/wQViY_ontology.owl#humanMalarialParasiteHasPossibleMosquitoVector'), rdflib.term.URIRef('http://rdf.geospecies.org/ont/geospecies#hasSpecies'), rdflib.term.URIRef('http://rdf.geospecies.org/ont/geospecies#hasPhylumName'), rdflib.term.URIRef('http://xmlns.com/foaf/0.1/primaryTopicOf'), rdflib.term.URIRef('http://www.w3.org/2002/07/owl#sameAs'), rdflib.term.URIRef('http://rs.tdwg.org/dwc/terms/country'), rdflib.term.URIRef('http://rdf.geospecies.org/ont/geospecies#hasNoUSDA_ExpectationOf'), rdflib.term.URIRef('http://purl.org/dc/terms/modified'), rdflib.term.URIRef('http://rdfs.org/ns/void#statItem'), rdflib.term.URIRef('http://rdfs.org/ns/void#target'), rdflib.term.URIRef('http://rdf.geospecies.org/ont/geospecies#hasLocation'), rdflib.term.URIRef('http://www.w3.org/2004/02/skos/core#prefLabel'), rdflib.term.URIRef('http://rdf.geospecies.org/ont/geospecies#hasBBC_EcozoneName'), rdflib.term.URIRef('http://purl.org/dc/terms/type'), rdflib.term.URIRef('http://xmlns.com/foaf/0.1/Organization'), rdflib.term.URIRef('http://rdf.geospecies.org/ont/geospecies#hasOmernik_4_Ecozone'), rdflib.term.URIRef('http://rdf.geospecies.org/ont/families/wQViY/wQViY_ontology.owl#humanVirusHasPossibleMosquitoVector'), rdflib.term.URIRef('http://rs.tdwg.org/dwc/terms/decimalLongitude'), rdflib.term.URIRef('http://creativecommons.org/ns#license'), rdflib.term.URIRef('http://rdf.geospecies.org/ont/geospecies#hasUSDA_ExpectationOf'), rdflib.term.URIRef('http://rdf.geospecies.org/ont/geospecies#hasCountryName'), rdflib.term.URIRef('http://rdf.geospecies.org/ont/geospecies#hasObservation'), rdflib.term.URIRef('http://purl.org/dc/terms/title'), rdflib.term.URIRef('http://umbel.org/umbel#isAligned'), rdflib.term.URIRef('http://rs.tdwg.org/dwc/terms/decimalLatitude'), rdflib.term.URIRef('http://www.w3.org/1999/02/22-rdf-syntax-ns#value'), rdflib.term.URIRef('http://rdf.geospecies.org/ont/geospecies#isUnexpectedIn'), rdflib.term.URIRef('http://rdf.geospecies.org/ont/geospecies#hasCanonicalName'), rdflib.term.URIRef('http://rdf.geospecies.org/ont/geospecies#hasUnknownExpectationOf'), rdflib.term.URIRef('http://purl.org/rss/1.0/modules/event/enddate'), rdflib.term.URIRef('http://rdf.geospecies.org/ont/geospecies#hasStateProvinceName'), rdflib.term.URIRef('http://purl.org/dc/terms/publisher'), rdflib.term.URIRef('http://purl.org/dc/terms/date'), rdflib.term.URIRef('http://purl.org/dc/terms/creator'), rdflib.term.URIRef('http://purl.org/dc/terms/identifier'), rdflib.term.URIRef('http://rs.tdwg.org/dwc/terms/georeferenceVerificationStatus'), rdflib.term.URIRef('http://www.w3.org/2003/01/geo/wgs84_pos#long'), rdflib.term.URIRef('http://creativecommons.org/ns#attributionName'), rdflib.term.URIRef('http://rdf.geospecies.org/ont/geospecies#hasKingdomName'), rdflib.term.URIRef('http://rdf.geospecies.org/ont/geospecies#hasCounty'), rdflib.term.URIRef('http://rdf.geospecies.org/ont/geospecies#hasProject'), rdflib.term.URIRef('http://rdf.geospecies.org/ont/geospecies#hasGeoSpeciesPage')}\n"
          ]
        }
      ]
    },
    {
      "cell_type": "code",
      "metadata": {
        "id": "8ZZa4rOarGL8"
      },
      "source": [
        "# Генерация регулярных выражений - запросов к графам\n",
        "\n",
        "from pyformlang.regular_expression.regex_objects import Symbol\n",
        "from pyformlang.regular_expression import Regex\n",
        "\n",
        "def _regex_from_label(label):\n",
        "  regex = Regex(\"\")\n",
        "  regex.head = Symbol(str(label))\n",
        "\n",
        "  return regex\n",
        "\n",
        "def query_one(labels):\n",
        "  \"\"\"\n",
        "  (l0 | l1)* l2\n",
        "  \"\"\"\n",
        "\n",
        "  label_regex_0 = _regex_from_label(labels[0])\n",
        "  label_regex_1 = _regex_from_label(labels[1])\n",
        "  label_regex_2 = _regex_from_label(labels[2])\n",
        "\n",
        "  return label_regex_0.union(label_regex_1).kleene_star().concatenate(label_regex_2)\n",
        "\n",
        "def query_two(labels):\n",
        "  \"\"\"\n",
        "  l0 | l2 | l1*\n",
        "  \"\"\"\n",
        "\n",
        "  label_regex_0 = _regex_from_label(labels[0])\n",
        "  label_regex_1 = _regex_from_label(labels[1])\n",
        "  label_regex_2 = _regex_from_label(labels[2])\n",
        "\n",
        "  return label_regex_0.union(label_regex_2).union(label_regex_1.kleene_star())\n",
        "\n",
        "def query_three(labels):\n",
        "  \"\"\"\n",
        "  l0 l1 l2 (l3 | l1)*\n",
        "  \"\"\" \n",
        "\n",
        "  label_regex_0 = _regex_from_label(labels[0])\n",
        "  label_regex_1 = _regex_from_label(labels[1])\n",
        "  label_regex_2 = _regex_from_label(labels[2])\n",
        "  label_regex_3 = _regex_from_label(labels[3])\n",
        "\n",
        "  return label_regex_0.concatenate(label_regex_1).concatenate(label_regex_2).\\\n",
        "  concatenate((label_regex_3.union(label_regex_1)).kleene_star())\n",
        "\n",
        "def query_four(labels):\n",
        "  \"\"\"\n",
        "  (l0 | l3)* | (l1 | l2)*\n",
        "  \"\"\"\n",
        "\n",
        "  label_regex_0 = _regex_from_label(labels[0])\n",
        "  label_regex_1 = _regex_from_label(labels[1])\n",
        "  label_regex_2 = _regex_from_label(labels[2])\n",
        "  label_regex_3 = _regex_from_label(labels[3])\n",
        "\n",
        "  left_regex_part = (label_regex_0.union(label_regex_3)).kleene_star()\n",
        "  right_regex_part = (label_regex_1.union(label_regex_2)).kleene_star()\n",
        "\n",
        "  return left_regex_part.union(right_regex_part)"
      ],
      "execution_count": 18,
      "outputs": []
    }
  ]
}