{
 "cells": [
  {
   "cell_type": "markdown",
   "metadata": {
    "colab_type": "text",
    "id": "view-in-github"
   },
   "source": [
    "<a href=\"https://colab.research.google.com/github/kznts9v-1lya/formal-lang-course/blob/task5-rpq-research/researches/rpq_research.ipynb\" target=\"_parent\"><img src=\"https://colab.research.google.com/assets/colab-badge.svg\" alt=\"Open In Colab\"/></a>"
   ]
  },
  {
   "cell_type": "markdown",
   "metadata": {
    "id": "N4X_1vHSZ5cA"
   },
   "source": [
    "# Автор [kznts9v_1lya](https://github.com/kznts9v-1lya)."
   ]
  },
  {
   "cell_type": "markdown",
   "metadata": {
    "id": "yk2eMvtFpowo"
   },
   "source": [
    "---\n",
    "\n",
    "# Экспериментальное исследование производительности CPU и GPU версий алгоритма Regular Path Quering."
   ]
  },
  {
   "cell_type": "markdown",
   "metadata": {
    "id": "yC1AlmimpjT8"
   },
   "source": [
    "## Введение\n",
    "\n",
    "Имеется **размеченный граф** $G$, задающий регулярный язык $L_G$.\n",
    "\n",
    "Имеется **регулярное выражение** $Q$, задающее регулярный язык ограничений $L_Q$.\n",
    "\n",
    "Задача $Regular Path Quering$ решает проблему достижимости между всеми парами вершин с регулярными ограничениями через тензорное произведение. Ограничения представляются в виде пар достижимых вершин графа, представляющего $L_G\\cap L_Q$.\n",
    "\n",
    "$RPQ = \\{(v_i, v_j)|\\exists\\pi:w(v_i\\pi v_j)\\in L, v_i\\in V_S, v_j\\in V_F\\}$, где $L = L_G\\cap L_Q$\n",
    "\n",
    "Известно свойство, что регулярные языки замкнуты относительно пересечения и по ним можно построить конечный автомат, допускающий эти языки. Именно поэтому $RPQ$ строит язык пересечения, задаваемый пересечением двух конечных автоматов $КА_{G}$ и $КА_{Q}$, допускающих $L_G$ и $L_Q$ соответсвенно, --- также конечным автоматом $КА_{I}$.\n",
    "\n",
    "Обратимся к определению, $КА_3 = КА_1\\cap КА_2 = (S^{1}\\times S^{2}, \\Delta^{3}, S^{1}_S\\times S^{2}_S, S^{1}_F\\times S^{2}_F)$, где функция переходов задаётся как\n",
    "$\\Delta^{3}: (v_i, v_j)\\times l_{abel}\\rightarrow (u_i, u_j)$\n",
    "\n",
    "$\n",
    "\\begin{cases}\n",
    "v_i\\in S^{1}\\times l\\rightarrow u_i\\in S^{1}\\in\\Delta^{1} \\\\\n",
    "v_j\\in S^{2}\\times l\\rightarrow u_j\\in S^{2}\\in\\Delta^{2}\n",
    "\\end{cases}$\n",
    "\n",
    "Для нахождения функции переходов $\\Delta^{I}$ используется алгоритм, основанный на тензорном произведении булевых матриц смежности конечных автоматов $КА_{G}$ и $КА_{Q}$, также известном как произведение Кронекера, и последующем построении транизитивного замыкания.\n",
    "\n",
    "В данной работе будет экспериментально исследована скорость работы описанного алгоритма решения проблемы $RPQ$, реализованный в двух вариантах $-$ на $CPU$ и $GPU$."
   ]
  },
  {
   "cell_type": "markdown",
   "metadata": {
    "id": "YLVGwYe4pibu"
   },
   "source": [
    "---\n",
    "\n",
    "## Постановка цели исследования\n",
    "\n",
    "Для достижения поставленной цели $-$ экспериментального исследования скорости работы описанного алгоритма решения проблемы $RPQ$ $-$ необходимо выполнить следующие подзадачи:\n",
    "\n",
    "- Используя разряженные матрицы [scipy.sparse](https://docs.scipy.org/doc/scipy/reference/sparse.html) реализовать алгоритм пересечения двух конечных автоматов через тензорное произведение с использованием $CPU$;\n",
    "- Используя библиотеку [pyCuBool](https://pypi.org/project/pycubool/) реализовать алгоритм пересечения двух конечных автоматов через тензорное произведение с использованием технологии $CUDA$ для $GPU$;\n",
    "- Сформировать датасет, необходимый для проведения экспериментов;\n",
    "- Произвести сравнительный анализ производительности версий алгоритма."
   ]
  },
  {
   "cell_type": "markdown",
   "metadata": {
    "id": "dkVwfu8KfAHo"
   },
   "source": [
    "---\n",
    "\n",
    "## Подготовка окружения"
   ]
  },
  {
   "cell_type": "code",
   "execution_count": 1,
   "metadata": {
    "id": "QwsOy8uLoq5y",
    "pycharm": {
     "is_executing": true
    }
   },
   "outputs": [],
   "source": [
    "# Развёртывание репозитория\n",
    "# !git clone https://github.com/kznts9v-1lya/formal-lang-course.git &> /dev/null\n",
    "# !cd formal-lang-course && git checkout task5-rpq-research &> /dev/null"
   ]
  },
  {
   "cell_type": "code",
   "execution_count": 2,
   "metadata": {
    "id": "RekSR7GgpBKR",
    "pycharm": {
     "is_executing": true
    }
   },
   "outputs": [],
   "source": [
    "# Установка внешних зависимостей\n",
    "# !pip install -r formal-lang-course/requirements.txt &> /dev/null\n",
    "!pip install pycubool &> /dev/null\n",
    "!pip install pandas &> /dev/null\n",
    "!pip install matplotlib &> /dev/null"
   ]
  },
  {
   "cell_type": "code",
   "execution_count": 3,
   "metadata": {
    "id": "1wcQJdNmpK19",
    "pycharm": {
     "is_executing": true
    }
   },
   "outputs": [],
   "source": [
    "# Инициализация директории в окружении\n",
    "# import sys\n",
    "# sys.path.insert(1, 'formal-lang-course')"
   ]
  },
  {
   "cell_type": "markdown",
   "metadata": {
    "id": "BgbY1sZUfF2z"
   },
   "source": [
    "---\n",
    "\n",
    "## Описание данных исследования"
   ]
  },
  {
   "cell_type": "markdown",
   "metadata": {
    "id": "ptGwsEWtpay5"
   },
   "source": [
    "### Графы\n",
    "\n",
    "В качестве $G$ использовуются все графы из [RDF](https://jetbrains-research.github.io/CFPQ_Data/dataset/RDF.html) датасета, за исключением **taxonomy** и **taxonomy_hierarchy** из-за их исключительных размеров."
   ]
  },
  {
   "cell_type": "code",
   "execution_count": 4,
   "metadata": {
    "id": "38ck5KGsqlQ8",
    "pycharm": {
     "is_executing": true
    }
   },
   "outputs": [],
   "source": [
    "# Названия использующихся графов\n",
    "\n",
    "GRAPH_NAMES = (\n",
    "    \"skos\",\n",
    "    \"generations\",\n",
    "    \"travel\",\n",
    "    \"univ_bench\",\n",
    "    \"atom_primitive\",\n",
    "    \"biomedical_mesure_primitive\",\n",
    "    \"foaf\",\n",
    "    \"people_pets\",\n",
    "    \"funding\",\n",
    "    \"wine\",\n",
    "    \"pizza\",\n",
    "    \"core\",\n",
    "    \"pathways\",\n",
    "    \"enzyme\",\n",
    "    \"go_hierarchy\",\n",
    "    \"eclass_514en\",\n",
    "    \"go\",\n",
    "    \"geospecies\",\n",
    ")"
   ]
  },
  {
   "cell_type": "code",
   "execution_count": 5,
   "metadata": {
    "id": "ROzjp4iuq_fC",
    "pycharm": {
     "is_executing": true
    }
   },
   "outputs": [
    {
     "name": "stderr",
     "output_type": "stream",
     "text": [
      "file:///home/kznts9v_1lya/Education/Formal_languages/formal-lang-course/venv/lib/python3.9/site-packages/cfpq_data/data/RDF/Graphs/<http:/sw.opencyc.org/concept/Mx4rvVi495wpEbGdrcN5Y29ycA> does not look like a valid URI, trying to serialize this will break.\n",
      "file:///home/kznts9v_1lya/Education/Formal_languages/formal-lang-course/venv/lib/python3.9/site-packages/cfpq_data/data/RDF/Graphs/<http:/sw.opencyc.org/concept/Mx4rvVi495wpEbGdrcN5Y29ycA> does not look like a valid URI, trying to serialize this will break.\n"
     ]
    }
   ],
   "source": [
    "# Объекты использующихся графов\n",
    "\n",
    "from project.graph_tools import get_from_dataset\n",
    "\n",
    "GRAPHS = []\n",
    "\n",
    "for graph_name in GRAPH_NAMES:\n",
    "  GRAPHS.append(get_from_dataset(graph_name)) "
   ]
  },
  {
   "cell_type": "code",
   "execution_count": 6,
   "metadata": {
    "colab": {
     "base_uri": "https://localhost:8080/",
     "height": 110
    },
    "id": "SdpC3YPgFusz",
    "outputId": "f14b21d7-a15f-4b3a-af62-7e3f9568a68e",
    "pycharm": {
     "is_executing": true
    }
   },
   "outputs": [
    {
     "data": {
      "text/html": [
       "<div>\n",
       "<style scoped>\n",
       "    .dataframe tbody tr th:only-of-type {\n",
       "        vertical-align: middle;\n",
       "    }\n",
       "\n",
       "    .dataframe tbody tr th {\n",
       "        vertical-align: top;\n",
       "    }\n",
       "\n",
       "    .dataframe thead th {\n",
       "        text-align: right;\n",
       "    }\n",
       "</style>\n",
       "<table border=\"1\" class=\"dataframe\">\n",
       "  <thead>\n",
       "    <tr style=\"text-align: right;\">\n",
       "      <th></th>\n",
       "      <th>Node number</th>\n",
       "      <th>Edge number</th>\n",
       "    </tr>\n",
       "  </thead>\n",
       "  <tbody>\n",
       "    <tr>\n",
       "      <th>skos</th>\n",
       "      <td>144</td>\n",
       "      <td>252</td>\n",
       "    </tr>\n",
       "    <tr>\n",
       "      <th>generations</th>\n",
       "      <td>129</td>\n",
       "      <td>273</td>\n",
       "    </tr>\n",
       "    <tr>\n",
       "      <th>travel</th>\n",
       "      <td>131</td>\n",
       "      <td>277</td>\n",
       "    </tr>\n",
       "    <tr>\n",
       "      <th>univ_bench</th>\n",
       "      <td>179</td>\n",
       "      <td>293</td>\n",
       "    </tr>\n",
       "    <tr>\n",
       "      <th>atom_primitive</th>\n",
       "      <td>291</td>\n",
       "      <td>425</td>\n",
       "    </tr>\n",
       "    <tr>\n",
       "      <th>biomedical_mesure_primitive</th>\n",
       "      <td>341</td>\n",
       "      <td>459</td>\n",
       "    </tr>\n",
       "    <tr>\n",
       "      <th>foaf</th>\n",
       "      <td>256</td>\n",
       "      <td>631</td>\n",
       "    </tr>\n",
       "    <tr>\n",
       "      <th>people_pets</th>\n",
       "      <td>337</td>\n",
       "      <td>640</td>\n",
       "    </tr>\n",
       "    <tr>\n",
       "      <th>funding</th>\n",
       "      <td>778</td>\n",
       "      <td>1086</td>\n",
       "    </tr>\n",
       "    <tr>\n",
       "      <th>wine</th>\n",
       "      <td>733</td>\n",
       "      <td>1839</td>\n",
       "    </tr>\n",
       "    <tr>\n",
       "      <th>pizza</th>\n",
       "      <td>671</td>\n",
       "      <td>1980</td>\n",
       "    </tr>\n",
       "    <tr>\n",
       "      <th>core</th>\n",
       "      <td>1323</td>\n",
       "      <td>2752</td>\n",
       "    </tr>\n",
       "    <tr>\n",
       "      <th>pathways</th>\n",
       "      <td>6238</td>\n",
       "      <td>12363</td>\n",
       "    </tr>\n",
       "    <tr>\n",
       "      <th>enzyme</th>\n",
       "      <td>48815</td>\n",
       "      <td>86543</td>\n",
       "    </tr>\n",
       "    <tr>\n",
       "      <th>go</th>\n",
       "      <td>582929</td>\n",
       "      <td>1437437</td>\n",
       "    </tr>\n",
       "    <tr>\n",
       "      <th>go_hierarchy</th>\n",
       "      <td>45007</td>\n",
       "      <td>490109</td>\n",
       "    </tr>\n",
       "    <tr>\n",
       "      <th>eclass_514en</th>\n",
       "      <td>239111</td>\n",
       "      <td>360248</td>\n",
       "    </tr>\n",
       "    <tr>\n",
       "      <th>geospecies</th>\n",
       "      <td>450609</td>\n",
       "      <td>2201532</td>\n",
       "    </tr>\n",
       "  </tbody>\n",
       "</table>\n",
       "</div>"
      ],
      "text/plain": [
       "                             Node number  Edge number\n",
       "skos                                 144          252\n",
       "generations                          129          273\n",
       "travel                               131          277\n",
       "univ_bench                           179          293\n",
       "atom_primitive                       291          425\n",
       "biomedical_mesure_primitive          341          459\n",
       "foaf                                 256          631\n",
       "people_pets                          337          640\n",
       "funding                              778         1086\n",
       "wine                                 733         1839\n",
       "pizza                                671         1980\n",
       "core                                1323         2752\n",
       "pathways                            6238        12363\n",
       "enzyme                             48815        86543\n",
       "go                                582929      1437437\n",
       "go_hierarchy                       45007       490109\n",
       "eclass_514en                      239111       360248\n",
       "geospecies                        450609      2201532"
      ]
     },
     "execution_count": 6,
     "metadata": {},
     "output_type": "execute_result"
    }
   ],
   "source": [
    "# Информация об использующихся графах\n",
    "\n",
    "import pandas as pd\n",
    "\n",
    "node_numbers = []\n",
    "edge_numbers = []\n",
    "for graph in GRAPHS:\n",
    "  node_number, edge_number = graph.description.nodes, graph.description.edges\n",
    "  node_numbers.append(node_number)\n",
    "  edge_numbers.append(edge_number)\n",
    "\n",
    "graph_descriptions_df = pd.DataFrame(\n",
    "    {\n",
    "      \"Node number\": node_numbers,\n",
    "      \"Edge number\": edge_numbers\n",
    "    },\n",
    "    index=GRAPH_NAMES\n",
    ")\n",
    "\n",
    "graph_descriptions_df"
   ]
  },
  {
   "cell_type": "markdown",
   "metadata": {
    "id": "tpSNNIRicWs6"
   },
   "source": [
    "### Запросы\n",
    "\n",
    "Запросы представляют из себя регулярные выражения. В них используются все общепринятые конструкции регулярных выражений (замыкание, конкатенация, альтернатива).\n",
    "\n",
    "Ниже приведён набор из четырёх используемых запросов.\n",
    "- $(L_0 | L_1)^* L_2$\n",
    "- $L_0 | L_2 | L_1^*$\n",
    "- $L_0 L_1 L_2 (L_3 | L_1)^*$\n",
    "- $(L_0 | L_3)^* | (L_1 | L_2)^*$"
   ]
  },
  {
   "cell_type": "markdown",
   "metadata": {
    "id": "mxC_RopAi2fg"
   },
   "source": [
    "#### Генераторы запросов\n",
    "\n",
    "\n",
    "Функции ниже отвечают за генерацию запросов как регулярных выражений."
   ]
  },
  {
   "cell_type": "code",
   "execution_count": 7,
   "metadata": {
    "id": "8ZZa4rOarGL8",
    "pycharm": {
     "is_executing": true
    }
   },
   "outputs": [],
   "source": [
    "# Создание генераторов регулярных выражений --- запросов к графам\n",
    "\n",
    "from pyformlang.regular_expression.regex_objects import Symbol\n",
    "\n",
    "def _regex_from_label(label):\n",
    "  regex = Regex(\"\")\n",
    "  regex.head = Symbol(str(label))\n",
    "\n",
    "  return regex\n",
    "\n",
    "# (L0 | L1)* L2\n",
    "def query_one(labels):\n",
    "  \"\"\"\n",
    "  (L0 | L1)* L2\n",
    "  \"\"\"\n",
    "\n",
    "  label_regex_0 = _regex_from_label(labels[0])\n",
    "  label_regex_1 = _regex_from_label(labels[1])\n",
    "  label_regex_2 = _regex_from_label(labels[2])\n",
    "\n",
    "  return label_regex_0.union(label_regex_1).kleene_star().concatenate(label_regex_2)\n",
    "\n",
    "# L0 | L2 | L1*\n",
    "def query_two(labels):\n",
    "  \"\"\"\n",
    "  L0 | L2 | L1*\n",
    "  \"\"\"\n",
    "\n",
    "  label_regex_0 = _regex_from_label(labels[0])\n",
    "  label_regex_1 = _regex_from_label(labels[1])\n",
    "  label_regex_2 = _regex_from_label(labels[2])\n",
    "\n",
    "  return label_regex_0.union(label_regex_2).union(label_regex_1.kleene_star())\n",
    "\n",
    "# L0 L1 L2 (L3 | L1)*\n",
    "def query_three(labels):\n",
    "  \"\"\"\n",
    "  L0 L1 L2 (L3 | L1)*\n",
    "  \"\"\" \n",
    "\n",
    "  label_regex_0 = _regex_from_label(labels[0])\n",
    "  label_regex_1 = _regex_from_label(labels[1])\n",
    "  label_regex_2 = _regex_from_label(labels[2])\n",
    "  label_regex_3 = _regex_from_label(labels[3])\n",
    "\n",
    "  return label_regex_0.concatenate(label_regex_1).concatenate(label_regex_2).\\\n",
    "  concatenate((label_regex_3.union(label_regex_1)).kleene_star())\n",
    "\n",
    "# (L0 | L3)* | (L1 | L2)*\n",
    "def query_four(labels):\n",
    "  \"\"\"\n",
    "  (L0 | L3)* | (L1 | L2)*\n",
    "  \"\"\"\n",
    "\n",
    "  label_regex_0 = _regex_from_label(labels[0])\n",
    "  label_regex_1 = _regex_from_label(labels[1])\n",
    "  label_regex_2 = _regex_from_label(labels[2])\n",
    "  label_regex_3 = _regex_from_label(labels[3])\n",
    "\n",
    "  left_regex_part = (label_regex_0.union(label_regex_3)).kleene_star()\n",
    "  right_regex_part = (label_regex_1.union(label_regex_2)).kleene_star()\n",
    "\n",
    "  return left_regex_part.union(right_regex_part)\n",
    "\n",
    "QUERIES = [query_one, query_two, query_three, query_four]"
   ]
  },
  {
   "cell_type": "markdown",
   "metadata": {
    "id": "63VKNyv6pe9D"
   },
   "source": [
    "---\n",
    "\n",
    "## Исследуемые версии алгоритма\n",
    "\n",
    "Элементами матрицы смежности для конечного автомата являются подмножества его меток, по которым возможен переход в данных состояниях. Чтобы не вводить операцию пересечения множеств в тензорном произведении, матрицы смежности двух конечных автоматов приводятся к виду булевых матриц по подмножеству символов.\n",
    "\n",
    "На практике, булевы матрицы являются сильно разреженными. Поэтому сравниваемые версии алгоритма используют библиотеки для работы с разреженными матрицами:\n",
    "\n",
    "- [scipy.sparse](https://docs.scipy.org/doc/scipy/reference/sparse.html): библиотека, использующаяся для реализаций операций с разряженными булевыми $dok$ матрицами на $CPU$;\n",
    "- [pyCuBool](https://pypi.org/project/pycubool/): библиотека, использующаяся для реализаций операций с разряженными булевыми матрицами на $GPU$."
   ]
  },
  {
   "cell_type": "markdown",
   "metadata": {
    "id": "Qb7j1dm2-8xH"
   },
   "source": [
    "### Реализация СPU-версии алгоритма ($scipy.sparse$) и GPU-версии алгоритма ($pyCuBool$)\n",
    "\n",
    "\n",
    "\n"
   ]
  },
  {
   "cell_type": "code",
   "execution_count": 8,
   "metadata": {
    "id": "oKiGdZxi1X05",
    "pycharm": {
     "is_executing": true
    }
   },
   "outputs": [],
   "source": [
    "from typing import Set, Dict, Union\n",
    "\n",
    "import pycubool as cb\n",
    "import scipy.sparse as sps\n",
    "from pyformlang.finite_automaton import NondeterministicFiniteAutomaton, Symbol, State\n",
    "\n",
    "\n",
    "class BooleanAdjacencies:\n",
    "    \"\"\"\n",
    "    Construct a Nondeterministic Finite Automaton boolean adjacency matrices\n",
    "    by symbols and encapsulates all the information lost in this case.\n",
    "\n",
    "    Supports CPU and GPU computing platforms.\n",
    "\n",
    "    Attributes\n",
    "    ----------\n",
    "    mode: str, default = \"cpu\"\n",
    "        Selected platform used for all calculations\n",
    "    boolean_adjacencies: Dict[Symbol, Union[sps.dok_matrix, cb.Matrix]]\n",
    "        Nondeterministic Finite Automaton boolean adjacency matrices by symbols\n",
    "    states_num: int\n",
    "        Number of states in specified Nondeterministic Finite Automaton\n",
    "    shape: Tuple[int, int]\n",
    "        Adjacency matrix size\n",
    "    states_nums: Dict[State, int]\n",
    "        States in specified Nondeterministic Finite Automaton and it's numbers\n",
    "    nums_states: Dict[int, State]\n",
    "        Numbers of states in specified Nondeterministic Finite Automaton\n",
    "        and the states itself\n",
    "    start_states: Set[State]\n",
    "        Start states in specified Nondeterministic Finite Automaton\n",
    "    final_states: Set[State]\n",
    "        Final states in specified Nondeterministic Finite Automaton\n",
    "    \"\"\"\n",
    "\n",
    "    def __init__(\n",
    "        self, nfa: NondeterministicFiniteAutomaton = None, mode: str = \"cpu\"\n",
    "    ) -> None:\n",
    "        \"\"\"\n",
    "        BooleanAdjacencies class constructor.\n",
    "\n",
    "        Parameters\n",
    "        ----------\n",
    "        nfa: NondeterministicFiniteAutomaton, default = None\n",
    "            Nondeterministic Finite Automaton to construct boolean adjacency matrices\n",
    "        mode: str, default = \"cpu\"\n",
    "            Allows to select the platform used for all calculations\n",
    "        \"\"\"\n",
    "\n",
    "        modes = [\"cpu\", \"gpu\"]\n",
    "        if mode not in modes:\n",
    "            raise ValueError(\"Invalid computing platform specified\")\n",
    "        self.mode = mode\n",
    "\n",
    "        self.states_num = 0\n",
    "        self.shape = (self.states_num, self.states_num)\n",
    "        self.states_nums = dict()\n",
    "        self.nums_states = dict()\n",
    "        self.start_states = set()\n",
    "        self.final_states = set()\n",
    "\n",
    "        self.boolean_adjacencies = dict()\n",
    "\n",
    "        if nfa is not None:\n",
    "            self.states_num = len(nfa.states)\n",
    "            self.shape = (self.states_num, self.states_num)\n",
    "            self.states_nums = {state: num for num, state in enumerate(nfa.states)}\n",
    "            self.nums_states = {num: state for num, state in enumerate(nfa.states)}\n",
    "            self.start_states = nfa.start_states\n",
    "            self.final_states = nfa.final_states\n",
    "\n",
    "            transition_func = nfa.to_dict()\n",
    "            self.boolean_adjacencies = self._get_boolean_adjacencies(transition_func)\n",
    "\n",
    "    def _get_boolean_adjacencies(\n",
    "        self, transition_func: Dict[State, Dict[Symbol, Union[State, Set[State]]]]\n",
    "    ) -> Dict[Symbol, Union[sps.dok_matrix, cb.Matrix]]:\n",
    "        \"\"\"\n",
    "        Construct a Nondeterministic Finite Automaton boolean adjacency\n",
    "        matrices by symbols.\n",
    "\n",
    "        Parameters\n",
    "        ----------\n",
    "        transition_func: Dict[State, Dict[Symbol, Union[State, Set[State]]]]\n",
    "            Transition function of Nondeterministic Finite Automaton\n",
    "\n",
    "        Returns\n",
    "        -------\n",
    "        Dict[Symbol, Union[sps.dok_matrix, cb.Matrix]]\n",
    "            Nondeterministic Finite Automaton boolean adjacency matrices\n",
    "            by symbols\n",
    "        \"\"\"\n",
    "\n",
    "        boolean_adjacencies = dict()\n",
    "\n",
    "        for state_from, transitions in transition_func.items():\n",
    "            for symbol, states_to in transitions.items():\n",
    "                if not isinstance(states_to, set):\n",
    "                    states_to = {states_to}\n",
    "\n",
    "                for state_to in states_to:\n",
    "                    state_from_num = self.states_nums[state_from]\n",
    "                    state_to_num = self.states_nums[state_to]\n",
    "\n",
    "                    if self.mode == \"cpu\":\n",
    "                        if symbol not in boolean_adjacencies:\n",
    "                            boolean_adjacencies[\n",
    "                                symbol\n",
    "                            ]: sps.dok_matrix = sps.dok_matrix(self.shape, dtype=bool)\n",
    "\n",
    "                        boolean_adjacencies[symbol][state_from_num, state_to_num] = True\n",
    "\n",
    "                    if self.mode == \"gpu\":\n",
    "                        if symbol not in boolean_adjacencies:\n",
    "                            boolean_adjacencies[symbol]: cb.Matrix = cb.Matrix.empty(\n",
    "                                self.shape\n",
    "                            )\n",
    "\n",
    "                        boolean_adjacencies[symbol][state_from_num, state_to_num] = True\n",
    "\n",
    "        return boolean_adjacencies\n",
    "\n",
    "    def intersect(self, other):\n",
    "        \"\"\"\n",
    "        Makes the intersection of two Nondeterministic Finite Automaton\n",
    "        presented as boolean adjacency matrices by symbols.\n",
    "\n",
    "        Warnings\n",
    "        --------\n",
    "        This method is NOT commutative:\n",
    "        other should be QUERY Nondeterministic Finite Automaton\n",
    "\n",
    "        Parameters\n",
    "        ----------\n",
    "        other: BooleanAdjacencies\n",
    "            BooleanAdjacencies of Nondeterministic Finite Automaton\n",
    "            to intersect with\n",
    "\n",
    "        Returns\n",
    "        -------\n",
    "        BooleanAdjacencies\n",
    "            The result of intersection presented as\n",
    "            boolean adjacency matrices by symbols\n",
    "        \"\"\"\n",
    "\n",
    "        intersection = BooleanAdjacencies()\n",
    "        intersection.mode = self.mode\n",
    "\n",
    "        intersection.states_num = self.states_num * other.states_num\n",
    "        intersection.shape = (intersection.states_num, intersection.states_num)\n",
    "        intersection_symbols = (\n",
    "            self.boolean_adjacencies.keys() & other.boolean_adjacencies.keys()\n",
    "        )\n",
    "\n",
    "        for symbol in intersection_symbols:\n",
    "            if self.mode == \"cpu\":\n",
    "                intersection.boolean_adjacencies[symbol] = sps.kron(\n",
    "                    self.boolean_adjacencies[symbol],\n",
    "                    other.boolean_adjacencies[symbol],\n",
    "                    format=\"dok\",\n",
    "                )\n",
    "\n",
    "            if self.mode == \"gpu\":\n",
    "                self_boolean_adjacency_indices = self.boolean_adjacencies[\n",
    "                    symbol\n",
    "                ].to_lists()\n",
    "                other_boolean_adjacency_indices = other.boolean_adjacencies[\n",
    "                    symbol\n",
    "                ].to_lists()\n",
    "                intersection.boolean_adjacencies[symbol] = cb.Matrix.from_lists(\n",
    "                    shape=self.shape,\n",
    "                    rows=self_boolean_adjacency_indices[0],\n",
    "                    cols=self_boolean_adjacency_indices[1],\n",
    "                ).kronecker(\n",
    "                    cb.Matrix.from_lists(\n",
    "                        shape=other.shape,\n",
    "                        rows=other_boolean_adjacency_indices[0],\n",
    "                        cols=other_boolean_adjacency_indices[1],\n",
    "                    )\n",
    "                )\n",
    "\n",
    "        for graph_state, graph_state_num in self.states_nums.items():\n",
    "            for query_state, query_state_num in other.states_nums.items():\n",
    "                intersection_state = State(str(query_state) + \"⋂\" + str(graph_state))\n",
    "                intersection_state_num = (\n",
    "                    graph_state_num * other.states_num + query_state_num\n",
    "                )\n",
    "\n",
    "                intersection.states_nums[intersection_state] = intersection_state_num\n",
    "                intersection.nums_states[intersection_state_num] = intersection_state\n",
    "\n",
    "                if (\n",
    "                    graph_state in self.start_states\n",
    "                    and query_state in other.start_states\n",
    "                ):\n",
    "                    intersection.start_states.add(intersection_state)\n",
    "\n",
    "                if (\n",
    "                    graph_state in self.final_states\n",
    "                    and query_state in other.final_states\n",
    "                ):\n",
    "                    intersection.final_states.add(intersection_state)\n",
    "\n",
    "        return intersection\n",
    "\n",
    "    def get_transitive_closure(self) -> Union[sps.dok_matrix, cb.Matrix]:\n",
    "        \"\"\"\n",
    "        Makes the transitive closure of Nondeterministic Finite Automaton\n",
    "        presented as boolean adjacency matrices by symbols.\n",
    "\n",
    "        Returns\n",
    "        -------\n",
    "        Union[sps.dok_matrix, cb.Matrix]:\n",
    "            Nondeterministic Finite Automaton transitive closure\n",
    "        \"\"\"\n",
    "\n",
    "        if self.mode == \"cpu\":\n",
    "            transitive_closure: sps.dok_matrix = sps.dok_matrix(\n",
    "                sps.csr_matrix(\n",
    "                    sum(\n",
    "                        boolean_adjacency\n",
    "                        for boolean_adjacency in self.boolean_adjacencies.values()\n",
    "                    ),\n",
    "                    dtype=bool,\n",
    "                ),\n",
    "                dtype=bool,\n",
    "            )\n",
    "\n",
    "            current_nonzeros = transitive_closure.nnz\n",
    "            next_nonzeros = 0\n",
    "\n",
    "            while current_nonzeros != next_nonzeros:\n",
    "                transitive_closure += transitive_closure @ transitive_closure\n",
    "\n",
    "                current_nonzeros, next_nonzeros = next_nonzeros, transitive_closure.nnz\n",
    "\n",
    "            return transitive_closure\n",
    "\n",
    "        if self.mode == \"gpu\":\n",
    "            shape = (0, 0)\n",
    "            if self.shape == shape:\n",
    "                shape = (1, 1)\n",
    "            else:\n",
    "                shape = self.shape\n",
    "            transitive_closure: cb.Matrix = cb.Matrix.empty(shape)\n",
    "\n",
    "            for boolean_adjacency in self.boolean_adjacencies.values():\n",
    "                boolean_adjacency_indices = boolean_adjacency.to_lists()\n",
    "\n",
    "                transitive_closure = transitive_closure.ewiseadd(\n",
    "                    cb.Matrix.from_lists(\n",
    "                        shape=shape,\n",
    "                        rows=boolean_adjacency_indices[0],\n",
    "                        cols=boolean_adjacency_indices[1],\n",
    "                    )\n",
    "                )\n",
    "\n",
    "            current_nonzeros = len(transitive_closure.to_list())\n",
    "            next_nonzeros = 0\n",
    "\n",
    "            while current_nonzeros != next_nonzeros:\n",
    "                transitive_closure_pow: cb.Matrix = transitive_closure.mxm(\n",
    "                    transitive_closure\n",
    "                )\n",
    "                transitive_closure = transitive_closure.ewiseadd(transitive_closure_pow)\n",
    "\n",
    "                current_nonzeros, next_nonzeros = next_nonzeros, len(\n",
    "                    transitive_closure.to_list()\n",
    "                )\n",
    "\n",
    "            return transitive_closure\n",
    "\n",
    "    def to_nfa(self) -> NondeterministicFiniteAutomaton:\n",
    "        \"\"\"\n",
    "        Construct a Nondeterministic Finite Automaton from\n",
    "        it's boolean adjacency matrices by symbols.\n",
    "\n",
    "        Returns\n",
    "        -------\n",
    "        NondeterministicFiniteAutomaton\n",
    "            The resulting Nondeterministic Finite Automaton\n",
    "        \"\"\"\n",
    "\n",
    "        nfa = NondeterministicFiniteAutomaton()\n",
    "\n",
    "        for symbol, boolean_adjacency in self.boolean_adjacencies.items():\n",
    "            if self.mode == \"cpu\":\n",
    "                boolean_adjacency_indices = sps.dok_matrix(\n",
    "                    boolean_adjacency, dtype=bool\n",
    "                ).nonzero()\n",
    "\n",
    "                for state_from_num, state_to_num in zip(*boolean_adjacency_indices):\n",
    "                    state_from = self.nums_states[state_from_num]\n",
    "                    state_to = self.nums_states[state_to_num]\n",
    "\n",
    "                    nfa.add_transition(state_from, symbol, state_to)\n",
    "\n",
    "            if self.mode == \"gpu\":\n",
    "                boolean_adjacency_indices = boolean_adjacency.to_lists()\n",
    "\n",
    "                for state_from_num, state_to_num in zip(*boolean_adjacency_indices):\n",
    "                    state_from = self.nums_states[state_from_num]\n",
    "                    state_to = self.nums_states[state_to_num]\n",
    "\n",
    "                    nfa.add_transition(state_from, symbol, state_to)\n",
    "\n",
    "        for start_state in self.start_states:\n",
    "            nfa.add_start_state(start_state)\n",
    "\n",
    "        for final_state in self.final_states:\n",
    "            nfa.add_final_state(final_state)\n",
    "\n",
    "        return nfa\n"
   ]
  },
  {
   "cell_type": "markdown",
   "metadata": {
    "id": "bfmV5OHrlX4M"
   },
   "source": []
  },
  {
   "cell_type": "markdown",
   "metadata": {
    "id": "FC6XV1dclP5G"
   },
   "source": [
    "### Реализация общего алгоритма $RPQ$"
   ]
  },
  {
   "cell_type": "code",
   "execution_count": 9,
   "metadata": {
    "id": "ElRYJ5AM1wHb",
    "pycharm": {
     "is_executing": true
    }
   },
   "outputs": [],
   "source": [
    "from typing import Tuple\n",
    "\n",
    "import networkx as nx\n",
    "from pyformlang.regular_expression import Regex\n",
    "\n",
    "from project.automaton_tools import get_min_dfa_from_regex, get_nfa_from_graph\n",
    "\n",
    "\n",
    "def regular_str_path_querying(\n",
    "    graph: nx.MultiDiGraph,\n",
    "    query_str: str,\n",
    "    result: Tuple[Set],\n",
    "    start_node_nums: Set[int] = None,\n",
    "    final_node_nums: Set[int] = None,\n",
    "    mode: str = \"cpu\",\n",
    ") -> Set[Tuple[int, int]]:\n",
    "    \"\"\"\n",
    "    Using the specified graph and a regular query,\n",
    "    finds all pairs of reachable node numbers.\n",
    "\n",
    "    If actual regex is specified, regex_str is no longer taken into account.\n",
    "\n",
    "    If start_nodes or final_nodes are not specified,\n",
    "    all nodes are considered start or final respectively.\n",
    "\n",
    "    Parameters\n",
    "    ----------\n",
    "    graph: nx.MultiDiGraph\n",
    "        Graph for queries\n",
    "    query_str: str\n",
    "        Query to graph as a string\n",
    "    start_node_nums: Set[int], default = None\n",
    "        Set of start node numbers to configure Nondeterministic Finite Automaton,\n",
    "        which must exist in the graph\n",
    "    final_node_nums: Set[int], default = None\n",
    "        Set of final node numbers to configure Nondeterministic Finite Automaton,\n",
    "        which must exist in the graph\n",
    "    mode: str, default = \"cpu\"\n",
    "        Allows to select the platform used for all calculations\n",
    "\n",
    "    Returns\n",
    "    -------\n",
    "    Set[Tuple[int, int]]\n",
    "        Set of all pairs of reachable node numbers\n",
    "\n",
    "    Raises\n",
    "    ------\n",
    "    ValueError\n",
    "        If invalid computing platform specified\n",
    "    ValueError\n",
    "        If non-existent in the specified graph node number is used\n",
    "    MisformedRegexError\n",
    "        If specified regex_str has an irregular format\n",
    "    \"\"\"\n",
    "\n",
    "    result = regular_path_querying(\n",
    "        graph, Regex(query_str), start_node_nums, final_node_nums, mode\n",
    "    )\n",
    "\n",
    "    return result\n",
    "\n",
    "\n",
    "def regular_path_querying(\n",
    "    graph: nx.MultiDiGraph,\n",
    "    query_regex: Regex,\n",
    "    result: Tuple[Set],\n",
    "    start_node_nums: Set[int] = None,\n",
    "    final_node_nums: Set[int] = None,\n",
    "    mode: str = \"cpu\",\n",
    ") -> Set[Tuple[int, int]]:\n",
    "    \"\"\"\n",
    "    Using the specified graph and a regular query,\n",
    "    finds all pairs of reachable node numbers.\n",
    "\n",
    "    If start_nodes or final_nodes are not specified,\n",
    "    all nodes are considered start or final respectively.\n",
    "\n",
    "    Parameters\n",
    "    ----------\n",
    "    graph: nx.MultiDiGraph\n",
    "        Graph for queries\n",
    "    query_regex: Regex\n",
    "        Query to graph as complete Regex\n",
    "    start_node_nums: Set[int], default = None\n",
    "        Set of start node numbers to configure Nondeterministic Finite Automaton,\n",
    "        which must exist in the graph\n",
    "    final_node_nums: Set[int], default = None\n",
    "        Set of final node numbers to configure Nondeterministic Finite Automaton,\n",
    "        which must exist in the graph\n",
    "    mode: str, default = \"cpu\"\n",
    "        Allows to select the platform used for all calculations\n",
    "\n",
    "    Returns\n",
    "    -------\n",
    "    Set[Tuple[int, int]]\n",
    "        Set of all pairs of reachable node numbers\n",
    "\n",
    "    Raises\n",
    "    ------\n",
    "    ValueError\n",
    "        If invalid computing platform specified\n",
    "    ValueError\n",
    "        If non-existent in the specified graph node number is used\n",
    "    MisformedRegexError\n",
    "        If specified regex_str has an irregular format\n",
    "    \"\"\"\n",
    "\n",
    "    graph = BooleanAdjacencies(\n",
    "        get_nfa_from_graph(graph, start_node_nums, final_node_nums), mode\n",
    "    )\n",
    "\n",
    "    query = BooleanAdjacencies(get_min_dfa_from_regex(query_regex), mode)\n",
    "\n",
    "    intersection = graph.intersect(query)\n",
    "    transitive_closure = intersection.get_transitive_closure()\n",
    "\n",
    "    reachable_state_nums = set()\n",
    "\n",
    "    if mode == \"cpu\":\n",
    "        for state_from_num, state_to_num in zip(*transitive_closure.nonzero()):\n",
    "            state_from = intersection.nums_states[state_from_num]\n",
    "            state_to = intersection.nums_states[state_to_num]\n",
    "\n",
    "            if (\n",
    "                state_from in intersection.start_states\n",
    "                and state_to in intersection.final_states\n",
    "            ):\n",
    "                reachable_state_from_num = state_from_num // query.states_num\n",
    "                reachable_state_to_num = state_to_num // query.states_num\n",
    "\n",
    "                reachable_state_nums.add(\n",
    "                    (reachable_state_from_num, reachable_state_to_num)\n",
    "                )\n",
    "\n",
    "    if mode == \"gpu\":\n",
    "        for state_from_num, state_to_num in zip(*transitive_closure.to_lists()):\n",
    "            state_from = intersection.nums_states[state_from_num]\n",
    "            state_to = intersection.nums_states[state_to_num]\n",
    "\n",
    "            if (\n",
    "                state_from in intersection.start_states\n",
    "                and state_to in intersection.final_states\n",
    "            ):\n",
    "                reachable_state_from_num = state_from_num // query.states_num\n",
    "                reachable_state_to_num = state_to_num // query.states_num\n",
    "\n",
    "                reachable_state_nums.add(\n",
    "                    (reachable_state_from_num, reachable_state_to_num)\n",
    "                )\n",
    "\n",
    "\n",
    "    result = reachable_state_nums\n",
    "\n",
    "    return result\n"
   ]
  },
  {
   "cell_type": "markdown",
   "metadata": {
    "id": "7uw0B5LpxClK"
   },
   "source": [
    "---\n",
    "\n",
    "## Сравнение производительности версий алгоритма\n",
    "\n",
    "Для сравнения времени работы (в **мс.**) версий $CPU$- и $GPU$-версий алгоритма к каждому графу задается по 4 запроса, каждый из которых выполняется 3 раза для поддержания баланса между точностью результата и длительностью эксперимента. При меньшей выборке теряется точность результата, при большей - длительность посчёта выходит за рамки разумного. В качестве результата берётся наилучшее (наименьшее) время.\n",
    "\n"
   ]
  },
  {
   "cell_type": "markdown",
   "metadata": {
    "id": "ebgoskPJnbMH"
   },
   "source": [
    "### Платформа для исследования\n",
    "\n",
    "Ниже представлена доступная информация о платформе **Google Colab**, на которой проходили эксперименты."
   ]
  },
  {
   "cell_type": "markdown",
   "metadata": {
    "id": "IPcZMZ_ZMHUC"
   },
   "source": [
    "#### ОС"
   ]
  },
  {
   "cell_type": "code",
   "execution_count": 10,
   "metadata": {
    "colab": {
     "base_uri": "https://localhost:8080/"
    },
    "id": "qyNw0qDFMMOT",
    "outputId": "319dd3f2-2dbd-4315-f14c-ccdcfce3b4db",
    "pycharm": {
     "is_executing": true
    }
   },
   "outputs": [
    {
     "name": "stdout",
     "output_type": "stream",
     "text": [
      "NAME=\"Ubuntu\"\r\n",
      "VERSION=\"20.04.3 LTS (Focal Fossa)\"\r\n",
      "ID=ubuntu\r\n",
      "ID_LIKE=debian\r\n",
      "PRETTY_NAME=\"Ubuntu 20.04.3 LTS\"\r\n",
      "VERSION_ID=\"20.04\"\r\n",
      "HOME_URL=\"https://www.ubuntu.com/\"\r\n",
      "SUPPORT_URL=\"https://help.ubuntu.com/\"\r\n",
      "BUG_REPORT_URL=\"https://bugs.launchpad.net/ubuntu/\"\r\n",
      "PRIVACY_POLICY_URL=\"https://www.ubuntu.com/legal/terms-and-policies/privacy-policy\"\r\n",
      "VERSION_CODENAME=focal\r\n",
      "UBUNTU_CODENAME=focal\r\n"
     ]
    }
   ],
   "source": [
    "!cat /etc/os-release"
   ]
  },
  {
   "cell_type": "markdown",
   "metadata": {
    "id": "skUL4m3PMOZA"
   },
   "source": [
    "#### CPU"
   ]
  },
  {
   "cell_type": "code",
   "execution_count": 11,
   "metadata": {
    "colab": {
     "base_uri": "https://localhost:8080/"
    },
    "id": "aVh8K7y1MUNC",
    "outputId": "f3507900-0dea-4799-c2c2-416e01b44687",
    "pycharm": {
     "is_executing": true
    }
   },
   "outputs": [
    {
     "name": "stdout",
     "output_type": "stream",
     "text": [
      "Model name:                      Intel(R) Core(TM) i7-7700HQ CPU @ 2.80GHz\n",
      "Socket(s):                       1\n",
      "Core(s) per socket:              4\n",
      "Thread(s) per core:              2\n",
      "CPU MHz:                         3526.957\n",
      "CPU max MHz:                     3800.0000\n",
      "CPU min MHz:                     800.0000\n"
     ]
    }
   ],
   "source": [
    "!lscpu | grep 'Model name'\n",
    "!lscpu | grep 'Socket(s)'\n",
    "!lscpu | grep 'Core(s) per socket:'\n",
    "!lscpu | grep 'Thread(s) per core'\n",
    "!lscpu | grep \"MHz\""
   ]
  },
  {
   "cell_type": "markdown",
   "metadata": {
    "id": "oYsspo-8MVv8"
   },
   "source": [
    "#### GPU"
   ]
  },
  {
   "cell_type": "code",
   "execution_count": 12,
   "metadata": {
    "colab": {
     "base_uri": "https://localhost:8080/"
    },
    "id": "8jkr6A9DMX-8",
    "outputId": "cfbe540d-1309-4fff-a62b-8ca4a1ece67a",
    "pycharm": {
     "is_executing": true
    }
   },
   "outputs": [
    {
     "name": "stdout",
     "output_type": "stream",
     "text": [
      "NVIDIA-SMI has failed because it couldn't communicate with the NVIDIA driver. Make sure that the latest NVIDIA driver is installed and running.\r\n",
      "\r\n"
     ]
    }
   ],
   "source": [
    "!nvidia-smi"
   ]
  },
  {
   "cell_type": "markdown",
   "metadata": {
    "id": "Wh-3iK4XMZV4"
   },
   "source": [
    "#### RAM"
   ]
  },
  {
   "cell_type": "code",
   "execution_count": 13,
   "metadata": {
    "colab": {
     "base_uri": "https://localhost:8080/"
    },
    "id": "LaCDHn8yMb3B",
    "outputId": "af249fc5-f2c5-43cc-91bd-4ab0dbefeb96",
    "pycharm": {
     "is_executing": true
    }
   },
   "outputs": [
    {
     "name": "stdout",
     "output_type": "stream",
     "text": [
      "MemTotal:       16276748 kB\r\n"
     ]
    }
   ],
   "source": [
    "!grep MemTotal /proc/meminfo"
   ]
  },
  {
   "cell_type": "markdown",
   "metadata": {
    "id": "7ej4wol4pthh"
   },
   "source": [
    "### Производительность СPU-версии алгоритма ($scipy.sparse$)"
   ]
  },
  {
   "cell_type": "code",
   "execution_count": 14,
   "metadata": {
    "colab": {
     "base_uri": "https://localhost:8080/"
    },
    "id": "juk8SmezGcz6",
    "outputId": "2dfb9ad1-4775-43c2-e822-c9382bbb92e9",
    "pycharm": {
     "is_executing": true
    }
   },
   "outputs": [
    {
     "name": "stdout",
     "output_type": "stream",
     "text": [
      "=== VERSION BASED ON CPU (scipy.sparse) ===\n",
      "Graph skos:\n",
      "- number of nodes: 144\n",
      "\t- number of edges: 252\n",
      "\t- edge labels: {rdflib.term.URIRef('http://www.w3.org/2002/07/owl#disjointWith'), rdflib.term.URIRef('http://www.w3.org/2004/02/skos/core#example'), rdflib.term.URIRef('http://purl.org/dc/terms/description'), rdflib.term.URIRef('http://www.w3.org/2000/01/rdf-schema#domain'), rdflib.term.URIRef('http://www.w3.org/2000/01/rdf-schema#seeAlso'), rdflib.term.URIRef('http://www.w3.org/1999/02/22-rdf-syntax-ns#first'), rdflib.term.URIRef('http://www.w3.org/2000/01/rdf-schema#subPropertyOf'), rdflib.term.URIRef('http://www.w3.org/2002/07/owl#inverseOf'), rdflib.term.URIRef('http://www.w3.org/2000/01/rdf-schema#isDefinedBy'), rdflib.term.URIRef('http://www.w3.org/2000/01/rdf-schema#label'), rdflib.term.URIRef('http://www.w3.org/2004/02/skos/core#definition'), rdflib.term.URIRef('http://www.w3.org/2000/01/rdf-schema#range'), rdflib.term.URIRef('http://purl.org/dc/terms/creator'), rdflib.term.URIRef('http://www.w3.org/2002/07/owl#unionOf'), rdflib.term.URIRef('http://www.w3.org/2004/02/skos/core#scopeNote'), rdflib.term.URIRef('http://www.w3.org/1999/02/22-rdf-syntax-ns#type'), rdflib.term.URIRef('http://www.w3.org/2000/01/rdf-schema#comment'), rdflib.term.URIRef('http://www.w3.org/2000/01/rdf-schema#subClassOf'), rdflib.term.URIRef('http://purl.org/dc/terms/contributor'), rdflib.term.URIRef('http://purl.org/dc/terms/title'), rdflib.term.URIRef('http://www.w3.org/1999/02/22-rdf-syntax-ns#rest')}\n",
      "Query: \n",
      "  (L0 | L1)* L2\n",
      "  \n",
      "Perfomance:\n",
      "20.1 ms ± 4.56 ms per loop (mean ± std. dev. of 7 runs, 3 loops each)\n",
      "=== === ===\n",
      "Graph skos:\n",
      "- number of nodes: 144\n",
      "\t- number of edges: 252\n",
      "\t- edge labels: {rdflib.term.URIRef('http://www.w3.org/2002/07/owl#disjointWith'), rdflib.term.URIRef('http://www.w3.org/2004/02/skos/core#example'), rdflib.term.URIRef('http://purl.org/dc/terms/description'), rdflib.term.URIRef('http://www.w3.org/2000/01/rdf-schema#domain'), rdflib.term.URIRef('http://www.w3.org/2000/01/rdf-schema#seeAlso'), rdflib.term.URIRef('http://www.w3.org/1999/02/22-rdf-syntax-ns#first'), rdflib.term.URIRef('http://www.w3.org/2000/01/rdf-schema#subPropertyOf'), rdflib.term.URIRef('http://www.w3.org/2002/07/owl#inverseOf'), rdflib.term.URIRef('http://www.w3.org/2000/01/rdf-schema#isDefinedBy'), rdflib.term.URIRef('http://www.w3.org/2000/01/rdf-schema#label'), rdflib.term.URIRef('http://www.w3.org/2004/02/skos/core#definition'), rdflib.term.URIRef('http://www.w3.org/2000/01/rdf-schema#range'), rdflib.term.URIRef('http://purl.org/dc/terms/creator'), rdflib.term.URIRef('http://www.w3.org/2002/07/owl#unionOf'), rdflib.term.URIRef('http://www.w3.org/2004/02/skos/core#scopeNote'), rdflib.term.URIRef('http://www.w3.org/1999/02/22-rdf-syntax-ns#type'), rdflib.term.URIRef('http://www.w3.org/2000/01/rdf-schema#comment'), rdflib.term.URIRef('http://www.w3.org/2000/01/rdf-schema#subClassOf'), rdflib.term.URIRef('http://purl.org/dc/terms/contributor'), rdflib.term.URIRef('http://purl.org/dc/terms/title'), rdflib.term.URIRef('http://www.w3.org/1999/02/22-rdf-syntax-ns#rest')}\n",
      "Query: \n",
      "  L0 | L2 | L1*\n",
      "  \n",
      "Perfomance:\n",
      "18.5 ms ± 1.22 ms per loop (mean ± std. dev. of 7 runs, 3 loops each)\n",
      "=== === ===\n",
      "Graph skos:\n",
      "- number of nodes: 144\n",
      "\t- number of edges: 252\n",
      "\t- edge labels: {rdflib.term.URIRef('http://www.w3.org/2002/07/owl#disjointWith'), rdflib.term.URIRef('http://www.w3.org/2004/02/skos/core#example'), rdflib.term.URIRef('http://purl.org/dc/terms/description'), rdflib.term.URIRef('http://www.w3.org/2000/01/rdf-schema#domain'), rdflib.term.URIRef('http://www.w3.org/2000/01/rdf-schema#seeAlso'), rdflib.term.URIRef('http://www.w3.org/1999/02/22-rdf-syntax-ns#first'), rdflib.term.URIRef('http://www.w3.org/2000/01/rdf-schema#subPropertyOf'), rdflib.term.URIRef('http://www.w3.org/2002/07/owl#inverseOf'), rdflib.term.URIRef('http://www.w3.org/2000/01/rdf-schema#isDefinedBy'), rdflib.term.URIRef('http://www.w3.org/2000/01/rdf-schema#label'), rdflib.term.URIRef('http://www.w3.org/2004/02/skos/core#definition'), rdflib.term.URIRef('http://www.w3.org/2000/01/rdf-schema#range'), rdflib.term.URIRef('http://purl.org/dc/terms/creator'), rdflib.term.URIRef('http://www.w3.org/2002/07/owl#unionOf'), rdflib.term.URIRef('http://www.w3.org/2004/02/skos/core#scopeNote'), rdflib.term.URIRef('http://www.w3.org/1999/02/22-rdf-syntax-ns#type'), rdflib.term.URIRef('http://www.w3.org/2000/01/rdf-schema#comment'), rdflib.term.URIRef('http://www.w3.org/2000/01/rdf-schema#subClassOf'), rdflib.term.URIRef('http://purl.org/dc/terms/contributor'), rdflib.term.URIRef('http://purl.org/dc/terms/title'), rdflib.term.URIRef('http://www.w3.org/1999/02/22-rdf-syntax-ns#rest')}\n",
      "Query: \n",
      "  L0 L1 L2 (L3 | L1)*\n",
      "  \n",
      "Perfomance:\n",
      "17.5 ms ± 723 µs per loop (mean ± std. dev. of 7 runs, 3 loops each)\n",
      "=== === ===\n",
      "Graph skos:\n",
      "- number of nodes: 144\n",
      "\t- number of edges: 252\n",
      "\t- edge labels: {rdflib.term.URIRef('http://www.w3.org/2002/07/owl#disjointWith'), rdflib.term.URIRef('http://www.w3.org/2004/02/skos/core#example'), rdflib.term.URIRef('http://purl.org/dc/terms/description'), rdflib.term.URIRef('http://www.w3.org/2000/01/rdf-schema#domain'), rdflib.term.URIRef('http://www.w3.org/2000/01/rdf-schema#seeAlso'), rdflib.term.URIRef('http://www.w3.org/1999/02/22-rdf-syntax-ns#first'), rdflib.term.URIRef('http://www.w3.org/2000/01/rdf-schema#subPropertyOf'), rdflib.term.URIRef('http://www.w3.org/2002/07/owl#inverseOf'), rdflib.term.URIRef('http://www.w3.org/2000/01/rdf-schema#isDefinedBy'), rdflib.term.URIRef('http://www.w3.org/2000/01/rdf-schema#label'), rdflib.term.URIRef('http://www.w3.org/2004/02/skos/core#definition'), rdflib.term.URIRef('http://www.w3.org/2000/01/rdf-schema#range'), rdflib.term.URIRef('http://purl.org/dc/terms/creator'), rdflib.term.URIRef('http://www.w3.org/2002/07/owl#unionOf'), rdflib.term.URIRef('http://www.w3.org/2004/02/skos/core#scopeNote'), rdflib.term.URIRef('http://www.w3.org/1999/02/22-rdf-syntax-ns#type'), rdflib.term.URIRef('http://www.w3.org/2000/01/rdf-schema#comment'), rdflib.term.URIRef('http://www.w3.org/2000/01/rdf-schema#subClassOf'), rdflib.term.URIRef('http://purl.org/dc/terms/contributor'), rdflib.term.URIRef('http://purl.org/dc/terms/title'), rdflib.term.URIRef('http://www.w3.org/1999/02/22-rdf-syntax-ns#rest')}\n",
      "Query: \n",
      "  (L0 | L3)* | (L1 | L2)*\n",
      "  \n",
      "Perfomance:\n",
      "18.2 ms ± 2.85 ms per loop (mean ± std. dev. of 7 runs, 3 loops each)\n",
      "=== === ===\n",
      "Graph generations:\n",
      "- number of nodes: 129\n",
      "\t- number of edges: 273\n",
      "\t- edge labels: {rdflib.term.URIRef('http://www.w3.org/2002/07/owl#oneOf'), rdflib.term.URIRef('http://www.w3.org/1999/02/22-rdf-syntax-ns#type'), rdflib.term.URIRef('http://www.owl-ontologies.com/generations.owl#hasSibling'), rdflib.term.URIRef('http://www.owl-ontologies.com/generations.owl#hasParent'), rdflib.term.URIRef('http://www.w3.org/2002/07/owl#hasValue'), rdflib.term.URIRef('http://www.owl-ontologies.com/generations.owl#hasChild'), rdflib.term.URIRef('http://www.w3.org/1999/02/22-rdf-syntax-ns#first'), rdflib.term.URIRef('http://www.w3.org/2000/01/rdf-schema#range'), rdflib.term.URIRef('http://www.w3.org/2002/07/owl#sameAs'), rdflib.term.URIRef('http://www.owl-ontologies.com/generations.owl#hasSex'), rdflib.term.URIRef('http://www.w3.org/2002/07/owl#inverseOf'), rdflib.term.URIRef('http://www.w3.org/2002/07/owl#onProperty'), rdflib.term.URIRef('http://www.w3.org/2002/07/owl#equivalentClass'), rdflib.term.URIRef('http://www.w3.org/2002/07/owl#versionInfo'), rdflib.term.URIRef('http://www.w3.org/2002/07/owl#intersectionOf'), rdflib.term.URIRef('http://www.w3.org/2002/07/owl#someValuesFrom'), rdflib.term.URIRef('http://www.w3.org/1999/02/22-rdf-syntax-ns#rest')}\n",
      "Query: \n",
      "  (L0 | L1)* L2\n",
      "  \n",
      "Perfomance:\n",
      "20.5 ms ± 2.86 ms per loop (mean ± std. dev. of 7 runs, 3 loops each)\n",
      "=== === ===\n",
      "Graph generations:\n",
      "- number of nodes: 129\n",
      "\t- number of edges: 273\n",
      "\t- edge labels: {rdflib.term.URIRef('http://www.w3.org/2002/07/owl#oneOf'), rdflib.term.URIRef('http://www.w3.org/1999/02/22-rdf-syntax-ns#type'), rdflib.term.URIRef('http://www.owl-ontologies.com/generations.owl#hasSibling'), rdflib.term.URIRef('http://www.owl-ontologies.com/generations.owl#hasParent'), rdflib.term.URIRef('http://www.w3.org/2002/07/owl#hasValue'), rdflib.term.URIRef('http://www.owl-ontologies.com/generations.owl#hasChild'), rdflib.term.URIRef('http://www.w3.org/1999/02/22-rdf-syntax-ns#first'), rdflib.term.URIRef('http://www.w3.org/2000/01/rdf-schema#range'), rdflib.term.URIRef('http://www.w3.org/2002/07/owl#sameAs'), rdflib.term.URIRef('http://www.owl-ontologies.com/generations.owl#hasSex'), rdflib.term.URIRef('http://www.w3.org/2002/07/owl#inverseOf'), rdflib.term.URIRef('http://www.w3.org/2002/07/owl#onProperty'), rdflib.term.URIRef('http://www.w3.org/2002/07/owl#equivalentClass'), rdflib.term.URIRef('http://www.w3.org/2002/07/owl#versionInfo'), rdflib.term.URIRef('http://www.w3.org/2002/07/owl#intersectionOf'), rdflib.term.URIRef('http://www.w3.org/2002/07/owl#someValuesFrom'), rdflib.term.URIRef('http://www.w3.org/1999/02/22-rdf-syntax-ns#rest')}\n",
      "Query: \n",
      "  L0 | L2 | L1*\n",
      "  \n",
      "Perfomance:\n"
     ]
    },
    {
     "name": "stdout",
     "output_type": "stream",
     "text": [
      "18 ms ± 906 µs per loop (mean ± std. dev. of 7 runs, 3 loops each)\n",
      "=== === ===\n",
      "Graph generations:\n",
      "- number of nodes: 129\n",
      "\t- number of edges: 273\n",
      "\t- edge labels: {rdflib.term.URIRef('http://www.w3.org/2002/07/owl#oneOf'), rdflib.term.URIRef('http://www.w3.org/1999/02/22-rdf-syntax-ns#type'), rdflib.term.URIRef('http://www.owl-ontologies.com/generations.owl#hasSibling'), rdflib.term.URIRef('http://www.owl-ontologies.com/generations.owl#hasParent'), rdflib.term.URIRef('http://www.w3.org/2002/07/owl#hasValue'), rdflib.term.URIRef('http://www.owl-ontologies.com/generations.owl#hasChild'), rdflib.term.URIRef('http://www.w3.org/1999/02/22-rdf-syntax-ns#first'), rdflib.term.URIRef('http://www.w3.org/2000/01/rdf-schema#range'), rdflib.term.URIRef('http://www.w3.org/2002/07/owl#sameAs'), rdflib.term.URIRef('http://www.owl-ontologies.com/generations.owl#hasSex'), rdflib.term.URIRef('http://www.w3.org/2002/07/owl#inverseOf'), rdflib.term.URIRef('http://www.w3.org/2002/07/owl#onProperty'), rdflib.term.URIRef('http://www.w3.org/2002/07/owl#equivalentClass'), rdflib.term.URIRef('http://www.w3.org/2002/07/owl#versionInfo'), rdflib.term.URIRef('http://www.w3.org/2002/07/owl#intersectionOf'), rdflib.term.URIRef('http://www.w3.org/2002/07/owl#someValuesFrom'), rdflib.term.URIRef('http://www.w3.org/1999/02/22-rdf-syntax-ns#rest')}\n",
      "Query: \n",
      "  L0 L1 L2 (L3 | L1)*\n",
      "  \n",
      "Perfomance:\n",
      "20.2 ms ± 2.17 ms per loop (mean ± std. dev. of 7 runs, 3 loops each)\n",
      "=== === ===\n",
      "Graph generations:\n",
      "- number of nodes: 129\n",
      "\t- number of edges: 273\n",
      "\t- edge labels: {rdflib.term.URIRef('http://www.w3.org/2002/07/owl#oneOf'), rdflib.term.URIRef('http://www.w3.org/1999/02/22-rdf-syntax-ns#type'), rdflib.term.URIRef('http://www.owl-ontologies.com/generations.owl#hasSibling'), rdflib.term.URIRef('http://www.owl-ontologies.com/generations.owl#hasParent'), rdflib.term.URIRef('http://www.w3.org/2002/07/owl#hasValue'), rdflib.term.URIRef('http://www.owl-ontologies.com/generations.owl#hasChild'), rdflib.term.URIRef('http://www.w3.org/1999/02/22-rdf-syntax-ns#first'), rdflib.term.URIRef('http://www.w3.org/2000/01/rdf-schema#range'), rdflib.term.URIRef('http://www.w3.org/2002/07/owl#sameAs'), rdflib.term.URIRef('http://www.owl-ontologies.com/generations.owl#hasSex'), rdflib.term.URIRef('http://www.w3.org/2002/07/owl#inverseOf'), rdflib.term.URIRef('http://www.w3.org/2002/07/owl#onProperty'), rdflib.term.URIRef('http://www.w3.org/2002/07/owl#equivalentClass'), rdflib.term.URIRef('http://www.w3.org/2002/07/owl#versionInfo'), rdflib.term.URIRef('http://www.w3.org/2002/07/owl#intersectionOf'), rdflib.term.URIRef('http://www.w3.org/2002/07/owl#someValuesFrom'), rdflib.term.URIRef('http://www.w3.org/1999/02/22-rdf-syntax-ns#rest')}\n",
      "Query: \n",
      "  (L0 | L3)* | (L1 | L2)*\n",
      "  \n",
      "Perfomance:\n",
      "19.8 ms ± 2.37 ms per loop (mean ± std. dev. of 7 runs, 3 loops each)\n",
      "=== === ===\n",
      "Graph travel:\n",
      "- number of nodes: 131\n",
      "\t- number of edges: 277\n",
      "\t- edge labels: {rdflib.term.URIRef('http://www.w3.org/2002/07/owl#disjointWith'), rdflib.term.URIRef('http://www.w3.org/2002/07/owl#oneOf'), rdflib.term.URIRef('http://www.w3.org/2002/07/owl#complementOf'), rdflib.term.URIRef('http://www.w3.org/2000/01/rdf-schema#domain'), rdflib.term.URIRef('http://www.w3.org/1999/02/22-rdf-syntax-ns#first'), rdflib.term.URIRef('http://www.w3.org/2002/07/owl#inverseOf'), rdflib.term.URIRef('http://www.w3.org/2002/07/owl#equivalentClass'), rdflib.term.URIRef('http://www.w3.org/2002/07/owl#onProperty'), rdflib.term.URIRef('http://www.w3.org/2002/07/owl#intersectionOf'), rdflib.term.URIRef('http://www.w3.org/2000/01/rdf-schema#range'), rdflib.term.URIRef('http://www.owl-ontologies.com/travel.owl#hasAccommodation'), rdflib.term.URIRef('http://www.w3.org/2002/07/owl#someValuesFrom'), rdflib.term.URIRef('http://www.w3.org/2002/07/owl#hasValue'), rdflib.term.URIRef('http://www.w3.org/2002/07/owl#unionOf'), rdflib.term.URIRef('http://www.w3.org/1999/02/22-rdf-syntax-ns#type'), rdflib.term.URIRef('http://www.w3.org/2000/01/rdf-schema#subClassOf'), rdflib.term.URIRef('http://www.w3.org/2000/01/rdf-schema#comment'), rdflib.term.URIRef('http://www.w3.org/2002/07/owl#differentFrom'), rdflib.term.URIRef('http://www.w3.org/2002/07/owl#minCardinality'), rdflib.term.URIRef('http://www.w3.org/2002/07/owl#versionInfo'), rdflib.term.URIRef('http://www.owl-ontologies.com/travel.owl#hasPart'), rdflib.term.URIRef('http://www.w3.org/1999/02/22-rdf-syntax-ns#rest')}\n",
      "Query: \n",
      "  (L0 | L1)* L2\n",
      "  \n",
      "Perfomance:\n",
      "18.1 ms ± 2.41 ms per loop (mean ± std. dev. of 7 runs, 3 loops each)\n",
      "=== === ===\n",
      "Graph travel:\n",
      "- number of nodes: 131\n",
      "\t- number of edges: 277\n",
      "\t- edge labels: {rdflib.term.URIRef('http://www.w3.org/2002/07/owl#disjointWith'), rdflib.term.URIRef('http://www.w3.org/2002/07/owl#oneOf'), rdflib.term.URIRef('http://www.w3.org/2002/07/owl#complementOf'), rdflib.term.URIRef('http://www.w3.org/2000/01/rdf-schema#domain'), rdflib.term.URIRef('http://www.w3.org/1999/02/22-rdf-syntax-ns#first'), rdflib.term.URIRef('http://www.w3.org/2002/07/owl#inverseOf'), rdflib.term.URIRef('http://www.w3.org/2002/07/owl#equivalentClass'), rdflib.term.URIRef('http://www.w3.org/2002/07/owl#onProperty'), rdflib.term.URIRef('http://www.w3.org/2002/07/owl#intersectionOf'), rdflib.term.URIRef('http://www.w3.org/2000/01/rdf-schema#range'), rdflib.term.URIRef('http://www.owl-ontologies.com/travel.owl#hasAccommodation'), rdflib.term.URIRef('http://www.w3.org/2002/07/owl#someValuesFrom'), rdflib.term.URIRef('http://www.w3.org/2002/07/owl#hasValue'), rdflib.term.URIRef('http://www.w3.org/2002/07/owl#unionOf'), rdflib.term.URIRef('http://www.w3.org/1999/02/22-rdf-syntax-ns#type'), rdflib.term.URIRef('http://www.w3.org/2000/01/rdf-schema#subClassOf'), rdflib.term.URIRef('http://www.w3.org/2000/01/rdf-schema#comment'), rdflib.term.URIRef('http://www.w3.org/2002/07/owl#differentFrom'), rdflib.term.URIRef('http://www.w3.org/2002/07/owl#minCardinality'), rdflib.term.URIRef('http://www.w3.org/2002/07/owl#versionInfo'), rdflib.term.URIRef('http://www.owl-ontologies.com/travel.owl#hasPart'), rdflib.term.URIRef('http://www.w3.org/1999/02/22-rdf-syntax-ns#rest')}\n",
      "Query: \n",
      "  L0 | L2 | L1*\n",
      "  \n",
      "Perfomance:\n",
      "19.7 ms ± 2.11 ms per loop (mean ± std. dev. of 7 runs, 3 loops each)\n",
      "=== === ===\n",
      "Graph travel:\n",
      "- number of nodes: 131\n",
      "\t- number of edges: 277\n",
      "\t- edge labels: {rdflib.term.URIRef('http://www.w3.org/2002/07/owl#disjointWith'), rdflib.term.URIRef('http://www.w3.org/2002/07/owl#oneOf'), rdflib.term.URIRef('http://www.w3.org/2002/07/owl#complementOf'), rdflib.term.URIRef('http://www.w3.org/2000/01/rdf-schema#domain'), rdflib.term.URIRef('http://www.w3.org/1999/02/22-rdf-syntax-ns#first'), rdflib.term.URIRef('http://www.w3.org/2002/07/owl#inverseOf'), rdflib.term.URIRef('http://www.w3.org/2002/07/owl#equivalentClass'), rdflib.term.URIRef('http://www.w3.org/2002/07/owl#onProperty'), rdflib.term.URIRef('http://www.w3.org/2002/07/owl#intersectionOf'), rdflib.term.URIRef('http://www.w3.org/2000/01/rdf-schema#range'), rdflib.term.URIRef('http://www.owl-ontologies.com/travel.owl#hasAccommodation'), rdflib.term.URIRef('http://www.w3.org/2002/07/owl#someValuesFrom'), rdflib.term.URIRef('http://www.w3.org/2002/07/owl#hasValue'), rdflib.term.URIRef('http://www.w3.org/2002/07/owl#unionOf'), rdflib.term.URIRef('http://www.w3.org/1999/02/22-rdf-syntax-ns#type'), rdflib.term.URIRef('http://www.w3.org/2000/01/rdf-schema#subClassOf'), rdflib.term.URIRef('http://www.w3.org/2000/01/rdf-schema#comment'), rdflib.term.URIRef('http://www.w3.org/2002/07/owl#differentFrom'), rdflib.term.URIRef('http://www.w3.org/2002/07/owl#minCardinality'), rdflib.term.URIRef('http://www.w3.org/2002/07/owl#versionInfo'), rdflib.term.URIRef('http://www.owl-ontologies.com/travel.owl#hasPart'), rdflib.term.URIRef('http://www.w3.org/1999/02/22-rdf-syntax-ns#rest')}\n",
      "Query: \n",
      "  L0 L1 L2 (L3 | L1)*\n",
      "  \n",
      "Perfomance:\n",
      "17.7 ms ± 995 µs per loop (mean ± std. dev. of 7 runs, 3 loops each)\n",
      "=== === ===\n",
      "Graph travel:\n",
      "- number of nodes: 131\n",
      "\t- number of edges: 277\n",
      "\t- edge labels: {rdflib.term.URIRef('http://www.w3.org/2002/07/owl#disjointWith'), rdflib.term.URIRef('http://www.w3.org/2002/07/owl#oneOf'), rdflib.term.URIRef('http://www.w3.org/2002/07/owl#complementOf'), rdflib.term.URIRef('http://www.w3.org/2000/01/rdf-schema#domain'), rdflib.term.URIRef('http://www.w3.org/1999/02/22-rdf-syntax-ns#first'), rdflib.term.URIRef('http://www.w3.org/2002/07/owl#inverseOf'), rdflib.term.URIRef('http://www.w3.org/2002/07/owl#equivalentClass'), rdflib.term.URIRef('http://www.w3.org/2002/07/owl#onProperty'), rdflib.term.URIRef('http://www.w3.org/2002/07/owl#intersectionOf'), rdflib.term.URIRef('http://www.w3.org/2000/01/rdf-schema#range'), rdflib.term.URIRef('http://www.owl-ontologies.com/travel.owl#hasAccommodation'), rdflib.term.URIRef('http://www.w3.org/2002/07/owl#someValuesFrom'), rdflib.term.URIRef('http://www.w3.org/2002/07/owl#hasValue'), rdflib.term.URIRef('http://www.w3.org/2002/07/owl#unionOf'), rdflib.term.URIRef('http://www.w3.org/1999/02/22-rdf-syntax-ns#type'), rdflib.term.URIRef('http://www.w3.org/2000/01/rdf-schema#subClassOf'), rdflib.term.URIRef('http://www.w3.org/2000/01/rdf-schema#comment'), rdflib.term.URIRef('http://www.w3.org/2002/07/owl#differentFrom'), rdflib.term.URIRef('http://www.w3.org/2002/07/owl#minCardinality'), rdflib.term.URIRef('http://www.w3.org/2002/07/owl#versionInfo'), rdflib.term.URIRef('http://www.owl-ontologies.com/travel.owl#hasPart'), rdflib.term.URIRef('http://www.w3.org/1999/02/22-rdf-syntax-ns#rest')}\n",
      "Query: \n",
      "  (L0 | L3)* | (L1 | L2)*\n",
      "  \n",
      "Perfomance:\n"
     ]
    },
    {
     "name": "stdout",
     "output_type": "stream",
     "text": [
      "18.9 ms ± 605 µs per loop (mean ± std. dev. of 7 runs, 3 loops each)\n",
      "=== === ===\n",
      "Graph univ_bench:\n",
      "- number of nodes: 179\n",
      "\t- number of edges: 293\n",
      "\t- edge labels: {rdflib.term.URIRef('http://www.w3.org/1999/02/22-rdf-syntax-ns#type'), rdflib.term.URIRef('http://www.w3.org/2000/01/rdf-schema#subClassOf'), rdflib.term.URIRef('http://www.w3.org/2000/01/rdf-schema#domain'), rdflib.term.URIRef('http://www.w3.org/2000/01/rdf-schema#comment'), rdflib.term.URIRef('http://www.w3.org/1999/02/22-rdf-syntax-ns#first'), rdflib.term.URIRef('http://www.w3.org/2000/01/rdf-schema#range'), rdflib.term.URIRef('http://www.w3.org/2000/01/rdf-schema#subPropertyOf'), rdflib.term.URIRef('http://www.w3.org/2002/07/owl#inverseOf'), rdflib.term.URIRef('http://www.w3.org/2002/07/owl#onProperty'), rdflib.term.URIRef('http://www.w3.org/2002/07/owl#versionInfo'), rdflib.term.URIRef('http://www.w3.org/2000/01/rdf-schema#label'), rdflib.term.URIRef('http://www.w3.org/2002/07/owl#intersectionOf'), rdflib.term.URIRef('http://www.w3.org/2002/07/owl#someValuesFrom'), rdflib.term.URIRef('http://www.w3.org/1999/02/22-rdf-syntax-ns#rest')}\n",
      "Query: \n",
      "  (L0 | L1)* L2\n",
      "  \n",
      "Perfomance:\n",
      "21.8 ms ± 1.55 ms per loop (mean ± std. dev. of 7 runs, 3 loops each)\n",
      "=== === ===\n",
      "Graph univ_bench:\n",
      "- number of nodes: 179\n",
      "\t- number of edges: 293\n",
      "\t- edge labels: {rdflib.term.URIRef('http://www.w3.org/1999/02/22-rdf-syntax-ns#type'), rdflib.term.URIRef('http://www.w3.org/2000/01/rdf-schema#subClassOf'), rdflib.term.URIRef('http://www.w3.org/2000/01/rdf-schema#domain'), rdflib.term.URIRef('http://www.w3.org/2000/01/rdf-schema#comment'), rdflib.term.URIRef('http://www.w3.org/1999/02/22-rdf-syntax-ns#first'), rdflib.term.URIRef('http://www.w3.org/2000/01/rdf-schema#range'), rdflib.term.URIRef('http://www.w3.org/2000/01/rdf-schema#subPropertyOf'), rdflib.term.URIRef('http://www.w3.org/2002/07/owl#inverseOf'), rdflib.term.URIRef('http://www.w3.org/2002/07/owl#onProperty'), rdflib.term.URIRef('http://www.w3.org/2002/07/owl#versionInfo'), rdflib.term.URIRef('http://www.w3.org/2000/01/rdf-schema#label'), rdflib.term.URIRef('http://www.w3.org/2002/07/owl#intersectionOf'), rdflib.term.URIRef('http://www.w3.org/2002/07/owl#someValuesFrom'), rdflib.term.URIRef('http://www.w3.org/1999/02/22-rdf-syntax-ns#rest')}\n",
      "Query: \n",
      "  L0 | L2 | L1*\n",
      "  \n",
      "Perfomance:\n",
      "18.3 ms ± 780 µs per loop (mean ± std. dev. of 7 runs, 3 loops each)\n",
      "=== === ===\n",
      "Graph univ_bench:\n",
      "- number of nodes: 179\n",
      "\t- number of edges: 293\n",
      "\t- edge labels: {rdflib.term.URIRef('http://www.w3.org/1999/02/22-rdf-syntax-ns#type'), rdflib.term.URIRef('http://www.w3.org/2000/01/rdf-schema#subClassOf'), rdflib.term.URIRef('http://www.w3.org/2000/01/rdf-schema#domain'), rdflib.term.URIRef('http://www.w3.org/2000/01/rdf-schema#comment'), rdflib.term.URIRef('http://www.w3.org/1999/02/22-rdf-syntax-ns#first'), rdflib.term.URIRef('http://www.w3.org/2000/01/rdf-schema#range'), rdflib.term.URIRef('http://www.w3.org/2000/01/rdf-schema#subPropertyOf'), rdflib.term.URIRef('http://www.w3.org/2002/07/owl#inverseOf'), rdflib.term.URIRef('http://www.w3.org/2002/07/owl#onProperty'), rdflib.term.URIRef('http://www.w3.org/2002/07/owl#versionInfo'), rdflib.term.URIRef('http://www.w3.org/2000/01/rdf-schema#label'), rdflib.term.URIRef('http://www.w3.org/2002/07/owl#intersectionOf'), rdflib.term.URIRef('http://www.w3.org/2002/07/owl#someValuesFrom'), rdflib.term.URIRef('http://www.w3.org/1999/02/22-rdf-syntax-ns#rest')}\n",
      "Query: \n",
      "  L0 L1 L2 (L3 | L1)*\n",
      "  \n",
      "Perfomance:\n",
      "18.4 ms ± 455 µs per loop (mean ± std. dev. of 7 runs, 3 loops each)\n",
      "=== === ===\n",
      "Graph univ_bench:\n",
      "- number of nodes: 179\n",
      "\t- number of edges: 293\n",
      "\t- edge labels: {rdflib.term.URIRef('http://www.w3.org/1999/02/22-rdf-syntax-ns#type'), rdflib.term.URIRef('http://www.w3.org/2000/01/rdf-schema#subClassOf'), rdflib.term.URIRef('http://www.w3.org/2000/01/rdf-schema#domain'), rdflib.term.URIRef('http://www.w3.org/2000/01/rdf-schema#comment'), rdflib.term.URIRef('http://www.w3.org/1999/02/22-rdf-syntax-ns#first'), rdflib.term.URIRef('http://www.w3.org/2000/01/rdf-schema#range'), rdflib.term.URIRef('http://www.w3.org/2000/01/rdf-schema#subPropertyOf'), rdflib.term.URIRef('http://www.w3.org/2002/07/owl#inverseOf'), rdflib.term.URIRef('http://www.w3.org/2002/07/owl#onProperty'), rdflib.term.URIRef('http://www.w3.org/2002/07/owl#versionInfo'), rdflib.term.URIRef('http://www.w3.org/2000/01/rdf-schema#label'), rdflib.term.URIRef('http://www.w3.org/2002/07/owl#intersectionOf'), rdflib.term.URIRef('http://www.w3.org/2002/07/owl#someValuesFrom'), rdflib.term.URIRef('http://www.w3.org/1999/02/22-rdf-syntax-ns#rest')}\n",
      "Query: \n",
      "  (L0 | L3)* | (L1 | L2)*\n",
      "  \n",
      "Perfomance:\n",
      "18.1 ms ± 542 µs per loop (mean ± std. dev. of 7 runs, 3 loops each)\n",
      "=== === ===\n",
      "Graph atom_primitive:\n",
      "- number of nodes: 291\n",
      "\t- number of edges: 425\n",
      "\t- edge labels: {rdflib.term.URIRef('http://purl.org/dc/elements/1.1/creator'), rdflib.term.URIRef('http://www.w3.org/1999/02/22-rdf-syntax-ns#type'), rdflib.term.URIRef('http://purl.org/dc/elements/1.1/title'), rdflib.term.URIRef('http://purl.org/dc/elements/1.1/publisher'), rdflib.term.URIRef('http://purl.org/dc/elements/1.1/description'), rdflib.term.URIRef('http://www.w3.org/2000/01/rdf-schema#subClassOf'), rdflib.term.URIRef('http://www.w3.org/2000/01/rdf-schema#comment'), rdflib.term.URIRef('http://www.w3.org/2000/01/rdf-schema#domain'), rdflib.term.URIRef('http://purl.org/dc/elements/1.1/language'), rdflib.term.URIRef('http://purl.org/dc/elements/1.1/format'), rdflib.term.URIRef('http://www.w3.org/2000/01/rdf-schema#seeAlso'), rdflib.term.URIRef('http://purl.org/dc/elements/1.1/date'), rdflib.term.URIRef('http://www.w3.org/2000/01/rdf-schema#subPropertyOf'), rdflib.term.URIRef('http://www.w3.org/2002/07/owl#imports'), rdflib.term.URIRef('http://www.w3.org/2002/07/owl#versionInfo'), rdflib.term.URIRef('http://www.w3.org/2000/01/rdf-schema#label'), rdflib.term.URIRef('http://www.w3.org/2000/01/rdf-schema#range')}\n",
      "Query: \n",
      "  (L0 | L1)* L2\n",
      "  \n",
      "Perfomance:\n",
      "27 ms ± 1.11 ms per loop (mean ± std. dev. of 7 runs, 3 loops each)\n",
      "=== === ===\n",
      "Graph atom_primitive:\n",
      "- number of nodes: 291\n",
      "\t- number of edges: 425\n",
      "\t- edge labels: {rdflib.term.URIRef('http://purl.org/dc/elements/1.1/creator'), rdflib.term.URIRef('http://www.w3.org/1999/02/22-rdf-syntax-ns#type'), rdflib.term.URIRef('http://purl.org/dc/elements/1.1/title'), rdflib.term.URIRef('http://purl.org/dc/elements/1.1/publisher'), rdflib.term.URIRef('http://purl.org/dc/elements/1.1/description'), rdflib.term.URIRef('http://www.w3.org/2000/01/rdf-schema#subClassOf'), rdflib.term.URIRef('http://www.w3.org/2000/01/rdf-schema#comment'), rdflib.term.URIRef('http://www.w3.org/2000/01/rdf-schema#domain'), rdflib.term.URIRef('http://purl.org/dc/elements/1.1/language'), rdflib.term.URIRef('http://purl.org/dc/elements/1.1/format'), rdflib.term.URIRef('http://www.w3.org/2000/01/rdf-schema#seeAlso'), rdflib.term.URIRef('http://purl.org/dc/elements/1.1/date'), rdflib.term.URIRef('http://www.w3.org/2000/01/rdf-schema#subPropertyOf'), rdflib.term.URIRef('http://www.w3.org/2002/07/owl#imports'), rdflib.term.URIRef('http://www.w3.org/2002/07/owl#versionInfo'), rdflib.term.URIRef('http://www.w3.org/2000/01/rdf-schema#label'), rdflib.term.URIRef('http://www.w3.org/2000/01/rdf-schema#range')}\n",
      "Query: \n",
      "  L0 | L2 | L1*\n",
      "  \n",
      "Perfomance:\n",
      "28 ms ± 1.38 ms per loop (mean ± std. dev. of 7 runs, 3 loops each)\n",
      "=== === ===\n",
      "Graph atom_primitive:\n",
      "- number of nodes: 291\n",
      "\t- number of edges: 425\n",
      "\t- edge labels: {rdflib.term.URIRef('http://purl.org/dc/elements/1.1/creator'), rdflib.term.URIRef('http://www.w3.org/1999/02/22-rdf-syntax-ns#type'), rdflib.term.URIRef('http://purl.org/dc/elements/1.1/title'), rdflib.term.URIRef('http://purl.org/dc/elements/1.1/publisher'), rdflib.term.URIRef('http://purl.org/dc/elements/1.1/description'), rdflib.term.URIRef('http://www.w3.org/2000/01/rdf-schema#subClassOf'), rdflib.term.URIRef('http://www.w3.org/2000/01/rdf-schema#comment'), rdflib.term.URIRef('http://www.w3.org/2000/01/rdf-schema#domain'), rdflib.term.URIRef('http://purl.org/dc/elements/1.1/language'), rdflib.term.URIRef('http://purl.org/dc/elements/1.1/format'), rdflib.term.URIRef('http://www.w3.org/2000/01/rdf-schema#seeAlso'), rdflib.term.URIRef('http://purl.org/dc/elements/1.1/date'), rdflib.term.URIRef('http://www.w3.org/2000/01/rdf-schema#subPropertyOf'), rdflib.term.URIRef('http://www.w3.org/2002/07/owl#imports'), rdflib.term.URIRef('http://www.w3.org/2002/07/owl#versionInfo'), rdflib.term.URIRef('http://www.w3.org/2000/01/rdf-schema#label'), rdflib.term.URIRef('http://www.w3.org/2000/01/rdf-schema#range')}\n",
      "Query: \n",
      "  L0 L1 L2 (L3 | L1)*\n",
      "  \n",
      "Perfomance:\n"
     ]
    },
    {
     "name": "stdout",
     "output_type": "stream",
     "text": [
      "34.5 ms ± 2.74 ms per loop (mean ± std. dev. of 7 runs, 3 loops each)\n",
      "=== === ===\n",
      "Graph atom_primitive:\n",
      "- number of nodes: 291\n",
      "\t- number of edges: 425\n",
      "\t- edge labels: {rdflib.term.URIRef('http://purl.org/dc/elements/1.1/creator'), rdflib.term.URIRef('http://www.w3.org/1999/02/22-rdf-syntax-ns#type'), rdflib.term.URIRef('http://purl.org/dc/elements/1.1/title'), rdflib.term.URIRef('http://purl.org/dc/elements/1.1/publisher'), rdflib.term.URIRef('http://purl.org/dc/elements/1.1/description'), rdflib.term.URIRef('http://www.w3.org/2000/01/rdf-schema#subClassOf'), rdflib.term.URIRef('http://www.w3.org/2000/01/rdf-schema#comment'), rdflib.term.URIRef('http://www.w3.org/2000/01/rdf-schema#domain'), rdflib.term.URIRef('http://purl.org/dc/elements/1.1/language'), rdflib.term.URIRef('http://purl.org/dc/elements/1.1/format'), rdflib.term.URIRef('http://www.w3.org/2000/01/rdf-schema#seeAlso'), rdflib.term.URIRef('http://purl.org/dc/elements/1.1/date'), rdflib.term.URIRef('http://www.w3.org/2000/01/rdf-schema#subPropertyOf'), rdflib.term.URIRef('http://www.w3.org/2002/07/owl#imports'), rdflib.term.URIRef('http://www.w3.org/2002/07/owl#versionInfo'), rdflib.term.URIRef('http://www.w3.org/2000/01/rdf-schema#label'), rdflib.term.URIRef('http://www.w3.org/2000/01/rdf-schema#range')}\n",
      "Query: \n",
      "  (L0 | L3)* | (L1 | L2)*\n",
      "  \n",
      "Perfomance:\n",
      "31.1 ms ± 833 µs per loop (mean ± std. dev. of 7 runs, 3 loops each)\n",
      "=== === ===\n",
      "Graph biomedical_mesure_primitive:\n",
      "- number of nodes: 341\n",
      "\t- number of edges: 459\n",
      "\t- edge labels: {rdflib.term.URIRef('http://www.w3.org/1999/02/22-rdf-syntax-ns#type'), rdflib.term.URIRef('http://purl.org/dc/elements/1.1/title'), rdflib.term.URIRef('http://purl.org/dc/elements/1.1/publisher'), rdflib.term.URIRef('http://purl.org/dc/elements/1.1/description'), rdflib.term.URIRef('http://www.w3.org/2000/01/rdf-schema#subClassOf'), rdflib.term.URIRef('http://www.w3.org/2000/01/rdf-schema#comment'), rdflib.term.URIRef('http://purl.org/dc/elements/1.1/language'), rdflib.term.URIRef('http://www.w3.org/2002/07/owl#versionInfo'), rdflib.term.URIRef('http://purl.org/dc/elements/1.1/creator'), rdflib.term.URIRef('http://www.w3.org/2000/01/rdf-schema#label')}\n",
      "Query: \n",
      "  (L0 | L1)* L2\n",
      "  \n",
      "Perfomance:\n",
      "32.5 ms ± 2.48 ms per loop (mean ± std. dev. of 7 runs, 3 loops each)\n",
      "=== === ===\n",
      "Graph biomedical_mesure_primitive:\n",
      "- number of nodes: 341\n",
      "\t- number of edges: 459\n",
      "\t- edge labels: {rdflib.term.URIRef('http://www.w3.org/1999/02/22-rdf-syntax-ns#type'), rdflib.term.URIRef('http://purl.org/dc/elements/1.1/title'), rdflib.term.URIRef('http://purl.org/dc/elements/1.1/publisher'), rdflib.term.URIRef('http://purl.org/dc/elements/1.1/description'), rdflib.term.URIRef('http://www.w3.org/2000/01/rdf-schema#subClassOf'), rdflib.term.URIRef('http://www.w3.org/2000/01/rdf-schema#comment'), rdflib.term.URIRef('http://purl.org/dc/elements/1.1/language'), rdflib.term.URIRef('http://www.w3.org/2002/07/owl#versionInfo'), rdflib.term.URIRef('http://purl.org/dc/elements/1.1/creator'), rdflib.term.URIRef('http://www.w3.org/2000/01/rdf-schema#label')}\n",
      "Query: \n",
      "  L0 | L2 | L1*\n",
      "  \n",
      "Perfomance:\n",
      "35.9 ms ± 1.46 ms per loop (mean ± std. dev. of 7 runs, 3 loops each)\n",
      "=== === ===\n",
      "Graph biomedical_mesure_primitive:\n",
      "- number of nodes: 341\n",
      "\t- number of edges: 459\n",
      "\t- edge labels: {rdflib.term.URIRef('http://www.w3.org/1999/02/22-rdf-syntax-ns#type'), rdflib.term.URIRef('http://purl.org/dc/elements/1.1/title'), rdflib.term.URIRef('http://purl.org/dc/elements/1.1/publisher'), rdflib.term.URIRef('http://purl.org/dc/elements/1.1/description'), rdflib.term.URIRef('http://www.w3.org/2000/01/rdf-schema#subClassOf'), rdflib.term.URIRef('http://www.w3.org/2000/01/rdf-schema#comment'), rdflib.term.URIRef('http://purl.org/dc/elements/1.1/language'), rdflib.term.URIRef('http://www.w3.org/2002/07/owl#versionInfo'), rdflib.term.URIRef('http://purl.org/dc/elements/1.1/creator'), rdflib.term.URIRef('http://www.w3.org/2000/01/rdf-schema#label')}\n",
      "Query: \n",
      "  L0 L1 L2 (L3 | L1)*\n",
      "  \n",
      "Perfomance:\n",
      "38.3 ms ± 6.44 ms per loop (mean ± std. dev. of 7 runs, 3 loops each)\n",
      "=== === ===\n",
      "Graph biomedical_mesure_primitive:\n",
      "- number of nodes: 341\n",
      "\t- number of edges: 459\n",
      "\t- edge labels: {rdflib.term.URIRef('http://www.w3.org/1999/02/22-rdf-syntax-ns#type'), rdflib.term.URIRef('http://purl.org/dc/elements/1.1/title'), rdflib.term.URIRef('http://purl.org/dc/elements/1.1/publisher'), rdflib.term.URIRef('http://purl.org/dc/elements/1.1/description'), rdflib.term.URIRef('http://www.w3.org/2000/01/rdf-schema#subClassOf'), rdflib.term.URIRef('http://www.w3.org/2000/01/rdf-schema#comment'), rdflib.term.URIRef('http://purl.org/dc/elements/1.1/language'), rdflib.term.URIRef('http://www.w3.org/2002/07/owl#versionInfo'), rdflib.term.URIRef('http://purl.org/dc/elements/1.1/creator'), rdflib.term.URIRef('http://www.w3.org/2000/01/rdf-schema#label')}\n",
      "Query: \n",
      "  (L0 | L3)* | (L1 | L2)*\n",
      "  \n",
      "Perfomance:\n",
      "32.7 ms ± 1.05 ms per loop (mean ± std. dev. of 7 runs, 3 loops each)\n",
      "=== === ===\n",
      "Graph foaf:\n",
      "- number of nodes: 256\n",
      "\t- number of edges: 631\n",
      "\t- edge labels: {rdflib.term.URIRef('http://www.w3.org/2002/07/owl#disjointWith'), rdflib.term.URIRef('http://www.w3.org/1999/02/22-rdf-syntax-ns#type'), rdflib.term.URIRef('http://purl.org/dc/elements/1.1/title'), rdflib.term.URIRef('http://www.w3.org/2002/07/owl#equivalentProperty'), rdflib.term.URIRef('http://purl.org/dc/elements/1.1/description'), rdflib.term.URIRef('http://www.w3.org/2000/01/rdf-schema#comment'), rdflib.term.URIRef('http://www.w3.org/2000/01/rdf-schema#domain'), rdflib.term.URIRef('http://www.w3.org/2000/01/rdf-schema#subClassOf'), rdflib.term.URIRef('http://www.w3.org/2000/01/rdf-schema#subPropertyOf'), rdflib.term.URIRef('http://www.w3.org/2003/06/sw-vocab-status/ns#term_status'), rdflib.term.URIRef('http://www.w3.org/2002/07/owl#inverseOf'), rdflib.term.URIRef('http://www.w3.org/2002/07/owl#equivalentClass'), rdflib.term.URIRef('http://www.w3.org/2000/01/rdf-schema#isDefinedBy'), rdflib.term.URIRef('http://www.w3.org/2000/01/rdf-schema#label'), rdflib.term.URIRef('http://www.w3.org/2000/01/rdf-schema#range')}\n",
      "Query: \n",
      "  (L0 | L1)* L2\n",
      "  \n",
      "Perfomance:\n",
      "36.2 ms ± 869 µs per loop (mean ± std. dev. of 7 runs, 3 loops each)\n",
      "=== === ===\n",
      "Graph foaf:\n",
      "- number of nodes: 256\n",
      "\t- number of edges: 631\n",
      "\t- edge labels: {rdflib.term.URIRef('http://www.w3.org/2002/07/owl#disjointWith'), rdflib.term.URIRef('http://www.w3.org/1999/02/22-rdf-syntax-ns#type'), rdflib.term.URIRef('http://purl.org/dc/elements/1.1/title'), rdflib.term.URIRef('http://www.w3.org/2002/07/owl#equivalentProperty'), rdflib.term.URIRef('http://purl.org/dc/elements/1.1/description'), rdflib.term.URIRef('http://www.w3.org/2000/01/rdf-schema#comment'), rdflib.term.URIRef('http://www.w3.org/2000/01/rdf-schema#domain'), rdflib.term.URIRef('http://www.w3.org/2000/01/rdf-schema#subClassOf'), rdflib.term.URIRef('http://www.w3.org/2000/01/rdf-schema#subPropertyOf'), rdflib.term.URIRef('http://www.w3.org/2003/06/sw-vocab-status/ns#term_status'), rdflib.term.URIRef('http://www.w3.org/2002/07/owl#inverseOf'), rdflib.term.URIRef('http://www.w3.org/2002/07/owl#equivalentClass'), rdflib.term.URIRef('http://www.w3.org/2000/01/rdf-schema#isDefinedBy'), rdflib.term.URIRef('http://www.w3.org/2000/01/rdf-schema#label'), rdflib.term.URIRef('http://www.w3.org/2000/01/rdf-schema#range')}\n",
      "Query: \n",
      "  L0 | L2 | L1*\n",
      "  \n",
      "Perfomance:\n",
      "34.6 ms ± 1.47 ms per loop (mean ± std. dev. of 7 runs, 3 loops each)\n",
      "=== === ===\n",
      "Graph foaf:\n",
      "- number of nodes: 256\n",
      "\t- number of edges: 631\n",
      "\t- edge labels: {rdflib.term.URIRef('http://www.w3.org/2002/07/owl#disjointWith'), rdflib.term.URIRef('http://www.w3.org/1999/02/22-rdf-syntax-ns#type'), rdflib.term.URIRef('http://purl.org/dc/elements/1.1/title'), rdflib.term.URIRef('http://www.w3.org/2002/07/owl#equivalentProperty'), rdflib.term.URIRef('http://purl.org/dc/elements/1.1/description'), rdflib.term.URIRef('http://www.w3.org/2000/01/rdf-schema#comment'), rdflib.term.URIRef('http://www.w3.org/2000/01/rdf-schema#domain'), rdflib.term.URIRef('http://www.w3.org/2000/01/rdf-schema#subClassOf'), rdflib.term.URIRef('http://www.w3.org/2000/01/rdf-schema#subPropertyOf'), rdflib.term.URIRef('http://www.w3.org/2003/06/sw-vocab-status/ns#term_status'), rdflib.term.URIRef('http://www.w3.org/2002/07/owl#inverseOf'), rdflib.term.URIRef('http://www.w3.org/2002/07/owl#equivalentClass'), rdflib.term.URIRef('http://www.w3.org/2000/01/rdf-schema#isDefinedBy'), rdflib.term.URIRef('http://www.w3.org/2000/01/rdf-schema#label'), rdflib.term.URIRef('http://www.w3.org/2000/01/rdf-schema#range')}\n",
      "Query: \n",
      "  L0 L1 L2 (L3 | L1)*\n",
      "  \n",
      "Perfomance:\n"
     ]
    },
    {
     "name": "stdout",
     "output_type": "stream",
     "text": [
      "40.9 ms ± 5.97 ms per loop (mean ± std. dev. of 7 runs, 3 loops each)\n",
      "=== === ===\n",
      "Graph foaf:\n",
      "- number of nodes: 256\n",
      "\t- number of edges: 631\n",
      "\t- edge labels: {rdflib.term.URIRef('http://www.w3.org/2002/07/owl#disjointWith'), rdflib.term.URIRef('http://www.w3.org/1999/02/22-rdf-syntax-ns#type'), rdflib.term.URIRef('http://purl.org/dc/elements/1.1/title'), rdflib.term.URIRef('http://www.w3.org/2002/07/owl#equivalentProperty'), rdflib.term.URIRef('http://purl.org/dc/elements/1.1/description'), rdflib.term.URIRef('http://www.w3.org/2000/01/rdf-schema#comment'), rdflib.term.URIRef('http://www.w3.org/2000/01/rdf-schema#domain'), rdflib.term.URIRef('http://www.w3.org/2000/01/rdf-schema#subClassOf'), rdflib.term.URIRef('http://www.w3.org/2000/01/rdf-schema#subPropertyOf'), rdflib.term.URIRef('http://www.w3.org/2003/06/sw-vocab-status/ns#term_status'), rdflib.term.URIRef('http://www.w3.org/2002/07/owl#inverseOf'), rdflib.term.URIRef('http://www.w3.org/2002/07/owl#equivalentClass'), rdflib.term.URIRef('http://www.w3.org/2000/01/rdf-schema#isDefinedBy'), rdflib.term.URIRef('http://www.w3.org/2000/01/rdf-schema#label'), rdflib.term.URIRef('http://www.w3.org/2000/01/rdf-schema#range')}\n",
      "Query: \n",
      "  (L0 | L3)* | (L1 | L2)*\n",
      "  \n",
      "Perfomance:\n",
      "39.8 ms ± 5.01 ms per loop (mean ± std. dev. of 7 runs, 3 loops each)\n",
      "=== === ===\n",
      "Graph people_pets:\n",
      "- number of nodes: 337\n",
      "\t- number of edges: 640\n",
      "\t- edge labels: {rdflib.term.URIRef('http://www.w3.org/2002/07/owl#allValuesFrom'), rdflib.term.URIRef('http://www.w3.org/2002/07/owl#complementOf'), rdflib.term.URIRef('http://cohse.semanticweb.org/ontologies/people#drives'), rdflib.term.URIRef('http://www.w3.org/2002/07/owl#disjointWith'), rdflib.term.URIRef('http://www.w3.org/2000/01/rdf-schema#domain'), rdflib.term.URIRef('http://www.w3.org/1999/02/22-rdf-syntax-ns#first'), rdflib.term.URIRef('http://www.w3.org/2000/01/rdf-schema#subPropertyOf'), rdflib.term.URIRef('http://www.w3.org/2002/07/owl#inverseOf'), rdflib.term.URIRef('http://www.w3.org/2002/07/owl#equivalentClass'), rdflib.term.URIRef('http://www.w3.org/2002/07/owl#onProperty'), rdflib.term.URIRef('http://cohse.semanticweb.org/ontologies/people#is_pet_of'), rdflib.term.URIRef('http://www.w3.org/2000/01/rdf-schema#label'), rdflib.term.URIRef('http://www.w3.org/2000/01/rdf-schema#range'), rdflib.term.URIRef('http://www.w3.org/2002/07/owl#intersectionOf'), rdflib.term.URIRef('http://www.w3.org/2002/07/owl#someValuesFrom'), rdflib.term.URIRef('http://cohse.semanticweb.org/ontologies/people#service_number'), rdflib.term.URIRef('http://www.w3.org/2002/07/owl#unionOf'), rdflib.term.URIRef('http://www.w3.org/1999/02/22-rdf-syntax-ns#type'), rdflib.term.URIRef('http://cohse.semanticweb.org/ontologies/people#reads'), rdflib.term.URIRef('http://www.w3.org/2000/01/rdf-schema#subClassOf'), rdflib.term.URIRef('http://www.w3.org/2000/01/rdf-schema#comment'), rdflib.term.URIRef('http://www.w3.org/2002/07/owl#maxCardinality'), rdflib.term.URIRef('http://www.w3.org/2002/07/owl#minCardinality'), rdflib.term.URIRef('http://cohse.semanticweb.org/ontologies/people#has_pet'), rdflib.term.URIRef('http://www.w3.org/1999/02/22-rdf-syntax-ns#rest')}\n",
      "Query: \n",
      "  (L0 | L1)* L2\n",
      "  \n",
      "Perfomance:\n",
      "46.4 ms ± 4.89 ms per loop (mean ± std. dev. of 7 runs, 3 loops each)\n",
      "=== === ===\n",
      "Graph people_pets:\n",
      "- number of nodes: 337\n",
      "\t- number of edges: 640\n",
      "\t- edge labels: {rdflib.term.URIRef('http://www.w3.org/2002/07/owl#allValuesFrom'), rdflib.term.URIRef('http://www.w3.org/2002/07/owl#complementOf'), rdflib.term.URIRef('http://cohse.semanticweb.org/ontologies/people#drives'), rdflib.term.URIRef('http://www.w3.org/2002/07/owl#disjointWith'), rdflib.term.URIRef('http://www.w3.org/2000/01/rdf-schema#domain'), rdflib.term.URIRef('http://www.w3.org/1999/02/22-rdf-syntax-ns#first'), rdflib.term.URIRef('http://www.w3.org/2000/01/rdf-schema#subPropertyOf'), rdflib.term.URIRef('http://www.w3.org/2002/07/owl#inverseOf'), rdflib.term.URIRef('http://www.w3.org/2002/07/owl#equivalentClass'), rdflib.term.URIRef('http://www.w3.org/2002/07/owl#onProperty'), rdflib.term.URIRef('http://cohse.semanticweb.org/ontologies/people#is_pet_of'), rdflib.term.URIRef('http://www.w3.org/2000/01/rdf-schema#label'), rdflib.term.URIRef('http://www.w3.org/2000/01/rdf-schema#range'), rdflib.term.URIRef('http://www.w3.org/2002/07/owl#intersectionOf'), rdflib.term.URIRef('http://www.w3.org/2002/07/owl#someValuesFrom'), rdflib.term.URIRef('http://cohse.semanticweb.org/ontologies/people#service_number'), rdflib.term.URIRef('http://www.w3.org/2002/07/owl#unionOf'), rdflib.term.URIRef('http://www.w3.org/1999/02/22-rdf-syntax-ns#type'), rdflib.term.URIRef('http://cohse.semanticweb.org/ontologies/people#reads'), rdflib.term.URIRef('http://www.w3.org/2000/01/rdf-schema#subClassOf'), rdflib.term.URIRef('http://www.w3.org/2000/01/rdf-schema#comment'), rdflib.term.URIRef('http://www.w3.org/2002/07/owl#maxCardinality'), rdflib.term.URIRef('http://www.w3.org/2002/07/owl#minCardinality'), rdflib.term.URIRef('http://cohse.semanticweb.org/ontologies/people#has_pet'), rdflib.term.URIRef('http://www.w3.org/1999/02/22-rdf-syntax-ns#rest')}\n",
      "Query: \n",
      "  L0 | L2 | L1*\n",
      "  \n",
      "Perfomance:\n",
      "44.8 ms ± 7.75 ms per loop (mean ± std. dev. of 7 runs, 3 loops each)\n",
      "=== === ===\n",
      "Graph people_pets:\n",
      "- number of nodes: 337\n",
      "\t- number of edges: 640\n",
      "\t- edge labels: {rdflib.term.URIRef('http://www.w3.org/2002/07/owl#allValuesFrom'), rdflib.term.URIRef('http://www.w3.org/2002/07/owl#complementOf'), rdflib.term.URIRef('http://cohse.semanticweb.org/ontologies/people#drives'), rdflib.term.URIRef('http://www.w3.org/2002/07/owl#disjointWith'), rdflib.term.URIRef('http://www.w3.org/2000/01/rdf-schema#domain'), rdflib.term.URIRef('http://www.w3.org/1999/02/22-rdf-syntax-ns#first'), rdflib.term.URIRef('http://www.w3.org/2000/01/rdf-schema#subPropertyOf'), rdflib.term.URIRef('http://www.w3.org/2002/07/owl#inverseOf'), rdflib.term.URIRef('http://www.w3.org/2002/07/owl#equivalentClass'), rdflib.term.URIRef('http://www.w3.org/2002/07/owl#onProperty'), rdflib.term.URIRef('http://cohse.semanticweb.org/ontologies/people#is_pet_of'), rdflib.term.URIRef('http://www.w3.org/2000/01/rdf-schema#label'), rdflib.term.URIRef('http://www.w3.org/2000/01/rdf-schema#range'), rdflib.term.URIRef('http://www.w3.org/2002/07/owl#intersectionOf'), rdflib.term.URIRef('http://www.w3.org/2002/07/owl#someValuesFrom'), rdflib.term.URIRef('http://cohse.semanticweb.org/ontologies/people#service_number'), rdflib.term.URIRef('http://www.w3.org/2002/07/owl#unionOf'), rdflib.term.URIRef('http://www.w3.org/1999/02/22-rdf-syntax-ns#type'), rdflib.term.URIRef('http://cohse.semanticweb.org/ontologies/people#reads'), rdflib.term.URIRef('http://www.w3.org/2000/01/rdf-schema#subClassOf'), rdflib.term.URIRef('http://www.w3.org/2000/01/rdf-schema#comment'), rdflib.term.URIRef('http://www.w3.org/2002/07/owl#maxCardinality'), rdflib.term.URIRef('http://www.w3.org/2002/07/owl#minCardinality'), rdflib.term.URIRef('http://cohse.semanticweb.org/ontologies/people#has_pet'), rdflib.term.URIRef('http://www.w3.org/1999/02/22-rdf-syntax-ns#rest')}\n",
      "Query: \n",
      "  L0 L1 L2 (L3 | L1)*\n",
      "  \n",
      "Perfomance:\n",
      "48.1 ms ± 3.69 ms per loop (mean ± std. dev. of 7 runs, 3 loops each)\n",
      "=== === ===\n",
      "Graph people_pets:\n",
      "- number of nodes: 337\n",
      "\t- number of edges: 640\n",
      "\t- edge labels: {rdflib.term.URIRef('http://www.w3.org/2002/07/owl#allValuesFrom'), rdflib.term.URIRef('http://www.w3.org/2002/07/owl#complementOf'), rdflib.term.URIRef('http://cohse.semanticweb.org/ontologies/people#drives'), rdflib.term.URIRef('http://www.w3.org/2002/07/owl#disjointWith'), rdflib.term.URIRef('http://www.w3.org/2000/01/rdf-schema#domain'), rdflib.term.URIRef('http://www.w3.org/1999/02/22-rdf-syntax-ns#first'), rdflib.term.URIRef('http://www.w3.org/2000/01/rdf-schema#subPropertyOf'), rdflib.term.URIRef('http://www.w3.org/2002/07/owl#inverseOf'), rdflib.term.URIRef('http://www.w3.org/2002/07/owl#equivalentClass'), rdflib.term.URIRef('http://www.w3.org/2002/07/owl#onProperty'), rdflib.term.URIRef('http://cohse.semanticweb.org/ontologies/people#is_pet_of'), rdflib.term.URIRef('http://www.w3.org/2000/01/rdf-schema#label'), rdflib.term.URIRef('http://www.w3.org/2000/01/rdf-schema#range'), rdflib.term.URIRef('http://www.w3.org/2002/07/owl#intersectionOf'), rdflib.term.URIRef('http://www.w3.org/2002/07/owl#someValuesFrom'), rdflib.term.URIRef('http://cohse.semanticweb.org/ontologies/people#service_number'), rdflib.term.URIRef('http://www.w3.org/2002/07/owl#unionOf'), rdflib.term.URIRef('http://www.w3.org/1999/02/22-rdf-syntax-ns#type'), rdflib.term.URIRef('http://cohse.semanticweb.org/ontologies/people#reads'), rdflib.term.URIRef('http://www.w3.org/2000/01/rdf-schema#subClassOf'), rdflib.term.URIRef('http://www.w3.org/2000/01/rdf-schema#comment'), rdflib.term.URIRef('http://www.w3.org/2002/07/owl#maxCardinality'), rdflib.term.URIRef('http://www.w3.org/2002/07/owl#minCardinality'), rdflib.term.URIRef('http://cohse.semanticweb.org/ontologies/people#has_pet'), rdflib.term.URIRef('http://www.w3.org/1999/02/22-rdf-syntax-ns#rest')}\n",
      "Query: \n",
      "  (L0 | L3)* | (L1 | L2)*\n",
      "  \n",
      "Perfomance:\n"
     ]
    },
    {
     "name": "stdout",
     "output_type": "stream",
     "text": [
      "47.1 ms ± 6.04 ms per loop (mean ± std. dev. of 7 runs, 3 loops each)\n",
      "=== === ===\n",
      "Graph funding:\n",
      "- number of nodes: 778\n",
      "\t- number of edges: 1086\n",
      "\t- edge labels: {rdflib.term.URIRef('http://purl.org/dc/elements/1.1/title'), rdflib.term.URIRef('http://www.w3.org/2000/01/rdf-schema#domain'), rdflib.term.URIRef('http://purl.org/dc/elements/1.1/rights'), rdflib.term.URIRef('http://www.w3.org/1999/02/22-rdf-syntax-ns#first'), rdflib.term.URIRef('http://www.w3.org/2000/01/rdf-schema#seeAlso'), rdflib.term.URIRef('http://www.w3.org/2000/01/rdf-schema#subPropertyOf'), rdflib.term.URIRef('http://www.w3.org/2002/07/owl#inverseOf'), rdflib.term.URIRef('http://www.w3.org/2002/07/owl#imports'), rdflib.term.URIRef('http://purl.org/dc/elements/1.1/creator'), rdflib.term.URIRef('http://purl.org/dc/elements/1.1/contributor'), rdflib.term.URIRef('http://www.w3.org/2000/01/rdf-schema#label'), rdflib.term.URIRef('http://www.w3.org/2000/01/rdf-schema#range'), rdflib.term.URIRef('http://www.w3.org/2002/07/owl#unionOf'), rdflib.term.URIRef('http://www.w3.org/1999/02/22-rdf-syntax-ns#type'), rdflib.term.URIRef('http://purl.org/dc/elements/1.1/description'), rdflib.term.URIRef('http://www.w3.org/2000/01/rdf-schema#subClassOf'), rdflib.term.URIRef('http://www.w3.org/2000/01/rdf-schema#comment'), rdflib.term.URIRef('http://purl.org/dc/elements/1.1/date'), rdflib.term.URIRef('http://www.w3.org/2002/07/owl#versionInfo'), rdflib.term.URIRef('http://www.w3.org/1999/02/22-rdf-syntax-ns#rest')}\n",
      "Query: \n",
      "  (L0 | L1)* L2\n",
      "  \n",
      "Perfomance:\n",
      "85.4 ms ± 4.97 ms per loop (mean ± std. dev. of 7 runs, 3 loops each)\n",
      "=== === ===\n",
      "Graph funding:\n",
      "- number of nodes: 778\n",
      "\t- number of edges: 1086\n",
      "\t- edge labels: {rdflib.term.URIRef('http://purl.org/dc/elements/1.1/title'), rdflib.term.URIRef('http://www.w3.org/2000/01/rdf-schema#domain'), rdflib.term.URIRef('http://purl.org/dc/elements/1.1/rights'), rdflib.term.URIRef('http://www.w3.org/1999/02/22-rdf-syntax-ns#first'), rdflib.term.URIRef('http://www.w3.org/2000/01/rdf-schema#seeAlso'), rdflib.term.URIRef('http://www.w3.org/2000/01/rdf-schema#subPropertyOf'), rdflib.term.URIRef('http://www.w3.org/2002/07/owl#inverseOf'), rdflib.term.URIRef('http://www.w3.org/2002/07/owl#imports'), rdflib.term.URIRef('http://purl.org/dc/elements/1.1/creator'), rdflib.term.URIRef('http://purl.org/dc/elements/1.1/contributor'), rdflib.term.URIRef('http://www.w3.org/2000/01/rdf-schema#label'), rdflib.term.URIRef('http://www.w3.org/2000/01/rdf-schema#range'), rdflib.term.URIRef('http://www.w3.org/2002/07/owl#unionOf'), rdflib.term.URIRef('http://www.w3.org/1999/02/22-rdf-syntax-ns#type'), rdflib.term.URIRef('http://purl.org/dc/elements/1.1/description'), rdflib.term.URIRef('http://www.w3.org/2000/01/rdf-schema#subClassOf'), rdflib.term.URIRef('http://www.w3.org/2000/01/rdf-schema#comment'), rdflib.term.URIRef('http://purl.org/dc/elements/1.1/date'), rdflib.term.URIRef('http://www.w3.org/2002/07/owl#versionInfo'), rdflib.term.URIRef('http://www.w3.org/1999/02/22-rdf-syntax-ns#rest')}\n",
      "Query: \n",
      "  L0 | L2 | L1*\n",
      "  \n",
      "Perfomance:\n",
      "81.7 ms ± 8.98 ms per loop (mean ± std. dev. of 7 runs, 3 loops each)\n",
      "=== === ===\n",
      "Graph funding:\n",
      "- number of nodes: 778\n",
      "\t- number of edges: 1086\n",
      "\t- edge labels: {rdflib.term.URIRef('http://purl.org/dc/elements/1.1/title'), rdflib.term.URIRef('http://www.w3.org/2000/01/rdf-schema#domain'), rdflib.term.URIRef('http://purl.org/dc/elements/1.1/rights'), rdflib.term.URIRef('http://www.w3.org/1999/02/22-rdf-syntax-ns#first'), rdflib.term.URIRef('http://www.w3.org/2000/01/rdf-schema#seeAlso'), rdflib.term.URIRef('http://www.w3.org/2000/01/rdf-schema#subPropertyOf'), rdflib.term.URIRef('http://www.w3.org/2002/07/owl#inverseOf'), rdflib.term.URIRef('http://www.w3.org/2002/07/owl#imports'), rdflib.term.URIRef('http://purl.org/dc/elements/1.1/creator'), rdflib.term.URIRef('http://purl.org/dc/elements/1.1/contributor'), rdflib.term.URIRef('http://www.w3.org/2000/01/rdf-schema#label'), rdflib.term.URIRef('http://www.w3.org/2000/01/rdf-schema#range'), rdflib.term.URIRef('http://www.w3.org/2002/07/owl#unionOf'), rdflib.term.URIRef('http://www.w3.org/1999/02/22-rdf-syntax-ns#type'), rdflib.term.URIRef('http://purl.org/dc/elements/1.1/description'), rdflib.term.URIRef('http://www.w3.org/2000/01/rdf-schema#subClassOf'), rdflib.term.URIRef('http://www.w3.org/2000/01/rdf-schema#comment'), rdflib.term.URIRef('http://purl.org/dc/elements/1.1/date'), rdflib.term.URIRef('http://www.w3.org/2002/07/owl#versionInfo'), rdflib.term.URIRef('http://www.w3.org/1999/02/22-rdf-syntax-ns#rest')}\n",
      "Query: \n",
      "  L0 L1 L2 (L3 | L1)*\n",
      "  \n",
      "Perfomance:\n",
      "83.1 ms ± 5.95 ms per loop (mean ± std. dev. of 7 runs, 3 loops each)\n",
      "=== === ===\n",
      "Graph funding:\n",
      "- number of nodes: 778\n",
      "\t- number of edges: 1086\n",
      "\t- edge labels: {rdflib.term.URIRef('http://purl.org/dc/elements/1.1/title'), rdflib.term.URIRef('http://www.w3.org/2000/01/rdf-schema#domain'), rdflib.term.URIRef('http://purl.org/dc/elements/1.1/rights'), rdflib.term.URIRef('http://www.w3.org/1999/02/22-rdf-syntax-ns#first'), rdflib.term.URIRef('http://www.w3.org/2000/01/rdf-schema#seeAlso'), rdflib.term.URIRef('http://www.w3.org/2000/01/rdf-schema#subPropertyOf'), rdflib.term.URIRef('http://www.w3.org/2002/07/owl#inverseOf'), rdflib.term.URIRef('http://www.w3.org/2002/07/owl#imports'), rdflib.term.URIRef('http://purl.org/dc/elements/1.1/creator'), rdflib.term.URIRef('http://purl.org/dc/elements/1.1/contributor'), rdflib.term.URIRef('http://www.w3.org/2000/01/rdf-schema#label'), rdflib.term.URIRef('http://www.w3.org/2000/01/rdf-schema#range'), rdflib.term.URIRef('http://www.w3.org/2002/07/owl#unionOf'), rdflib.term.URIRef('http://www.w3.org/1999/02/22-rdf-syntax-ns#type'), rdflib.term.URIRef('http://purl.org/dc/elements/1.1/description'), rdflib.term.URIRef('http://www.w3.org/2000/01/rdf-schema#subClassOf'), rdflib.term.URIRef('http://www.w3.org/2000/01/rdf-schema#comment'), rdflib.term.URIRef('http://purl.org/dc/elements/1.1/date'), rdflib.term.URIRef('http://www.w3.org/2002/07/owl#versionInfo'), rdflib.term.URIRef('http://www.w3.org/1999/02/22-rdf-syntax-ns#rest')}\n",
      "Query: \n",
      "  (L0 | L3)* | (L1 | L2)*\n",
      "  \n",
      "Perfomance:\n",
      "88.6 ms ± 6.66 ms per loop (mean ± std. dev. of 7 runs, 3 loops each)\n",
      "=== === ===\n",
      "Graph wine:\n",
      "- number of nodes: 733\n",
      "\t- number of edges: 1839\n",
      "\t- edge labels: {rdflib.term.URIRef('http://www.w3.org/2002/07/owl#allValuesFrom'), rdflib.term.URIRef('http://www.w3.org/2002/07/owl#oneOf'), rdflib.term.URIRef('http://www.w3.org/2002/07/owl#disjointWith'), rdflib.term.URIRef('http://www.w3.org/2000/01/rdf-schema#domain'), rdflib.term.URIRef('http://www.w3.org/2002/07/owl#distinctMembers'), rdflib.term.URIRef('http://www.w3.org/1999/02/22-rdf-syntax-ns#first'), rdflib.term.URIRef('http://www.w3.org/TR/2003/PR-owl-guide-20031209/wine#locatedIn'), rdflib.term.URIRef('http://www.w3.org/2000/01/rdf-schema#subPropertyOf'), rdflib.term.URIRef('http://www.w3.org/2002/07/owl#inverseOf'), rdflib.term.URIRef('http://www.w3.org/2002/07/owl#imports'), rdflib.term.URIRef('http://www.w3.org/2002/07/owl#onProperty'), rdflib.term.URIRef('http://www.w3.org/2000/01/rdf-schema#label'), rdflib.term.URIRef('http://www.w3.org/TR/2003/PR-owl-guide-20031209/wine#madeFromGrape'), rdflib.term.URIRef('http://www.w3.org/2002/07/owl#intersectionOf'), rdflib.term.URIRef('http://www.w3.org/2000/01/rdf-schema#range'), rdflib.term.URIRef('http://www.w3.org/2002/07/owl#someValuesFrom'), rdflib.term.URIRef('http://www.w3.org/2002/07/owl#hasValue'), rdflib.term.URIRef('http://www.w3.org/2002/07/owl#unionOf'), rdflib.term.URIRef('http://www.w3.org/1999/02/22-rdf-syntax-ns#type'), rdflib.term.URIRef('http://www.w3.org/TR/2003/PR-owl-guide-20031209/wine#hasFlavor'), rdflib.term.URIRef('http://www.w3.org/1999/02/22-rdf-syntax-ns#rest'), rdflib.term.URIRef('http://www.w3.org/2000/01/rdf-schema#subClassOf'), rdflib.term.URIRef('http://www.w3.org/2000/01/rdf-schema#comment'), rdflib.term.URIRef('http://www.w3.org/2002/07/owl#maxCardinality'), rdflib.term.URIRef('http://www.w3.org/TR/2003/PR-owl-guide-20031209/wine#yearValue'), rdflib.term.URIRef('http://www.w3.org/2002/07/owl#priorVersion'), rdflib.term.URIRef('http://www.w3.org/TR/2003/PR-owl-guide-20031209/wine#hasBody'), rdflib.term.URIRef('http://www.w3.org/2002/07/owl#differentFrom'), rdflib.term.URIRef('http://www.w3.org/2002/07/owl#minCardinality'), rdflib.term.URIRef('http://www.w3.org/TR/2003/PR-owl-guide-20031209/wine#hasColor'), rdflib.term.URIRef('http://www.w3.org/2002/07/owl#cardinality'), rdflib.term.URIRef('http://www.w3.org/TR/2003/PR-owl-guide-20031209/wine#adjacentRegion'), rdflib.term.URIRef('http://www.w3.org/TR/2003/PR-owl-guide-20031209/wine#hasVintageYear'), rdflib.term.URIRef('http://www.w3.org/TR/2003/PR-owl-guide-20031209/wine#hasMaker'), rdflib.term.URIRef('http://www.w3.org/TR/2003/PR-owl-guide-20031209/wine#hasSugar')}\n",
      "Query: \n",
      "  (L0 | L1)* L2\n",
      "  \n",
      "Perfomance:\n"
     ]
    },
    {
     "name": "stdout",
     "output_type": "stream",
     "text": [
      "117 ms ± 8.73 ms per loop (mean ± std. dev. of 7 runs, 3 loops each)\n",
      "=== === ===\n",
      "Graph wine:\n",
      "- number of nodes: 733\n",
      "\t- number of edges: 1839\n",
      "\t- edge labels: {rdflib.term.URIRef('http://www.w3.org/2002/07/owl#allValuesFrom'), rdflib.term.URIRef('http://www.w3.org/2002/07/owl#oneOf'), rdflib.term.URIRef('http://www.w3.org/2002/07/owl#disjointWith'), rdflib.term.URIRef('http://www.w3.org/2000/01/rdf-schema#domain'), rdflib.term.URIRef('http://www.w3.org/2002/07/owl#distinctMembers'), rdflib.term.URIRef('http://www.w3.org/1999/02/22-rdf-syntax-ns#first'), rdflib.term.URIRef('http://www.w3.org/TR/2003/PR-owl-guide-20031209/wine#locatedIn'), rdflib.term.URIRef('http://www.w3.org/2000/01/rdf-schema#subPropertyOf'), rdflib.term.URIRef('http://www.w3.org/2002/07/owl#inverseOf'), rdflib.term.URIRef('http://www.w3.org/2002/07/owl#imports'), rdflib.term.URIRef('http://www.w3.org/2002/07/owl#onProperty'), rdflib.term.URIRef('http://www.w3.org/2000/01/rdf-schema#label'), rdflib.term.URIRef('http://www.w3.org/TR/2003/PR-owl-guide-20031209/wine#madeFromGrape'), rdflib.term.URIRef('http://www.w3.org/2002/07/owl#intersectionOf'), rdflib.term.URIRef('http://www.w3.org/2000/01/rdf-schema#range'), rdflib.term.URIRef('http://www.w3.org/2002/07/owl#someValuesFrom'), rdflib.term.URIRef('http://www.w3.org/2002/07/owl#hasValue'), rdflib.term.URIRef('http://www.w3.org/2002/07/owl#unionOf'), rdflib.term.URIRef('http://www.w3.org/1999/02/22-rdf-syntax-ns#type'), rdflib.term.URIRef('http://www.w3.org/TR/2003/PR-owl-guide-20031209/wine#hasFlavor'), rdflib.term.URIRef('http://www.w3.org/1999/02/22-rdf-syntax-ns#rest'), rdflib.term.URIRef('http://www.w3.org/2000/01/rdf-schema#subClassOf'), rdflib.term.URIRef('http://www.w3.org/2000/01/rdf-schema#comment'), rdflib.term.URIRef('http://www.w3.org/2002/07/owl#maxCardinality'), rdflib.term.URIRef('http://www.w3.org/TR/2003/PR-owl-guide-20031209/wine#yearValue'), rdflib.term.URIRef('http://www.w3.org/2002/07/owl#priorVersion'), rdflib.term.URIRef('http://www.w3.org/TR/2003/PR-owl-guide-20031209/wine#hasBody'), rdflib.term.URIRef('http://www.w3.org/2002/07/owl#differentFrom'), rdflib.term.URIRef('http://www.w3.org/2002/07/owl#minCardinality'), rdflib.term.URIRef('http://www.w3.org/TR/2003/PR-owl-guide-20031209/wine#hasColor'), rdflib.term.URIRef('http://www.w3.org/2002/07/owl#cardinality'), rdflib.term.URIRef('http://www.w3.org/TR/2003/PR-owl-guide-20031209/wine#adjacentRegion'), rdflib.term.URIRef('http://www.w3.org/TR/2003/PR-owl-guide-20031209/wine#hasVintageYear'), rdflib.term.URIRef('http://www.w3.org/TR/2003/PR-owl-guide-20031209/wine#hasMaker'), rdflib.term.URIRef('http://www.w3.org/TR/2003/PR-owl-guide-20031209/wine#hasSugar')}\n",
      "Query: \n",
      "  L0 | L2 | L1*\n",
      "  \n",
      "Perfomance:\n",
      "112 ms ± 3.22 ms per loop (mean ± std. dev. of 7 runs, 3 loops each)\n",
      "=== === ===\n",
      "Graph wine:\n",
      "- number of nodes: 733\n",
      "\t- number of edges: 1839\n",
      "\t- edge labels: {rdflib.term.URIRef('http://www.w3.org/2002/07/owl#allValuesFrom'), rdflib.term.URIRef('http://www.w3.org/2002/07/owl#oneOf'), rdflib.term.URIRef('http://www.w3.org/2002/07/owl#disjointWith'), rdflib.term.URIRef('http://www.w3.org/2000/01/rdf-schema#domain'), rdflib.term.URIRef('http://www.w3.org/2002/07/owl#distinctMembers'), rdflib.term.URIRef('http://www.w3.org/1999/02/22-rdf-syntax-ns#first'), rdflib.term.URIRef('http://www.w3.org/TR/2003/PR-owl-guide-20031209/wine#locatedIn'), rdflib.term.URIRef('http://www.w3.org/2000/01/rdf-schema#subPropertyOf'), rdflib.term.URIRef('http://www.w3.org/2002/07/owl#inverseOf'), rdflib.term.URIRef('http://www.w3.org/2002/07/owl#imports'), rdflib.term.URIRef('http://www.w3.org/2002/07/owl#onProperty'), rdflib.term.URIRef('http://www.w3.org/2000/01/rdf-schema#label'), rdflib.term.URIRef('http://www.w3.org/TR/2003/PR-owl-guide-20031209/wine#madeFromGrape'), rdflib.term.URIRef('http://www.w3.org/2002/07/owl#intersectionOf'), rdflib.term.URIRef('http://www.w3.org/2000/01/rdf-schema#range'), rdflib.term.URIRef('http://www.w3.org/2002/07/owl#someValuesFrom'), rdflib.term.URIRef('http://www.w3.org/2002/07/owl#hasValue'), rdflib.term.URIRef('http://www.w3.org/2002/07/owl#unionOf'), rdflib.term.URIRef('http://www.w3.org/1999/02/22-rdf-syntax-ns#type'), rdflib.term.URIRef('http://www.w3.org/TR/2003/PR-owl-guide-20031209/wine#hasFlavor'), rdflib.term.URIRef('http://www.w3.org/1999/02/22-rdf-syntax-ns#rest'), rdflib.term.URIRef('http://www.w3.org/2000/01/rdf-schema#subClassOf'), rdflib.term.URIRef('http://www.w3.org/2000/01/rdf-schema#comment'), rdflib.term.URIRef('http://www.w3.org/2002/07/owl#maxCardinality'), rdflib.term.URIRef('http://www.w3.org/TR/2003/PR-owl-guide-20031209/wine#yearValue'), rdflib.term.URIRef('http://www.w3.org/2002/07/owl#priorVersion'), rdflib.term.URIRef('http://www.w3.org/TR/2003/PR-owl-guide-20031209/wine#hasBody'), rdflib.term.URIRef('http://www.w3.org/2002/07/owl#differentFrom'), rdflib.term.URIRef('http://www.w3.org/2002/07/owl#minCardinality'), rdflib.term.URIRef('http://www.w3.org/TR/2003/PR-owl-guide-20031209/wine#hasColor'), rdflib.term.URIRef('http://www.w3.org/2002/07/owl#cardinality'), rdflib.term.URIRef('http://www.w3.org/TR/2003/PR-owl-guide-20031209/wine#adjacentRegion'), rdflib.term.URIRef('http://www.w3.org/TR/2003/PR-owl-guide-20031209/wine#hasVintageYear'), rdflib.term.URIRef('http://www.w3.org/TR/2003/PR-owl-guide-20031209/wine#hasMaker'), rdflib.term.URIRef('http://www.w3.org/TR/2003/PR-owl-guide-20031209/wine#hasSugar')}\n",
      "Query: \n",
      "  L0 L1 L2 (L3 | L1)*\n",
      "  \n",
      "Perfomance:\n",
      "126 ms ± 10.8 ms per loop (mean ± std. dev. of 7 runs, 3 loops each)\n",
      "=== === ===\n",
      "Graph wine:\n",
      "- number of nodes: 733\n",
      "\t- number of edges: 1839\n",
      "\t- edge labels: {rdflib.term.URIRef('http://www.w3.org/2002/07/owl#allValuesFrom'), rdflib.term.URIRef('http://www.w3.org/2002/07/owl#oneOf'), rdflib.term.URIRef('http://www.w3.org/2002/07/owl#disjointWith'), rdflib.term.URIRef('http://www.w3.org/2000/01/rdf-schema#domain'), rdflib.term.URIRef('http://www.w3.org/2002/07/owl#distinctMembers'), rdflib.term.URIRef('http://www.w3.org/1999/02/22-rdf-syntax-ns#first'), rdflib.term.URIRef('http://www.w3.org/TR/2003/PR-owl-guide-20031209/wine#locatedIn'), rdflib.term.URIRef('http://www.w3.org/2000/01/rdf-schema#subPropertyOf'), rdflib.term.URIRef('http://www.w3.org/2002/07/owl#inverseOf'), rdflib.term.URIRef('http://www.w3.org/2002/07/owl#imports'), rdflib.term.URIRef('http://www.w3.org/2002/07/owl#onProperty'), rdflib.term.URIRef('http://www.w3.org/2000/01/rdf-schema#label'), rdflib.term.URIRef('http://www.w3.org/TR/2003/PR-owl-guide-20031209/wine#madeFromGrape'), rdflib.term.URIRef('http://www.w3.org/2002/07/owl#intersectionOf'), rdflib.term.URIRef('http://www.w3.org/2000/01/rdf-schema#range'), rdflib.term.URIRef('http://www.w3.org/2002/07/owl#someValuesFrom'), rdflib.term.URIRef('http://www.w3.org/2002/07/owl#hasValue'), rdflib.term.URIRef('http://www.w3.org/2002/07/owl#unionOf'), rdflib.term.URIRef('http://www.w3.org/1999/02/22-rdf-syntax-ns#type'), rdflib.term.URIRef('http://www.w3.org/TR/2003/PR-owl-guide-20031209/wine#hasFlavor'), rdflib.term.URIRef('http://www.w3.org/1999/02/22-rdf-syntax-ns#rest'), rdflib.term.URIRef('http://www.w3.org/2000/01/rdf-schema#subClassOf'), rdflib.term.URIRef('http://www.w3.org/2000/01/rdf-schema#comment'), rdflib.term.URIRef('http://www.w3.org/2002/07/owl#maxCardinality'), rdflib.term.URIRef('http://www.w3.org/TR/2003/PR-owl-guide-20031209/wine#yearValue'), rdflib.term.URIRef('http://www.w3.org/2002/07/owl#priorVersion'), rdflib.term.URIRef('http://www.w3.org/TR/2003/PR-owl-guide-20031209/wine#hasBody'), rdflib.term.URIRef('http://www.w3.org/2002/07/owl#differentFrom'), rdflib.term.URIRef('http://www.w3.org/2002/07/owl#minCardinality'), rdflib.term.URIRef('http://www.w3.org/TR/2003/PR-owl-guide-20031209/wine#hasColor'), rdflib.term.URIRef('http://www.w3.org/2002/07/owl#cardinality'), rdflib.term.URIRef('http://www.w3.org/TR/2003/PR-owl-guide-20031209/wine#adjacentRegion'), rdflib.term.URIRef('http://www.w3.org/TR/2003/PR-owl-guide-20031209/wine#hasVintageYear'), rdflib.term.URIRef('http://www.w3.org/TR/2003/PR-owl-guide-20031209/wine#hasMaker'), rdflib.term.URIRef('http://www.w3.org/TR/2003/PR-owl-guide-20031209/wine#hasSugar')}\n",
      "Query: \n",
      "  (L0 | L3)* | (L1 | L2)*\n",
      "  \n",
      "Perfomance:\n"
     ]
    },
    {
     "name": "stdout",
     "output_type": "stream",
     "text": [
      "116 ms ± 9.13 ms per loop (mean ± std. dev. of 7 runs, 3 loops each)\n",
      "=== === ===\n",
      "Graph pizza:\n",
      "- number of nodes: 671\n",
      "\t- number of edges: 1980\n",
      "\t- edge labels: {rdflib.term.URIRef('http://www.w3.org/2002/07/owl#disjointWith'), rdflib.term.URIRef('http://www.w3.org/2002/07/owl#allValuesFrom'), rdflib.term.URIRef('http://www.w3.org/2002/07/owl#oneOf'), rdflib.term.URIRef('http://www.w3.org/2002/07/owl#complementOf'), rdflib.term.URIRef('http://www.w3.org/2000/01/rdf-schema#domain'), rdflib.term.URIRef('http://www.w3.org/2002/07/owl#distinctMembers'), rdflib.term.URIRef('http://www.w3.org/1999/02/22-rdf-syntax-ns#first'), rdflib.term.URIRef('http://www.w3.org/2000/01/rdf-schema#subPropertyOf'), rdflib.term.URIRef('http://www.w3.org/2002/07/owl#inverseOf'), rdflib.term.URIRef('http://www.w3.org/2002/07/owl#equivalentClass'), rdflib.term.URIRef('http://www.w3.org/2002/07/owl#onProperty'), rdflib.term.URIRef('http://www.w3.org/2000/01/rdf-schema#label'), rdflib.term.URIRef('http://www.w3.org/2000/01/rdf-schema#range'), rdflib.term.URIRef('http://www.w3.org/2002/07/owl#intersectionOf'), rdflib.term.URIRef('http://www.w3.org/2002/07/owl#someValuesFrom'), rdflib.term.URIRef('http://www.w3.org/2002/07/owl#hasValue'), rdflib.term.URIRef('http://www.w3.org/2002/07/owl#unionOf'), rdflib.term.URIRef('http://www.w3.org/1999/02/22-rdf-syntax-ns#type'), rdflib.term.URIRef('http://www.w3.org/2000/01/rdf-schema#subClassOf'), rdflib.term.URIRef('http://www.w3.org/2000/01/rdf-schema#comment'), rdflib.term.URIRef('http://www.w3.org/2002/07/owl#minCardinality'), rdflib.term.URIRef('http://www.w3.org/2002/07/owl#versionInfo'), rdflib.term.URIRef('http://www.w3.org/1999/02/22-rdf-syntax-ns#rest')}\n",
      "Query: \n",
      "  (L0 | L1)* L2\n",
      "  \n",
      "Perfomance:\n",
      "109 ms ± 6.39 ms per loop (mean ± std. dev. of 7 runs, 3 loops each)\n",
      "=== === ===\n",
      "Graph pizza:\n",
      "- number of nodes: 671\n",
      "\t- number of edges: 1980\n",
      "\t- edge labels: {rdflib.term.URIRef('http://www.w3.org/2002/07/owl#disjointWith'), rdflib.term.URIRef('http://www.w3.org/2002/07/owl#allValuesFrom'), rdflib.term.URIRef('http://www.w3.org/2002/07/owl#oneOf'), rdflib.term.URIRef('http://www.w3.org/2002/07/owl#complementOf'), rdflib.term.URIRef('http://www.w3.org/2000/01/rdf-schema#domain'), rdflib.term.URIRef('http://www.w3.org/2002/07/owl#distinctMembers'), rdflib.term.URIRef('http://www.w3.org/1999/02/22-rdf-syntax-ns#first'), rdflib.term.URIRef('http://www.w3.org/2000/01/rdf-schema#subPropertyOf'), rdflib.term.URIRef('http://www.w3.org/2002/07/owl#inverseOf'), rdflib.term.URIRef('http://www.w3.org/2002/07/owl#equivalentClass'), rdflib.term.URIRef('http://www.w3.org/2002/07/owl#onProperty'), rdflib.term.URIRef('http://www.w3.org/2000/01/rdf-schema#label'), rdflib.term.URIRef('http://www.w3.org/2000/01/rdf-schema#range'), rdflib.term.URIRef('http://www.w3.org/2002/07/owl#intersectionOf'), rdflib.term.URIRef('http://www.w3.org/2002/07/owl#someValuesFrom'), rdflib.term.URIRef('http://www.w3.org/2002/07/owl#hasValue'), rdflib.term.URIRef('http://www.w3.org/2002/07/owl#unionOf'), rdflib.term.URIRef('http://www.w3.org/1999/02/22-rdf-syntax-ns#type'), rdflib.term.URIRef('http://www.w3.org/2000/01/rdf-schema#subClassOf'), rdflib.term.URIRef('http://www.w3.org/2000/01/rdf-schema#comment'), rdflib.term.URIRef('http://www.w3.org/2002/07/owl#minCardinality'), rdflib.term.URIRef('http://www.w3.org/2002/07/owl#versionInfo'), rdflib.term.URIRef('http://www.w3.org/1999/02/22-rdf-syntax-ns#rest')}\n",
      "Query: \n",
      "  L0 | L2 | L1*\n",
      "  \n",
      "Perfomance:\n",
      "124 ms ± 10.1 ms per loop (mean ± std. dev. of 7 runs, 3 loops each)\n",
      "=== === ===\n",
      "Graph pizza:\n",
      "- number of nodes: 671\n",
      "\t- number of edges: 1980\n",
      "\t- edge labels: {rdflib.term.URIRef('http://www.w3.org/2002/07/owl#disjointWith'), rdflib.term.URIRef('http://www.w3.org/2002/07/owl#allValuesFrom'), rdflib.term.URIRef('http://www.w3.org/2002/07/owl#oneOf'), rdflib.term.URIRef('http://www.w3.org/2002/07/owl#complementOf'), rdflib.term.URIRef('http://www.w3.org/2000/01/rdf-schema#domain'), rdflib.term.URIRef('http://www.w3.org/2002/07/owl#distinctMembers'), rdflib.term.URIRef('http://www.w3.org/1999/02/22-rdf-syntax-ns#first'), rdflib.term.URIRef('http://www.w3.org/2000/01/rdf-schema#subPropertyOf'), rdflib.term.URIRef('http://www.w3.org/2002/07/owl#inverseOf'), rdflib.term.URIRef('http://www.w3.org/2002/07/owl#equivalentClass'), rdflib.term.URIRef('http://www.w3.org/2002/07/owl#onProperty'), rdflib.term.URIRef('http://www.w3.org/2000/01/rdf-schema#label'), rdflib.term.URIRef('http://www.w3.org/2000/01/rdf-schema#range'), rdflib.term.URIRef('http://www.w3.org/2002/07/owl#intersectionOf'), rdflib.term.URIRef('http://www.w3.org/2002/07/owl#someValuesFrom'), rdflib.term.URIRef('http://www.w3.org/2002/07/owl#hasValue'), rdflib.term.URIRef('http://www.w3.org/2002/07/owl#unionOf'), rdflib.term.URIRef('http://www.w3.org/1999/02/22-rdf-syntax-ns#type'), rdflib.term.URIRef('http://www.w3.org/2000/01/rdf-schema#subClassOf'), rdflib.term.URIRef('http://www.w3.org/2000/01/rdf-schema#comment'), rdflib.term.URIRef('http://www.w3.org/2002/07/owl#minCardinality'), rdflib.term.URIRef('http://www.w3.org/2002/07/owl#versionInfo'), rdflib.term.URIRef('http://www.w3.org/1999/02/22-rdf-syntax-ns#rest')}\n",
      "Query: \n",
      "  L0 L1 L2 (L3 | L1)*\n",
      "  \n",
      "Perfomance:\n",
      "121 ms ± 14.1 ms per loop (mean ± std. dev. of 7 runs, 3 loops each)\n",
      "=== === ===\n",
      "Graph pizza:\n",
      "- number of nodes: 671\n",
      "\t- number of edges: 1980\n",
      "\t- edge labels: {rdflib.term.URIRef('http://www.w3.org/2002/07/owl#disjointWith'), rdflib.term.URIRef('http://www.w3.org/2002/07/owl#allValuesFrom'), rdflib.term.URIRef('http://www.w3.org/2002/07/owl#oneOf'), rdflib.term.URIRef('http://www.w3.org/2002/07/owl#complementOf'), rdflib.term.URIRef('http://www.w3.org/2000/01/rdf-schema#domain'), rdflib.term.URIRef('http://www.w3.org/2002/07/owl#distinctMembers'), rdflib.term.URIRef('http://www.w3.org/1999/02/22-rdf-syntax-ns#first'), rdflib.term.URIRef('http://www.w3.org/2000/01/rdf-schema#subPropertyOf'), rdflib.term.URIRef('http://www.w3.org/2002/07/owl#inverseOf'), rdflib.term.URIRef('http://www.w3.org/2002/07/owl#equivalentClass'), rdflib.term.URIRef('http://www.w3.org/2002/07/owl#onProperty'), rdflib.term.URIRef('http://www.w3.org/2000/01/rdf-schema#label'), rdflib.term.URIRef('http://www.w3.org/2000/01/rdf-schema#range'), rdflib.term.URIRef('http://www.w3.org/2002/07/owl#intersectionOf'), rdflib.term.URIRef('http://www.w3.org/2002/07/owl#someValuesFrom'), rdflib.term.URIRef('http://www.w3.org/2002/07/owl#hasValue'), rdflib.term.URIRef('http://www.w3.org/2002/07/owl#unionOf'), rdflib.term.URIRef('http://www.w3.org/1999/02/22-rdf-syntax-ns#type'), rdflib.term.URIRef('http://www.w3.org/2000/01/rdf-schema#subClassOf'), rdflib.term.URIRef('http://www.w3.org/2000/01/rdf-schema#comment'), rdflib.term.URIRef('http://www.w3.org/2002/07/owl#minCardinality'), rdflib.term.URIRef('http://www.w3.org/2002/07/owl#versionInfo'), rdflib.term.URIRef('http://www.w3.org/1999/02/22-rdf-syntax-ns#rest')}\n",
      "Query: \n",
      "  (L0 | L3)* | (L1 | L2)*\n",
      "  \n",
      "Perfomance:\n",
      "122 ms ± 8.23 ms per loop (mean ± std. dev. of 7 runs, 3 loops each)\n",
      "=== === ===\n",
      "Graph core:\n",
      "- number of nodes: 1323\n",
      "\t- number of edges: 2752\n",
      "\t- edge labels: {rdflib.term.URIRef('http://www.w3.org/2002/07/owl#allValuesFrom'), rdflib.term.URIRef('http://www.w3.org/2002/07/owl#disjointWith'), rdflib.term.URIRef('http://www.w3.org/2002/07/owl#oneOf'), rdflib.term.URIRef('http://www.w3.org/2000/01/rdf-schema#domain'), rdflib.term.URIRef('http://www.w3.org/2002/07/owl#distinctMembers'), rdflib.term.URIRef('http://www.w3.org/2000/01/rdf-schema#seeAlso'), rdflib.term.URIRef('http://www.w3.org/1999/02/22-rdf-syntax-ns#first'), rdflib.term.URIRef('http://www.w3.org/2000/01/rdf-schema#subPropertyOf'), rdflib.term.URIRef('http://www.w3.org/2002/07/owl#qualifiedCardinality'), rdflib.term.URIRef('http://www.w3.org/2002/07/owl#equivalentClass'), rdflib.term.URIRef('http://www.w3.org/2002/07/owl#onProperty'), rdflib.term.URIRef('http://www.w3.org/2000/01/rdf-schema#isDefinedBy'), rdflib.term.URIRef('http://www.w3.org/2002/07/owl#onClass'), rdflib.term.URIRef('http://www.w3.org/2000/01/rdf-schema#label'), rdflib.term.URIRef('http://www.w3.org/2000/01/rdf-schema#range'), rdflib.term.URIRef('http://www.w3.org/2002/07/owl#intersectionOf'), rdflib.term.URIRef('http://www.w3.org/2002/07/owl#inverseOf'), rdflib.term.URIRef('http://www.w3.org/2002/07/owl#someValuesFrom'), rdflib.term.URIRef('http://www.w3.org/2002/07/owl#unionOf'), rdflib.term.URIRef('http://www.w3.org/2002/07/owl#hasValue'), rdflib.term.URIRef('http://www.w3.org/1999/02/22-rdf-syntax-ns#type'), rdflib.term.URIRef('http://www.w3.org/2000/01/rdf-schema#subClassOf'), rdflib.term.URIRef('http://www.w3.org/2000/01/rdf-schema#comment'), rdflib.term.URIRef('http://www.w3.org/2002/07/owl#onDataRange'), rdflib.term.URIRef('http://www.w3.org/2002/07/owl#maxCardinality'), rdflib.term.URIRef('http://www.w3.org/2002/07/owl#deprecated'), rdflib.term.URIRef('http://www.w3.org/2002/07/owl#minCardinality'), rdflib.term.URIRef('http://www.w3.org/2002/07/owl#maxQualifiedCardinality'), rdflib.term.URIRef('http://www.w3.org/2002/07/owl#versionInfo'), rdflib.term.URIRef('http://www.w3.org/2002/07/owl#cardinality'), rdflib.term.URIRef('http://www.w3.org/1999/02/22-rdf-syntax-ns#rest')}\n",
      "Query: \n",
      "  (L0 | L1)* L2\n",
      "  \n",
      "Perfomance:\n"
     ]
    },
    {
     "name": "stdout",
     "output_type": "stream",
     "text": [
      "229 ms ± 19.7 ms per loop (mean ± std. dev. of 7 runs, 3 loops each)\n",
      "=== === ===\n",
      "Graph core:\n",
      "- number of nodes: 1323\n",
      "\t- number of edges: 2752\n",
      "\t- edge labels: {rdflib.term.URIRef('http://www.w3.org/2002/07/owl#allValuesFrom'), rdflib.term.URIRef('http://www.w3.org/2002/07/owl#disjointWith'), rdflib.term.URIRef('http://www.w3.org/2002/07/owl#oneOf'), rdflib.term.URIRef('http://www.w3.org/2000/01/rdf-schema#domain'), rdflib.term.URIRef('http://www.w3.org/2002/07/owl#distinctMembers'), rdflib.term.URIRef('http://www.w3.org/2000/01/rdf-schema#seeAlso'), rdflib.term.URIRef('http://www.w3.org/1999/02/22-rdf-syntax-ns#first'), rdflib.term.URIRef('http://www.w3.org/2000/01/rdf-schema#subPropertyOf'), rdflib.term.URIRef('http://www.w3.org/2002/07/owl#qualifiedCardinality'), rdflib.term.URIRef('http://www.w3.org/2002/07/owl#equivalentClass'), rdflib.term.URIRef('http://www.w3.org/2002/07/owl#onProperty'), rdflib.term.URIRef('http://www.w3.org/2000/01/rdf-schema#isDefinedBy'), rdflib.term.URIRef('http://www.w3.org/2002/07/owl#onClass'), rdflib.term.URIRef('http://www.w3.org/2000/01/rdf-schema#label'), rdflib.term.URIRef('http://www.w3.org/2000/01/rdf-schema#range'), rdflib.term.URIRef('http://www.w3.org/2002/07/owl#intersectionOf'), rdflib.term.URIRef('http://www.w3.org/2002/07/owl#inverseOf'), rdflib.term.URIRef('http://www.w3.org/2002/07/owl#someValuesFrom'), rdflib.term.URIRef('http://www.w3.org/2002/07/owl#unionOf'), rdflib.term.URIRef('http://www.w3.org/2002/07/owl#hasValue'), rdflib.term.URIRef('http://www.w3.org/1999/02/22-rdf-syntax-ns#type'), rdflib.term.URIRef('http://www.w3.org/2000/01/rdf-schema#subClassOf'), rdflib.term.URIRef('http://www.w3.org/2000/01/rdf-schema#comment'), rdflib.term.URIRef('http://www.w3.org/2002/07/owl#onDataRange'), rdflib.term.URIRef('http://www.w3.org/2002/07/owl#maxCardinality'), rdflib.term.URIRef('http://www.w3.org/2002/07/owl#deprecated'), rdflib.term.URIRef('http://www.w3.org/2002/07/owl#minCardinality'), rdflib.term.URIRef('http://www.w3.org/2002/07/owl#maxQualifiedCardinality'), rdflib.term.URIRef('http://www.w3.org/2002/07/owl#versionInfo'), rdflib.term.URIRef('http://www.w3.org/2002/07/owl#cardinality'), rdflib.term.URIRef('http://www.w3.org/1999/02/22-rdf-syntax-ns#rest')}\n",
      "Query: \n",
      "  L0 | L2 | L1*\n",
      "  \n",
      "Perfomance:\n",
      "215 ms ± 15 ms per loop (mean ± std. dev. of 7 runs, 3 loops each)\n",
      "=== === ===\n",
      "Graph core:\n",
      "- number of nodes: 1323\n",
      "\t- number of edges: 2752\n",
      "\t- edge labels: {rdflib.term.URIRef('http://www.w3.org/2002/07/owl#allValuesFrom'), rdflib.term.URIRef('http://www.w3.org/2002/07/owl#disjointWith'), rdflib.term.URIRef('http://www.w3.org/2002/07/owl#oneOf'), rdflib.term.URIRef('http://www.w3.org/2000/01/rdf-schema#domain'), rdflib.term.URIRef('http://www.w3.org/2002/07/owl#distinctMembers'), rdflib.term.URIRef('http://www.w3.org/2000/01/rdf-schema#seeAlso'), rdflib.term.URIRef('http://www.w3.org/1999/02/22-rdf-syntax-ns#first'), rdflib.term.URIRef('http://www.w3.org/2000/01/rdf-schema#subPropertyOf'), rdflib.term.URIRef('http://www.w3.org/2002/07/owl#qualifiedCardinality'), rdflib.term.URIRef('http://www.w3.org/2002/07/owl#equivalentClass'), rdflib.term.URIRef('http://www.w3.org/2002/07/owl#onProperty'), rdflib.term.URIRef('http://www.w3.org/2000/01/rdf-schema#isDefinedBy'), rdflib.term.URIRef('http://www.w3.org/2002/07/owl#onClass'), rdflib.term.URIRef('http://www.w3.org/2000/01/rdf-schema#label'), rdflib.term.URIRef('http://www.w3.org/2000/01/rdf-schema#range'), rdflib.term.URIRef('http://www.w3.org/2002/07/owl#intersectionOf'), rdflib.term.URIRef('http://www.w3.org/2002/07/owl#inverseOf'), rdflib.term.URIRef('http://www.w3.org/2002/07/owl#someValuesFrom'), rdflib.term.URIRef('http://www.w3.org/2002/07/owl#unionOf'), rdflib.term.URIRef('http://www.w3.org/2002/07/owl#hasValue'), rdflib.term.URIRef('http://www.w3.org/1999/02/22-rdf-syntax-ns#type'), rdflib.term.URIRef('http://www.w3.org/2000/01/rdf-schema#subClassOf'), rdflib.term.URIRef('http://www.w3.org/2000/01/rdf-schema#comment'), rdflib.term.URIRef('http://www.w3.org/2002/07/owl#onDataRange'), rdflib.term.URIRef('http://www.w3.org/2002/07/owl#maxCardinality'), rdflib.term.URIRef('http://www.w3.org/2002/07/owl#deprecated'), rdflib.term.URIRef('http://www.w3.org/2002/07/owl#minCardinality'), rdflib.term.URIRef('http://www.w3.org/2002/07/owl#maxQualifiedCardinality'), rdflib.term.URIRef('http://www.w3.org/2002/07/owl#versionInfo'), rdflib.term.URIRef('http://www.w3.org/2002/07/owl#cardinality'), rdflib.term.URIRef('http://www.w3.org/1999/02/22-rdf-syntax-ns#rest')}\n",
      "Query: \n",
      "  L0 L1 L2 (L3 | L1)*\n",
      "  \n",
      "Perfomance:\n",
      "234 ms ± 16.9 ms per loop (mean ± std. dev. of 7 runs, 3 loops each)\n",
      "=== === ===\n",
      "Graph core:\n",
      "- number of nodes: 1323\n",
      "\t- number of edges: 2752\n",
      "\t- edge labels: {rdflib.term.URIRef('http://www.w3.org/2002/07/owl#allValuesFrom'), rdflib.term.URIRef('http://www.w3.org/2002/07/owl#disjointWith'), rdflib.term.URIRef('http://www.w3.org/2002/07/owl#oneOf'), rdflib.term.URIRef('http://www.w3.org/2000/01/rdf-schema#domain'), rdflib.term.URIRef('http://www.w3.org/2002/07/owl#distinctMembers'), rdflib.term.URIRef('http://www.w3.org/2000/01/rdf-schema#seeAlso'), rdflib.term.URIRef('http://www.w3.org/1999/02/22-rdf-syntax-ns#first'), rdflib.term.URIRef('http://www.w3.org/2000/01/rdf-schema#subPropertyOf'), rdflib.term.URIRef('http://www.w3.org/2002/07/owl#qualifiedCardinality'), rdflib.term.URIRef('http://www.w3.org/2002/07/owl#equivalentClass'), rdflib.term.URIRef('http://www.w3.org/2002/07/owl#onProperty'), rdflib.term.URIRef('http://www.w3.org/2000/01/rdf-schema#isDefinedBy'), rdflib.term.URIRef('http://www.w3.org/2002/07/owl#onClass'), rdflib.term.URIRef('http://www.w3.org/2000/01/rdf-schema#label'), rdflib.term.URIRef('http://www.w3.org/2000/01/rdf-schema#range'), rdflib.term.URIRef('http://www.w3.org/2002/07/owl#intersectionOf'), rdflib.term.URIRef('http://www.w3.org/2002/07/owl#inverseOf'), rdflib.term.URIRef('http://www.w3.org/2002/07/owl#someValuesFrom'), rdflib.term.URIRef('http://www.w3.org/2002/07/owl#unionOf'), rdflib.term.URIRef('http://www.w3.org/2002/07/owl#hasValue'), rdflib.term.URIRef('http://www.w3.org/1999/02/22-rdf-syntax-ns#type'), rdflib.term.URIRef('http://www.w3.org/2000/01/rdf-schema#subClassOf'), rdflib.term.URIRef('http://www.w3.org/2000/01/rdf-schema#comment'), rdflib.term.URIRef('http://www.w3.org/2002/07/owl#onDataRange'), rdflib.term.URIRef('http://www.w3.org/2002/07/owl#maxCardinality'), rdflib.term.URIRef('http://www.w3.org/2002/07/owl#deprecated'), rdflib.term.URIRef('http://www.w3.org/2002/07/owl#minCardinality'), rdflib.term.URIRef('http://www.w3.org/2002/07/owl#maxQualifiedCardinality'), rdflib.term.URIRef('http://www.w3.org/2002/07/owl#versionInfo'), rdflib.term.URIRef('http://www.w3.org/2002/07/owl#cardinality'), rdflib.term.URIRef('http://www.w3.org/1999/02/22-rdf-syntax-ns#rest')}\n",
      "Query: \n",
      "  (L0 | L3)* | (L1 | L2)*\n",
      "  \n",
      "Perfomance:\n",
      "206 ms ± 6.35 ms per loop (mean ± std. dev. of 7 runs, 3 loops each)\n",
      "=== === ===\n",
      "Graph pathways:\n",
      "- number of nodes: 6238\n",
      "\t- number of edges: 12363\n",
      "\t- edge labels: {rdflib.term.URIRef('http://www.w3.org/1999/02/22-rdf-syntax-ns#type'), rdflib.term.URIRef('http://www.w3.org/2002/07/owl#imports'), rdflib.term.URIRef('http://www.w3.org/2004/02/skos/core#narrower'), rdflib.term.URIRef('http://www.w3.org/2000/01/rdf-schema#subClassOf'), rdflib.term.URIRef('http://www.w3.org/2000/01/rdf-schema#label')}\n",
      "Query: \n",
      "  (L0 | L1)* L2\n",
      "  \n",
      "Perfomance:\n",
      "2.19 s ± 160 ms per loop (mean ± std. dev. of 7 runs, 3 loops each)\n",
      "=== === ===\n",
      "Graph pathways:\n",
      "- number of nodes: 6238\n",
      "\t- number of edges: 12363\n",
      "\t- edge labels: {rdflib.term.URIRef('http://www.w3.org/1999/02/22-rdf-syntax-ns#type'), rdflib.term.URIRef('http://www.w3.org/2002/07/owl#imports'), rdflib.term.URIRef('http://www.w3.org/2004/02/skos/core#narrower'), rdflib.term.URIRef('http://www.w3.org/2000/01/rdf-schema#subClassOf'), rdflib.term.URIRef('http://www.w3.org/2000/01/rdf-schema#label')}\n",
      "Query: \n",
      "  L0 | L2 | L1*\n",
      "  \n",
      "Perfomance:\n",
      "2.15 s ± 84.4 ms per loop (mean ± std. dev. of 7 runs, 3 loops each)\n",
      "=== === ===\n",
      "Graph pathways:\n",
      "- number of nodes: 6238\n",
      "\t- number of edges: 12363\n",
      "\t- edge labels: {rdflib.term.URIRef('http://www.w3.org/1999/02/22-rdf-syntax-ns#type'), rdflib.term.URIRef('http://www.w3.org/2002/07/owl#imports'), rdflib.term.URIRef('http://www.w3.org/2004/02/skos/core#narrower'), rdflib.term.URIRef('http://www.w3.org/2000/01/rdf-schema#subClassOf'), rdflib.term.URIRef('http://www.w3.org/2000/01/rdf-schema#label')}\n",
      "Query: \n",
      "  L0 L1 L2 (L3 | L1)*\n",
      "  \n",
      "Perfomance:\n"
     ]
    },
    {
     "name": "stdout",
     "output_type": "stream",
     "text": [
      "2.32 s ± 174 ms per loop (mean ± std. dev. of 7 runs, 3 loops each)\n",
      "=== === ===\n",
      "Graph pathways:\n",
      "- number of nodes: 6238\n",
      "\t- number of edges: 12363\n",
      "\t- edge labels: {rdflib.term.URIRef('http://www.w3.org/1999/02/22-rdf-syntax-ns#type'), rdflib.term.URIRef('http://www.w3.org/2002/07/owl#imports'), rdflib.term.URIRef('http://www.w3.org/2004/02/skos/core#narrower'), rdflib.term.URIRef('http://www.w3.org/2000/01/rdf-schema#subClassOf'), rdflib.term.URIRef('http://www.w3.org/2000/01/rdf-schema#label')}\n",
      "Query: \n",
      "  (L0 | L3)* | (L1 | L2)*\n",
      "  \n",
      "Perfomance:\n",
      "2.1 s ± 30.3 ms per loop (mean ± std. dev. of 7 runs, 3 loops each)\n",
      "=== === ===\n",
      "Graph enzyme:\n",
      "- number of nodes: 48815\n",
      "\t- number of edges: 86543\n",
      "\t- edge labels: {rdflib.term.URIRef('http://www.w3.org/1999/02/22-rdf-syntax-ns#type'), rdflib.term.URIRef('http://www.w3.org/2004/02/skos/core#prefLabel'), rdflib.term.URIRef('http://purl.uniprot.org/core/activity'), rdflib.term.URIRef('http://www.w3.org/2000/01/rdf-schema#comment'), rdflib.term.URIRef('http://www.w3.org/2000/01/rdf-schema#subClassOf'), rdflib.term.URIRef('http://www.w3.org/2004/02/skos/core#broaderTransitive'), rdflib.term.URIRef('http://purl.uniprot.org/core/replaces'), rdflib.term.URIRef('http://www.w3.org/2004/02/skos/core#altLabel'), rdflib.term.URIRef('http://www.w3.org/2004/02/skos/core#narrowerTransitive'), rdflib.term.URIRef('http://www.w3.org/2002/07/owl#imports'), rdflib.term.URIRef('http://www.w3.org/2000/01/rdf-schema#label'), rdflib.term.URIRef('http://purl.uniprot.org/core/replacedBy'), rdflib.term.URIRef('http://purl.uniprot.org/core/cofactorLabel'), rdflib.term.URIRef('http://purl.uniprot.org/core/obsolete')}\n",
      "Query: \n",
      "  (L0 | L1)* L2\n",
      "  \n",
      "Perfomance:\n"
     ]
    },
    {
     "ename": "KeyboardInterrupt",
     "evalue": "",
     "output_type": "error",
     "traceback": [
      "\u001B[0;31m---------------------------------------------------------------------------\u001B[0m",
      "\u001B[0;31mKeyboardInterrupt\u001B[0m                         Traceback (most recent call last)",
      "\u001B[0;32m/tmp/ipykernel_12612/1639960892.py\u001B[0m in \u001B[0;36m<module>\u001B[0;34m\u001B[0m\n\u001B[1;32m     19\u001B[0m     \u001B[0mtime\u001B[0m \u001B[0;34m=\u001B[0m \u001B[0;32mNone\u001B[0m\u001B[0;34m\u001B[0m\u001B[0;34m\u001B[0m\u001B[0m\n\u001B[1;32m     20\u001B[0m     \u001B[0;32mif\u001B[0m \u001B[0mgraph\u001B[0m\u001B[0;34m.\u001B[0m\u001B[0mdescription\u001B[0m\u001B[0;34m.\u001B[0m\u001B[0mname\u001B[0m \u001B[0;32mnot\u001B[0m \u001B[0;32min\u001B[0m \u001B[0;34m[\u001B[0m\u001B[0;34m\"go_hierarchy\"\u001B[0m\u001B[0;34m,\u001B[0m \u001B[0;34m\"eclass_514en\"\u001B[0m\u001B[0;34m,\u001B[0m \u001B[0;34m\"geospecies\"\u001B[0m\u001B[0;34m]\u001B[0m\u001B[0;34m:\u001B[0m\u001B[0;34m\u001B[0m\u001B[0;34m\u001B[0m\u001B[0m\n\u001B[0;32m---> 21\u001B[0;31m       \u001B[0mtime\u001B[0m \u001B[0;34m=\u001B[0m \u001B[0mget_ipython\u001B[0m\u001B[0;34m(\u001B[0m\u001B[0;34m)\u001B[0m\u001B[0;34m.\u001B[0m\u001B[0mrun_line_magic\u001B[0m\u001B[0;34m(\u001B[0m\u001B[0;34m'timeit'\u001B[0m\u001B[0;34m,\u001B[0m \u001B[0;34m'-n 3 -o regular_path_querying(graph.graph, query, results, mode=\"cpu\")'\u001B[0m\u001B[0;34m)\u001B[0m\u001B[0;34m\u001B[0m\u001B[0;34m\u001B[0m\u001B[0m\n\u001B[0m\u001B[1;32m     22\u001B[0m     \u001B[0;32melse\u001B[0m\u001B[0;34m:\u001B[0m\u001B[0;34m\u001B[0m\u001B[0;34m\u001B[0m\u001B[0m\n\u001B[1;32m     23\u001B[0m       \u001B[0mtime\u001B[0m \u001B[0;34m=\u001B[0m \u001B[0mget_ipython\u001B[0m\u001B[0;34m(\u001B[0m\u001B[0;34m)\u001B[0m\u001B[0;34m.\u001B[0m\u001B[0mrun_line_magic\u001B[0m\u001B[0;34m(\u001B[0m\u001B[0;34m'timeit'\u001B[0m\u001B[0;34m,\u001B[0m \u001B[0;34m'-n 1 -o regular_path_querying(graph.graph, query, results, mode=\"cpu\")'\u001B[0m\u001B[0;34m)\u001B[0m\u001B[0;34m\u001B[0m\u001B[0;34m\u001B[0m\u001B[0m\n",
      "\u001B[0;32m~/Education/Formal_languages/formal-lang-course/venv/lib/python3.9/site-packages/IPython/core/interactiveshell.py\u001B[0m in \u001B[0;36mrun_line_magic\u001B[0;34m(self, magic_name, line, _stack_depth)\u001B[0m\n\u001B[1;32m   2349\u001B[0m                 \u001B[0mkwargs\u001B[0m\u001B[0;34m[\u001B[0m\u001B[0;34m'local_ns'\u001B[0m\u001B[0;34m]\u001B[0m \u001B[0;34m=\u001B[0m \u001B[0mself\u001B[0m\u001B[0;34m.\u001B[0m\u001B[0mget_local_scope\u001B[0m\u001B[0;34m(\u001B[0m\u001B[0mstack_depth\u001B[0m\u001B[0;34m)\u001B[0m\u001B[0;34m\u001B[0m\u001B[0;34m\u001B[0m\u001B[0m\n\u001B[1;32m   2350\u001B[0m             \u001B[0;32mwith\u001B[0m \u001B[0mself\u001B[0m\u001B[0;34m.\u001B[0m\u001B[0mbuiltin_trap\u001B[0m\u001B[0;34m:\u001B[0m\u001B[0;34m\u001B[0m\u001B[0;34m\u001B[0m\u001B[0m\n\u001B[0;32m-> 2351\u001B[0;31m                 \u001B[0mresult\u001B[0m \u001B[0;34m=\u001B[0m \u001B[0mfn\u001B[0m\u001B[0;34m(\u001B[0m\u001B[0;34m*\u001B[0m\u001B[0margs\u001B[0m\u001B[0;34m,\u001B[0m \u001B[0;34m**\u001B[0m\u001B[0mkwargs\u001B[0m\u001B[0;34m)\u001B[0m\u001B[0;34m\u001B[0m\u001B[0;34m\u001B[0m\u001B[0m\n\u001B[0m\u001B[1;32m   2352\u001B[0m             \u001B[0;32mreturn\u001B[0m \u001B[0mresult\u001B[0m\u001B[0;34m\u001B[0m\u001B[0;34m\u001B[0m\u001B[0m\n\u001B[1;32m   2353\u001B[0m \u001B[0;34m\u001B[0m\u001B[0m\n",
      "\u001B[0;32m~/Education/Formal_languages/formal-lang-course/venv/lib/python3.9/site-packages/decorator.py\u001B[0m in \u001B[0;36mfun\u001B[0;34m(*args, **kw)\u001B[0m\n\u001B[1;32m    230\u001B[0m             \u001B[0;32mif\u001B[0m \u001B[0;32mnot\u001B[0m \u001B[0mkwsyntax\u001B[0m\u001B[0;34m:\u001B[0m\u001B[0;34m\u001B[0m\u001B[0;34m\u001B[0m\u001B[0m\n\u001B[1;32m    231\u001B[0m                 \u001B[0margs\u001B[0m\u001B[0;34m,\u001B[0m \u001B[0mkw\u001B[0m \u001B[0;34m=\u001B[0m \u001B[0mfix\u001B[0m\u001B[0;34m(\u001B[0m\u001B[0margs\u001B[0m\u001B[0;34m,\u001B[0m \u001B[0mkw\u001B[0m\u001B[0;34m,\u001B[0m \u001B[0msig\u001B[0m\u001B[0;34m)\u001B[0m\u001B[0;34m\u001B[0m\u001B[0;34m\u001B[0m\u001B[0m\n\u001B[0;32m--> 232\u001B[0;31m             \u001B[0;32mreturn\u001B[0m \u001B[0mcaller\u001B[0m\u001B[0;34m(\u001B[0m\u001B[0mfunc\u001B[0m\u001B[0;34m,\u001B[0m \u001B[0;34m*\u001B[0m\u001B[0;34m(\u001B[0m\u001B[0mextras\u001B[0m \u001B[0;34m+\u001B[0m \u001B[0margs\u001B[0m\u001B[0;34m)\u001B[0m\u001B[0;34m,\u001B[0m \u001B[0;34m**\u001B[0m\u001B[0mkw\u001B[0m\u001B[0;34m)\u001B[0m\u001B[0;34m\u001B[0m\u001B[0;34m\u001B[0m\u001B[0m\n\u001B[0m\u001B[1;32m    233\u001B[0m     \u001B[0mfun\u001B[0m\u001B[0;34m.\u001B[0m\u001B[0m__name__\u001B[0m \u001B[0;34m=\u001B[0m \u001B[0mfunc\u001B[0m\u001B[0;34m.\u001B[0m\u001B[0m__name__\u001B[0m\u001B[0;34m\u001B[0m\u001B[0;34m\u001B[0m\u001B[0m\n\u001B[1;32m    234\u001B[0m     \u001B[0mfun\u001B[0m\u001B[0;34m.\u001B[0m\u001B[0m__doc__\u001B[0m \u001B[0;34m=\u001B[0m \u001B[0mfunc\u001B[0m\u001B[0;34m.\u001B[0m\u001B[0m__doc__\u001B[0m\u001B[0;34m\u001B[0m\u001B[0;34m\u001B[0m\u001B[0m\n",
      "\u001B[0;32m~/Education/Formal_languages/formal-lang-course/venv/lib/python3.9/site-packages/IPython/core/magic.py\u001B[0m in \u001B[0;36m<lambda>\u001B[0;34m(f, *a, **k)\u001B[0m\n\u001B[1;32m    185\u001B[0m     \u001B[0;31m# but it's overkill for just that one bit of state.\u001B[0m\u001B[0;34m\u001B[0m\u001B[0;34m\u001B[0m\u001B[0m\n\u001B[1;32m    186\u001B[0m     \u001B[0;32mdef\u001B[0m \u001B[0mmagic_deco\u001B[0m\u001B[0;34m(\u001B[0m\u001B[0marg\u001B[0m\u001B[0;34m)\u001B[0m\u001B[0;34m:\u001B[0m\u001B[0;34m\u001B[0m\u001B[0;34m\u001B[0m\u001B[0m\n\u001B[0;32m--> 187\u001B[0;31m         \u001B[0mcall\u001B[0m \u001B[0;34m=\u001B[0m \u001B[0;32mlambda\u001B[0m \u001B[0mf\u001B[0m\u001B[0;34m,\u001B[0m \u001B[0;34m*\u001B[0m\u001B[0ma\u001B[0m\u001B[0;34m,\u001B[0m \u001B[0;34m**\u001B[0m\u001B[0mk\u001B[0m\u001B[0;34m:\u001B[0m \u001B[0mf\u001B[0m\u001B[0;34m(\u001B[0m\u001B[0;34m*\u001B[0m\u001B[0ma\u001B[0m\u001B[0;34m,\u001B[0m \u001B[0;34m**\u001B[0m\u001B[0mk\u001B[0m\u001B[0;34m)\u001B[0m\u001B[0;34m\u001B[0m\u001B[0;34m\u001B[0m\u001B[0m\n\u001B[0m\u001B[1;32m    188\u001B[0m \u001B[0;34m\u001B[0m\u001B[0m\n\u001B[1;32m    189\u001B[0m         \u001B[0;32mif\u001B[0m \u001B[0mcallable\u001B[0m\u001B[0;34m(\u001B[0m\u001B[0marg\u001B[0m\u001B[0;34m)\u001B[0m\u001B[0;34m:\u001B[0m\u001B[0;34m\u001B[0m\u001B[0;34m\u001B[0m\u001B[0m\n",
      "\u001B[0;32m~/Education/Formal_languages/formal-lang-course/venv/lib/python3.9/site-packages/IPython/core/magics/execution.py\u001B[0m in \u001B[0;36mtimeit\u001B[0;34m(self, line, cell, local_ns)\u001B[0m\n\u001B[1;32m   1171\u001B[0m                     \u001B[0;32mbreak\u001B[0m\u001B[0;34m\u001B[0m\u001B[0;34m\u001B[0m\u001B[0m\n\u001B[1;32m   1172\u001B[0m \u001B[0;34m\u001B[0m\u001B[0m\n\u001B[0;32m-> 1173\u001B[0;31m         \u001B[0mall_runs\u001B[0m \u001B[0;34m=\u001B[0m \u001B[0mtimer\u001B[0m\u001B[0;34m.\u001B[0m\u001B[0mrepeat\u001B[0m\u001B[0;34m(\u001B[0m\u001B[0mrepeat\u001B[0m\u001B[0;34m,\u001B[0m \u001B[0mnumber\u001B[0m\u001B[0;34m)\u001B[0m\u001B[0;34m\u001B[0m\u001B[0;34m\u001B[0m\u001B[0m\n\u001B[0m\u001B[1;32m   1174\u001B[0m         \u001B[0mbest\u001B[0m \u001B[0;34m=\u001B[0m \u001B[0mmin\u001B[0m\u001B[0;34m(\u001B[0m\u001B[0mall_runs\u001B[0m\u001B[0;34m)\u001B[0m \u001B[0;34m/\u001B[0m \u001B[0mnumber\u001B[0m\u001B[0;34m\u001B[0m\u001B[0;34m\u001B[0m\u001B[0m\n\u001B[1;32m   1175\u001B[0m         \u001B[0mworst\u001B[0m \u001B[0;34m=\u001B[0m \u001B[0mmax\u001B[0m\u001B[0;34m(\u001B[0m\u001B[0mall_runs\u001B[0m\u001B[0;34m)\u001B[0m \u001B[0;34m/\u001B[0m \u001B[0mnumber\u001B[0m\u001B[0;34m\u001B[0m\u001B[0;34m\u001B[0m\u001B[0m\n",
      "\u001B[0;32m/usr/lib/python3.9/timeit.py\u001B[0m in \u001B[0;36mrepeat\u001B[0;34m(self, repeat, number)\u001B[0m\n\u001B[1;32m    203\u001B[0m         \u001B[0mr\u001B[0m \u001B[0;34m=\u001B[0m \u001B[0;34m[\u001B[0m\u001B[0;34m]\u001B[0m\u001B[0;34m\u001B[0m\u001B[0;34m\u001B[0m\u001B[0m\n\u001B[1;32m    204\u001B[0m         \u001B[0;32mfor\u001B[0m \u001B[0mi\u001B[0m \u001B[0;32min\u001B[0m \u001B[0mrange\u001B[0m\u001B[0;34m(\u001B[0m\u001B[0mrepeat\u001B[0m\u001B[0;34m)\u001B[0m\u001B[0;34m:\u001B[0m\u001B[0;34m\u001B[0m\u001B[0;34m\u001B[0m\u001B[0m\n\u001B[0;32m--> 205\u001B[0;31m             \u001B[0mt\u001B[0m \u001B[0;34m=\u001B[0m \u001B[0mself\u001B[0m\u001B[0;34m.\u001B[0m\u001B[0mtimeit\u001B[0m\u001B[0;34m(\u001B[0m\u001B[0mnumber\u001B[0m\u001B[0;34m)\u001B[0m\u001B[0;34m\u001B[0m\u001B[0;34m\u001B[0m\u001B[0m\n\u001B[0m\u001B[1;32m    206\u001B[0m             \u001B[0mr\u001B[0m\u001B[0;34m.\u001B[0m\u001B[0mappend\u001B[0m\u001B[0;34m(\u001B[0m\u001B[0mt\u001B[0m\u001B[0;34m)\u001B[0m\u001B[0;34m\u001B[0m\u001B[0;34m\u001B[0m\u001B[0m\n\u001B[1;32m    207\u001B[0m         \u001B[0;32mreturn\u001B[0m \u001B[0mr\u001B[0m\u001B[0;34m\u001B[0m\u001B[0;34m\u001B[0m\u001B[0m\n",
      "\u001B[0;32m~/Education/Formal_languages/formal-lang-course/venv/lib/python3.9/site-packages/IPython/core/magics/execution.py\u001B[0m in \u001B[0;36mtimeit\u001B[0;34m(self, number)\u001B[0m\n\u001B[1;32m    167\u001B[0m         \u001B[0mgc\u001B[0m\u001B[0;34m.\u001B[0m\u001B[0mdisable\u001B[0m\u001B[0;34m(\u001B[0m\u001B[0;34m)\u001B[0m\u001B[0;34m\u001B[0m\u001B[0;34m\u001B[0m\u001B[0m\n\u001B[1;32m    168\u001B[0m         \u001B[0;32mtry\u001B[0m\u001B[0;34m:\u001B[0m\u001B[0;34m\u001B[0m\u001B[0;34m\u001B[0m\u001B[0m\n\u001B[0;32m--> 169\u001B[0;31m             \u001B[0mtiming\u001B[0m \u001B[0;34m=\u001B[0m \u001B[0mself\u001B[0m\u001B[0;34m.\u001B[0m\u001B[0minner\u001B[0m\u001B[0;34m(\u001B[0m\u001B[0mit\u001B[0m\u001B[0;34m,\u001B[0m \u001B[0mself\u001B[0m\u001B[0;34m.\u001B[0m\u001B[0mtimer\u001B[0m\u001B[0;34m)\u001B[0m\u001B[0;34m\u001B[0m\u001B[0;34m\u001B[0m\u001B[0m\n\u001B[0m\u001B[1;32m    170\u001B[0m         \u001B[0;32mfinally\u001B[0m\u001B[0;34m:\u001B[0m\u001B[0;34m\u001B[0m\u001B[0;34m\u001B[0m\u001B[0m\n\u001B[1;32m    171\u001B[0m             \u001B[0;32mif\u001B[0m \u001B[0mgcold\u001B[0m\u001B[0;34m:\u001B[0m\u001B[0;34m\u001B[0m\u001B[0;34m\u001B[0m\u001B[0m\n",
      "\u001B[0;32m<magic-timeit>\u001B[0m in \u001B[0;36minner\u001B[0;34m(_it, _timer)\u001B[0m\n",
      "\u001B[0;32m/tmp/ipykernel_12612/4058190959.py\u001B[0m in \u001B[0;36mregular_path_querying\u001B[0;34m(graph, query_regex, result, start_node_nums, final_node_nums, mode)\u001B[0m\n\u001B[1;32m    106\u001B[0m     \"\"\"\n\u001B[1;32m    107\u001B[0m \u001B[0;34m\u001B[0m\u001B[0m\n\u001B[0;32m--> 108\u001B[0;31m     graph = BooleanAdjacencies(\n\u001B[0m\u001B[1;32m    109\u001B[0m         \u001B[0mget_nfa_from_graph\u001B[0m\u001B[0;34m(\u001B[0m\u001B[0mgraph\u001B[0m\u001B[0;34m,\u001B[0m \u001B[0mstart_node_nums\u001B[0m\u001B[0;34m,\u001B[0m \u001B[0mfinal_node_nums\u001B[0m\u001B[0;34m)\u001B[0m\u001B[0;34m,\u001B[0m \u001B[0mmode\u001B[0m\u001B[0;34m\u001B[0m\u001B[0;34m\u001B[0m\u001B[0m\n\u001B[1;32m    110\u001B[0m     )\n",
      "\u001B[0;32m/tmp/ipykernel_12612/753334703.py\u001B[0m in \u001B[0;36m__init__\u001B[0;34m(self, nfa, mode)\u001B[0m\n\u001B[1;32m     70\u001B[0m             \u001B[0mself\u001B[0m\u001B[0;34m.\u001B[0m\u001B[0mfinal_states\u001B[0m \u001B[0;34m=\u001B[0m \u001B[0mnfa\u001B[0m\u001B[0;34m.\u001B[0m\u001B[0mfinal_states\u001B[0m\u001B[0;34m\u001B[0m\u001B[0;34m\u001B[0m\u001B[0m\n\u001B[1;32m     71\u001B[0m \u001B[0;34m\u001B[0m\u001B[0m\n\u001B[0;32m---> 72\u001B[0;31m             \u001B[0mtransition_func\u001B[0m \u001B[0;34m=\u001B[0m \u001B[0mnfa\u001B[0m\u001B[0;34m.\u001B[0m\u001B[0mto_dict\u001B[0m\u001B[0;34m(\u001B[0m\u001B[0;34m)\u001B[0m\u001B[0;34m\u001B[0m\u001B[0;34m\u001B[0m\u001B[0m\n\u001B[0m\u001B[1;32m     73\u001B[0m             \u001B[0mself\u001B[0m\u001B[0;34m.\u001B[0m\u001B[0mboolean_adjacencies\u001B[0m \u001B[0;34m=\u001B[0m \u001B[0mself\u001B[0m\u001B[0;34m.\u001B[0m\u001B[0m_get_boolean_adjacencies\u001B[0m\u001B[0;34m(\u001B[0m\u001B[0mtransition_func\u001B[0m\u001B[0;34m)\u001B[0m\u001B[0;34m\u001B[0m\u001B[0;34m\u001B[0m\u001B[0m\n\u001B[1;32m     74\u001B[0m \u001B[0;34m\u001B[0m\u001B[0m\n",
      "\u001B[0;32m~/Education/Formal_languages/formal-lang-course/venv/lib/python3.9/site-packages/pyformlang/finite_automaton/finite_automaton.py\u001B[0m in \u001B[0;36mto_dict\u001B[0;34m(self)\u001B[0m\n\u001B[1;32m    639\u001B[0m \u001B[0;34m\u001B[0m\u001B[0m\n\u001B[1;32m    640\u001B[0m         \"\"\"\n\u001B[0;32m--> 641\u001B[0;31m         \u001B[0;32mreturn\u001B[0m \u001B[0mself\u001B[0m\u001B[0;34m.\u001B[0m\u001B[0m_transition_function\u001B[0m\u001B[0;34m.\u001B[0m\u001B[0mto_dict\u001B[0m\u001B[0;34m(\u001B[0m\u001B[0;34m)\u001B[0m\u001B[0;34m\u001B[0m\u001B[0;34m\u001B[0m\u001B[0m\n\u001B[0m\u001B[1;32m    642\u001B[0m \u001B[0;34m\u001B[0m\u001B[0m\n\u001B[1;32m    643\u001B[0m \u001B[0;34m\u001B[0m\u001B[0m\n",
      "\u001B[0;32m~/Education/Formal_languages/formal-lang-course/venv/lib/python3.9/site-packages/pyformlang/finite_automaton/nondeterministic_transition_function.py\u001B[0m in \u001B[0;36mto_dict\u001B[0;34m(self)\u001B[0m\n\u001B[1;32m    201\u001B[0m             \u001B[0mThe\u001B[0m \u001B[0mtransitions\u001B[0m \u001B[0;32mas\u001B[0m \u001B[0ma\u001B[0m \u001B[0mdictionary\u001B[0m\u001B[0;34m.\u001B[0m\u001B[0;34m\u001B[0m\u001B[0;34m\u001B[0m\u001B[0m\n\u001B[1;32m    202\u001B[0m         \"\"\"\n\u001B[0;32m--> 203\u001B[0;31m         \u001B[0;32mreturn\u001B[0m \u001B[0mcopy\u001B[0m\u001B[0;34m.\u001B[0m\u001B[0mdeepcopy\u001B[0m\u001B[0;34m(\u001B[0m\u001B[0mself\u001B[0m\u001B[0;34m.\u001B[0m\u001B[0m_transitions\u001B[0m\u001B[0;34m)\u001B[0m\u001B[0;34m\u001B[0m\u001B[0;34m\u001B[0m\u001B[0m\n\u001B[0m",
      "\u001B[0;32m/usr/lib/python3.9/copy.py\u001B[0m in \u001B[0;36mdeepcopy\u001B[0;34m(x, memo, _nil)\u001B[0m\n\u001B[1;32m    144\u001B[0m     \u001B[0mcopier\u001B[0m \u001B[0;34m=\u001B[0m \u001B[0m_deepcopy_dispatch\u001B[0m\u001B[0;34m.\u001B[0m\u001B[0mget\u001B[0m\u001B[0;34m(\u001B[0m\u001B[0mcls\u001B[0m\u001B[0;34m)\u001B[0m\u001B[0;34m\u001B[0m\u001B[0;34m\u001B[0m\u001B[0m\n\u001B[1;32m    145\u001B[0m     \u001B[0;32mif\u001B[0m \u001B[0mcopier\u001B[0m \u001B[0;32mis\u001B[0m \u001B[0;32mnot\u001B[0m \u001B[0;32mNone\u001B[0m\u001B[0;34m:\u001B[0m\u001B[0;34m\u001B[0m\u001B[0;34m\u001B[0m\u001B[0m\n\u001B[0;32m--> 146\u001B[0;31m         \u001B[0my\u001B[0m \u001B[0;34m=\u001B[0m \u001B[0mcopier\u001B[0m\u001B[0;34m(\u001B[0m\u001B[0mx\u001B[0m\u001B[0;34m,\u001B[0m \u001B[0mmemo\u001B[0m\u001B[0;34m)\u001B[0m\u001B[0;34m\u001B[0m\u001B[0;34m\u001B[0m\u001B[0m\n\u001B[0m\u001B[1;32m    147\u001B[0m     \u001B[0;32melse\u001B[0m\u001B[0;34m:\u001B[0m\u001B[0;34m\u001B[0m\u001B[0;34m\u001B[0m\u001B[0m\n\u001B[1;32m    148\u001B[0m         \u001B[0;32mif\u001B[0m \u001B[0missubclass\u001B[0m\u001B[0;34m(\u001B[0m\u001B[0mcls\u001B[0m\u001B[0;34m,\u001B[0m \u001B[0mtype\u001B[0m\u001B[0;34m)\u001B[0m\u001B[0;34m:\u001B[0m\u001B[0;34m\u001B[0m\u001B[0;34m\u001B[0m\u001B[0m\n",
      "\u001B[0;32m/usr/lib/python3.9/copy.py\u001B[0m in \u001B[0;36m_deepcopy_dict\u001B[0;34m(x, memo, deepcopy)\u001B[0m\n\u001B[1;32m    228\u001B[0m     \u001B[0mmemo\u001B[0m\u001B[0;34m[\u001B[0m\u001B[0mid\u001B[0m\u001B[0;34m(\u001B[0m\u001B[0mx\u001B[0m\u001B[0;34m)\u001B[0m\u001B[0;34m]\u001B[0m \u001B[0;34m=\u001B[0m \u001B[0my\u001B[0m\u001B[0;34m\u001B[0m\u001B[0;34m\u001B[0m\u001B[0m\n\u001B[1;32m    229\u001B[0m     \u001B[0;32mfor\u001B[0m \u001B[0mkey\u001B[0m\u001B[0;34m,\u001B[0m \u001B[0mvalue\u001B[0m \u001B[0;32min\u001B[0m \u001B[0mx\u001B[0m\u001B[0;34m.\u001B[0m\u001B[0mitems\u001B[0m\u001B[0;34m(\u001B[0m\u001B[0;34m)\u001B[0m\u001B[0;34m:\u001B[0m\u001B[0;34m\u001B[0m\u001B[0;34m\u001B[0m\u001B[0m\n\u001B[0;32m--> 230\u001B[0;31m         \u001B[0my\u001B[0m\u001B[0;34m[\u001B[0m\u001B[0mdeepcopy\u001B[0m\u001B[0;34m(\u001B[0m\u001B[0mkey\u001B[0m\u001B[0;34m,\u001B[0m \u001B[0mmemo\u001B[0m\u001B[0;34m)\u001B[0m\u001B[0;34m]\u001B[0m \u001B[0;34m=\u001B[0m \u001B[0mdeepcopy\u001B[0m\u001B[0;34m(\u001B[0m\u001B[0mvalue\u001B[0m\u001B[0;34m,\u001B[0m \u001B[0mmemo\u001B[0m\u001B[0;34m)\u001B[0m\u001B[0;34m\u001B[0m\u001B[0;34m\u001B[0m\u001B[0m\n\u001B[0m\u001B[1;32m    231\u001B[0m     \u001B[0;32mreturn\u001B[0m \u001B[0my\u001B[0m\u001B[0;34m\u001B[0m\u001B[0;34m\u001B[0m\u001B[0m\n\u001B[1;32m    232\u001B[0m \u001B[0md\u001B[0m\u001B[0;34m[\u001B[0m\u001B[0mdict\u001B[0m\u001B[0;34m]\u001B[0m \u001B[0;34m=\u001B[0m \u001B[0m_deepcopy_dict\u001B[0m\u001B[0;34m\u001B[0m\u001B[0;34m\u001B[0m\u001B[0m\n",
      "\u001B[0;32m/usr/lib/python3.9/copy.py\u001B[0m in \u001B[0;36mdeepcopy\u001B[0;34m(x, memo, _nil)\u001B[0m\n\u001B[1;32m    144\u001B[0m     \u001B[0mcopier\u001B[0m \u001B[0;34m=\u001B[0m \u001B[0m_deepcopy_dispatch\u001B[0m\u001B[0;34m.\u001B[0m\u001B[0mget\u001B[0m\u001B[0;34m(\u001B[0m\u001B[0mcls\u001B[0m\u001B[0;34m)\u001B[0m\u001B[0;34m\u001B[0m\u001B[0;34m\u001B[0m\u001B[0m\n\u001B[1;32m    145\u001B[0m     \u001B[0;32mif\u001B[0m \u001B[0mcopier\u001B[0m \u001B[0;32mis\u001B[0m \u001B[0;32mnot\u001B[0m \u001B[0;32mNone\u001B[0m\u001B[0;34m:\u001B[0m\u001B[0;34m\u001B[0m\u001B[0;34m\u001B[0m\u001B[0m\n\u001B[0;32m--> 146\u001B[0;31m         \u001B[0my\u001B[0m \u001B[0;34m=\u001B[0m \u001B[0mcopier\u001B[0m\u001B[0;34m(\u001B[0m\u001B[0mx\u001B[0m\u001B[0;34m,\u001B[0m \u001B[0mmemo\u001B[0m\u001B[0;34m)\u001B[0m\u001B[0;34m\u001B[0m\u001B[0;34m\u001B[0m\u001B[0m\n\u001B[0m\u001B[1;32m    147\u001B[0m     \u001B[0;32melse\u001B[0m\u001B[0;34m:\u001B[0m\u001B[0;34m\u001B[0m\u001B[0;34m\u001B[0m\u001B[0m\n\u001B[1;32m    148\u001B[0m         \u001B[0;32mif\u001B[0m \u001B[0missubclass\u001B[0m\u001B[0;34m(\u001B[0m\u001B[0mcls\u001B[0m\u001B[0;34m,\u001B[0m \u001B[0mtype\u001B[0m\u001B[0;34m)\u001B[0m\u001B[0;34m:\u001B[0m\u001B[0;34m\u001B[0m\u001B[0;34m\u001B[0m\u001B[0m\n",
      "\u001B[0;32m/usr/lib/python3.9/copy.py\u001B[0m in \u001B[0;36m_deepcopy_dict\u001B[0;34m(x, memo, deepcopy)\u001B[0m\n\u001B[1;32m    228\u001B[0m     \u001B[0mmemo\u001B[0m\u001B[0;34m[\u001B[0m\u001B[0mid\u001B[0m\u001B[0;34m(\u001B[0m\u001B[0mx\u001B[0m\u001B[0;34m)\u001B[0m\u001B[0;34m]\u001B[0m \u001B[0;34m=\u001B[0m \u001B[0my\u001B[0m\u001B[0;34m\u001B[0m\u001B[0;34m\u001B[0m\u001B[0m\n\u001B[1;32m    229\u001B[0m     \u001B[0;32mfor\u001B[0m \u001B[0mkey\u001B[0m\u001B[0;34m,\u001B[0m \u001B[0mvalue\u001B[0m \u001B[0;32min\u001B[0m \u001B[0mx\u001B[0m\u001B[0;34m.\u001B[0m\u001B[0mitems\u001B[0m\u001B[0;34m(\u001B[0m\u001B[0;34m)\u001B[0m\u001B[0;34m:\u001B[0m\u001B[0;34m\u001B[0m\u001B[0;34m\u001B[0m\u001B[0m\n\u001B[0;32m--> 230\u001B[0;31m         \u001B[0my\u001B[0m\u001B[0;34m[\u001B[0m\u001B[0mdeepcopy\u001B[0m\u001B[0;34m(\u001B[0m\u001B[0mkey\u001B[0m\u001B[0;34m,\u001B[0m \u001B[0mmemo\u001B[0m\u001B[0;34m)\u001B[0m\u001B[0;34m]\u001B[0m \u001B[0;34m=\u001B[0m \u001B[0mdeepcopy\u001B[0m\u001B[0;34m(\u001B[0m\u001B[0mvalue\u001B[0m\u001B[0;34m,\u001B[0m \u001B[0mmemo\u001B[0m\u001B[0;34m)\u001B[0m\u001B[0;34m\u001B[0m\u001B[0;34m\u001B[0m\u001B[0m\n\u001B[0m\u001B[1;32m    231\u001B[0m     \u001B[0;32mreturn\u001B[0m \u001B[0my\u001B[0m\u001B[0;34m\u001B[0m\u001B[0;34m\u001B[0m\u001B[0m\n\u001B[1;32m    232\u001B[0m \u001B[0md\u001B[0m\u001B[0;34m[\u001B[0m\u001B[0mdict\u001B[0m\u001B[0;34m]\u001B[0m \u001B[0;34m=\u001B[0m \u001B[0m_deepcopy_dict\u001B[0m\u001B[0;34m\u001B[0m\u001B[0;34m\u001B[0m\u001B[0m\n",
      "\u001B[0;32m/usr/lib/python3.9/copy.py\u001B[0m in \u001B[0;36mdeepcopy\u001B[0;34m(x, memo, _nil)\u001B[0m\n\u001B[1;32m    170\u001B[0m                     \u001B[0my\u001B[0m \u001B[0;34m=\u001B[0m \u001B[0mx\u001B[0m\u001B[0;34m\u001B[0m\u001B[0;34m\u001B[0m\u001B[0m\n\u001B[1;32m    171\u001B[0m                 \u001B[0;32melse\u001B[0m\u001B[0;34m:\u001B[0m\u001B[0;34m\u001B[0m\u001B[0;34m\u001B[0m\u001B[0m\n\u001B[0;32m--> 172\u001B[0;31m                     \u001B[0my\u001B[0m \u001B[0;34m=\u001B[0m \u001B[0m_reconstruct\u001B[0m\u001B[0;34m(\u001B[0m\u001B[0mx\u001B[0m\u001B[0;34m,\u001B[0m \u001B[0mmemo\u001B[0m\u001B[0;34m,\u001B[0m \u001B[0;34m*\u001B[0m\u001B[0mrv\u001B[0m\u001B[0;34m)\u001B[0m\u001B[0;34m\u001B[0m\u001B[0;34m\u001B[0m\u001B[0m\n\u001B[0m\u001B[1;32m    173\u001B[0m \u001B[0;34m\u001B[0m\u001B[0m\n\u001B[1;32m    174\u001B[0m     \u001B[0;31m# If is its own copy, don't memoize.\u001B[0m\u001B[0;34m\u001B[0m\u001B[0;34m\u001B[0m\u001B[0m\n",
      "\u001B[0;32m/usr/lib/python3.9/copy.py\u001B[0m in \u001B[0;36m_reconstruct\u001B[0;34m(x, memo, func, args, state, listiter, dictiter, deepcopy)\u001B[0m\n\u001B[1;32m    262\u001B[0m     \u001B[0;32mif\u001B[0m \u001B[0mdeep\u001B[0m \u001B[0;32mand\u001B[0m \u001B[0margs\u001B[0m\u001B[0;34m:\u001B[0m\u001B[0;34m\u001B[0m\u001B[0;34m\u001B[0m\u001B[0m\n\u001B[1;32m    263\u001B[0m         \u001B[0margs\u001B[0m \u001B[0;34m=\u001B[0m \u001B[0;34m(\u001B[0m\u001B[0mdeepcopy\u001B[0m\u001B[0;34m(\u001B[0m\u001B[0marg\u001B[0m\u001B[0;34m,\u001B[0m \u001B[0mmemo\u001B[0m\u001B[0;34m)\u001B[0m \u001B[0;32mfor\u001B[0m \u001B[0marg\u001B[0m \u001B[0;32min\u001B[0m \u001B[0margs\u001B[0m\u001B[0;34m)\u001B[0m\u001B[0;34m\u001B[0m\u001B[0;34m\u001B[0m\u001B[0m\n\u001B[0;32m--> 264\u001B[0;31m     \u001B[0my\u001B[0m \u001B[0;34m=\u001B[0m \u001B[0mfunc\u001B[0m\u001B[0;34m(\u001B[0m\u001B[0;34m*\u001B[0m\u001B[0margs\u001B[0m\u001B[0;34m)\u001B[0m\u001B[0;34m\u001B[0m\u001B[0;34m\u001B[0m\u001B[0m\n\u001B[0m\u001B[1;32m    265\u001B[0m     \u001B[0;32mif\u001B[0m \u001B[0mdeep\u001B[0m\u001B[0;34m:\u001B[0m\u001B[0;34m\u001B[0m\u001B[0;34m\u001B[0m\u001B[0m\n\u001B[1;32m    266\u001B[0m         \u001B[0mmemo\u001B[0m\u001B[0;34m[\u001B[0m\u001B[0mid\u001B[0m\u001B[0;34m(\u001B[0m\u001B[0mx\u001B[0m\u001B[0;34m)\u001B[0m\u001B[0;34m]\u001B[0m \u001B[0;34m=\u001B[0m \u001B[0my\u001B[0m\u001B[0;34m\u001B[0m\u001B[0;34m\u001B[0m\u001B[0m\n",
      "\u001B[0;32m/usr/lib/python3.9/copy.py\u001B[0m in \u001B[0;36m<genexpr>\u001B[0;34m(.0)\u001B[0m\n\u001B[1;32m    261\u001B[0m     \u001B[0mdeep\u001B[0m \u001B[0;34m=\u001B[0m \u001B[0mmemo\u001B[0m \u001B[0;32mis\u001B[0m \u001B[0;32mnot\u001B[0m \u001B[0;32mNone\u001B[0m\u001B[0;34m\u001B[0m\u001B[0;34m\u001B[0m\u001B[0m\n\u001B[1;32m    262\u001B[0m     \u001B[0;32mif\u001B[0m \u001B[0mdeep\u001B[0m \u001B[0;32mand\u001B[0m \u001B[0margs\u001B[0m\u001B[0;34m:\u001B[0m\u001B[0;34m\u001B[0m\u001B[0;34m\u001B[0m\u001B[0m\n\u001B[0;32m--> 263\u001B[0;31m         \u001B[0margs\u001B[0m \u001B[0;34m=\u001B[0m \u001B[0;34m(\u001B[0m\u001B[0mdeepcopy\u001B[0m\u001B[0;34m(\u001B[0m\u001B[0marg\u001B[0m\u001B[0;34m,\u001B[0m \u001B[0mmemo\u001B[0m\u001B[0;34m)\u001B[0m \u001B[0;32mfor\u001B[0m \u001B[0marg\u001B[0m \u001B[0;32min\u001B[0m \u001B[0margs\u001B[0m\u001B[0;34m)\u001B[0m\u001B[0;34m\u001B[0m\u001B[0;34m\u001B[0m\u001B[0m\n\u001B[0m\u001B[1;32m    264\u001B[0m     \u001B[0my\u001B[0m \u001B[0;34m=\u001B[0m \u001B[0mfunc\u001B[0m\u001B[0;34m(\u001B[0m\u001B[0;34m*\u001B[0m\u001B[0margs\u001B[0m\u001B[0;34m)\u001B[0m\u001B[0;34m\u001B[0m\u001B[0;34m\u001B[0m\u001B[0m\n\u001B[1;32m    265\u001B[0m     \u001B[0;32mif\u001B[0m \u001B[0mdeep\u001B[0m\u001B[0;34m:\u001B[0m\u001B[0;34m\u001B[0m\u001B[0;34m\u001B[0m\u001B[0m\n",
      "\u001B[0;32m/usr/lib/python3.9/copy.py\u001B[0m in \u001B[0;36mdeepcopy\u001B[0;34m(x, memo, _nil)\u001B[0m\n\u001B[1;32m    135\u001B[0m         \u001B[0mmemo\u001B[0m \u001B[0;34m=\u001B[0m \u001B[0;34m{\u001B[0m\u001B[0;34m}\u001B[0m\u001B[0;34m\u001B[0m\u001B[0;34m\u001B[0m\u001B[0m\n\u001B[1;32m    136\u001B[0m \u001B[0;34m\u001B[0m\u001B[0m\n\u001B[0;32m--> 137\u001B[0;31m     \u001B[0md\u001B[0m \u001B[0;34m=\u001B[0m \u001B[0mid\u001B[0m\u001B[0;34m(\u001B[0m\u001B[0mx\u001B[0m\u001B[0;34m)\u001B[0m\u001B[0;34m\u001B[0m\u001B[0;34m\u001B[0m\u001B[0m\n\u001B[0m\u001B[1;32m    138\u001B[0m     \u001B[0my\u001B[0m \u001B[0;34m=\u001B[0m \u001B[0mmemo\u001B[0m\u001B[0;34m.\u001B[0m\u001B[0mget\u001B[0m\u001B[0;34m(\u001B[0m\u001B[0md\u001B[0m\u001B[0;34m,\u001B[0m \u001B[0m_nil\u001B[0m\u001B[0;34m)\u001B[0m\u001B[0;34m\u001B[0m\u001B[0;34m\u001B[0m\u001B[0m\n\u001B[1;32m    139\u001B[0m     \u001B[0;32mif\u001B[0m \u001B[0my\u001B[0m \u001B[0;32mis\u001B[0m \u001B[0;32mnot\u001B[0m \u001B[0m_nil\u001B[0m\u001B[0;34m:\u001B[0m\u001B[0;34m\u001B[0m\u001B[0;34m\u001B[0m\u001B[0m\n",
      "\u001B[0;31mKeyboardInterrupt\u001B[0m: "
     ]
    }
   ],
   "source": [
    "print(\"=== VERSION BASED ON CPU (scipy.sparse) ===\")\n",
    "\n",
    "queries = [\"(L0 | L1)* L2\", \"L0 | L2 | L1*\",\n",
    "          \"L0 L1 L2 (L3 | L1)*\", \"(L0 | L3)* | (L1 | L2)*\"]\n",
    "\n",
    "cpu_times_df = pd.DataFrame(index=queries, columns=GRAPH_NAMES)\n",
    "cpu_results = dict((graph.description.name, []) for graph in GRAPHS)\n",
    "\n",
    "for graph in GRAPHS:\n",
    "  labels = list(graph.description.edge_labels)\n",
    "\n",
    "  for index, query_generator in enumerate(QUERIES):\n",
    "    query = query_generator(labels)\n",
    "\n",
    "    print(str(graph))\n",
    "    print(f\"Query: {query_generator.__doc__}\")\n",
    "    print(\"Perfomance:\")\n",
    "    results = tuple()\n",
    "    time = None\n",
    "    if graph.description.name not in [\"go_hierarchy\", \"eclass_514en\", \"geospecies\"]:\n",
    "      time = %timeit -n 3 -o regular_path_querying(graph.graph, query, results, mode=\"cpu\")\n",
    "    else:\n",
    "      time = %timeit -n 1 -o regular_path_querying(graph.graph, query, results, mode=\"cpu\")\n",
    "    print(\"=== === ===\")\n",
    "\n",
    "    cpu_times_df.loc[queries[index], graph.description.name] = round(time.best * 1000, 2)\n",
    "    cpu_results[graph.description.name].append(results)"
   ]
  },
  {
   "cell_type": "markdown",
   "metadata": {
    "id": "IgDG3ljCLwIZ"
   },
   "source": [
    "В таблице ниже показано время работы данной версии алгоритма (в **мс**.) в зависимости от графа и регулярного выражения."
   ]
  },
  {
   "cell_type": "code",
   "execution_count": null,
   "metadata": {
    "colab": {
     "base_uri": "https://localhost:8080/",
     "height": 172
    },
    "id": "Qfh7p5AQTD3j",
    "outputId": "2202d40c-5e19-4608-9bae-eae4e7a60ea7",
    "pycharm": {
     "is_executing": true
    }
   },
   "outputs": [],
   "source": [
    "cpu_times_df"
   ]
  },
  {
   "cell_type": "markdown",
   "metadata": {
    "id": "Il_VJLPxqDSs"
   },
   "source": [
    "### Производительность GPU-версии алгоритма ($pyCuBool$)"
   ]
  },
  {
   "cell_type": "code",
   "execution_count": null,
   "metadata": {
    "colab": {
     "base_uri": "https://localhost:8080/"
    },
    "id": "eey92j1aIjam",
    "outputId": "4aceb818-30ce-487d-8dcc-c68ae997dd1d",
    "pycharm": {
     "is_executing": true
    }
   },
   "outputs": [],
   "source": [
    "print(\"=== VERSION BASED ON GPU (pyCuBool) ===\")\n",
    "\n",
    "gpu_times_df = pd.DataFrame(index=queries, columns=GRAPH_NAMES)\n",
    "gpu_results = dict((graph.description.name, []) for graph in GRAPHS)\n",
    "\n",
    "for graph in GRAPHS:\n",
    "  labels = list(graph.description.edge_labels)\n",
    "\n",
    "  for index, query_generator in enumerate(QUERIES):\n",
    "    query = query_generator(labels)\n",
    "\n",
    "    print(str(graph))\n",
    "    print(f\"Query: {query_generator.__doc__}\")\n",
    "    print(\"Perfomance:\")\n",
    "    results = tuple()\n",
    "    time = None\n",
    "    if graph.description.name not in [\"go_hierarchy\", \"eclass_514en\", \"geospecies\"]:\n",
    "      time = %timeit -n 3 -o regular_path_querying(graph.graph, query, results, mode=\"gpu\")\n",
    "    else:\n",
    "      time = %timeit -n 1 -o regular_path_querying(graph.graph, query, results, mode=\"gpu\")\n",
    "    print(\"=== === ===\")\n",
    "\n",
    "    gpu_times_df.loc[queries[index], graph.description.name] = round(time.best * 1000, 2)\n",
    "    gpu_results[graph.description.name].append(results)\n"
   ]
  },
  {
   "cell_type": "markdown",
   "metadata": {
    "id": "rkFUVev-O7c9"
   },
   "source": [
    "В таблице ниже показано время работы данной версии алгоритма (в **мс**.) в зависимости от графа и регулярного выражения."
   ]
  },
  {
   "cell_type": "code",
   "execution_count": null,
   "metadata": {
    "colab": {
     "base_uri": "https://localhost:8080/",
     "height": 172
    },
    "id": "FJ3fSKKS7hYu",
    "outputId": "cea184fc-ef00-4542-e927-4e6259dddd29",
    "pycharm": {
     "is_executing": true
    }
   },
   "outputs": [],
   "source": [
    "gpu_times_df"
   ]
  },
  {
   "cell_type": "markdown",
   "metadata": {
    "id": "piuMPLylY73D"
   },
   "source": [
    "### Зависимость производительности от параметров графа\n",
    "\n",
    "Для запроса $L_0 L_1 L_2 (L_3 | L_1)^*$ построены графики зависимости времени решения проблемы $RPQ$ от количества вершин и ребёр графа на примере **GPU-версии алгоритма ($pyCuBool$)**."
   ]
  },
  {
   "cell_type": "markdown",
   "metadata": {
    "id": "sRbijxh-sGvg"
   },
   "source": [
    "#### От количества вершин\n",
    "\n",
    "Рассмотрим зависимость производительности от количества вершин."
   ]
  },
  {
   "cell_type": "code",
   "execution_count": null,
   "metadata": {
    "colab": {
     "base_uri": "https://localhost:8080/",
     "height": 1000
    },
    "id": "El5Fwe1NWIL6",
    "outputId": "7e62f98b-d170-4b99-b7e2-c2ff35b2a9ba",
    "pycharm": {
     "is_executing": true
    }
   },
   "outputs": [],
   "source": [
    "# Лучшее время выполнения GPU-версии алгоритма RPQ (pyCuBool)\n",
    "# на запросе L0 L1 L2 (L3 | L1)*\n",
    "\n",
    "import matplotlib.pyplot as plt\n",
    "\n",
    "X = [graph.description.nodes for graph in GRAPHS]\n",
    "Y = [gpu_times_df[graph.description.name][2] for graph in GRAPHS]\n",
    "\n",
    "plt.figure(figsize=(20, 20))\n",
    "plt.plot(X, Y)\n",
    "plt.xlabel(\"Вершины\")\n",
    "plt.ylabel(\"Время выполнения (мс.)\")\n",
    "plt.title(\"Зависимость времени работы версии алгоритма от количества вершин в графе\")\n",
    "\n",
    "for x, y, name in zip(X, Y, GRAPH_NAMES):\n",
    "  plt.annotate(name, (x, y), textcoords=\"offset points\", xytext=(-20, 20))"
   ]
  },
  {
   "cell_type": "markdown",
   "metadata": {
    "id": "MtTOwgo1mvAM"
   },
   "source": [
    "По графику наблюдается наличие зависимости времени выполнения алгоритма от числа вершин графа. \n"
   ]
  },
  {
   "cell_type": "markdown",
   "metadata": {
    "id": "SXwVW74csSDY"
   },
   "source": [
    "#### От количества ребер\n",
    "\n",
    "Рассмотрим зависимость производительности от количества рёбер."
   ]
  },
  {
   "cell_type": "code",
   "execution_count": null,
   "metadata": {
    "colab": {
     "base_uri": "https://localhost:8080/",
     "height": 1000
    },
    "id": "dYkI_4MjnAPz",
    "outputId": "1414f02e-7323-4252-d8ce-ae8973f055ca",
    "pycharm": {
     "is_executing": true
    }
   },
   "outputs": [],
   "source": [
    "# Лучшее время выполнения GPU-версии алгоритма RPQ (pyCuBool)\n",
    "# на запросе L0 L1 L2 (L3 | L1)*\n",
    "\n",
    "import matplotlib.pyplot as plt\n",
    "\n",
    "X = [graph.description.edges for graph in GRAPHS]\n",
    "Y = [gpu_times_df[graph.description.name][2] for graph in GRAPHS]\n",
    "\n",
    "plt.figure(figsize=(20, 20))\n",
    "plt.plot(X, Y)\n",
    "plt.xlabel(\"Ребра\")\n",
    "plt.ylabel(\"Время выполнения (мс.)\")\n",
    "plt.title(\"Зависимость времени работы версии алгоритма от количества ребер в графе\")\n",
    "\n",
    "for x, y, name in zip(X, Y, GRAPH_NAMES):\n",
    "  plt.annotate(name, (x, y), textcoords=\"offset points\", xytext=(-20, 20))"
   ]
  },
  {
   "cell_type": "markdown",
   "metadata": {
    "id": "E7egEFs1wTXs"
   },
   "source": [
    "Наблюдается ещё более выраженная зависимость времени выполнения от количества рёбер в графе, чем от количества вершин."
   ]
  },
  {
   "cell_type": "markdown",
   "metadata": {
    "id": "BYSZ3lyEwW3l"
   },
   "source": [
    "## Итоги исследования\n",
    "\n",
    "Алгоритм решения проблемы $RPQ$ показал лучшие результаты в случае использования реализации с применением $pyCuBool$ для выполнения операций с булевыми матрицами. Данный результат объясняется тем, что библиотека $pyCuBool$ в своей реализации применяет технологию $NVIDIA$ $CUDA$, использующую графический ускоритель для вычислений. По данным эксперимента можно судить об эффективности параллельных вычислений при помощи данной технологии."
   ]
  }
 ],
 "metadata": {
  "accelerator": "GPU",
  "colab": {
   "include_colab_link": true,
   "name": "RPQ research",
   "provenance": []
  },
  "kernelspec": {
   "display_name": "Python 3",
   "language": "python",
   "name": "python3"
  },
  "language_info": {
   "codemirror_mode": {
    "name": "ipython",
    "version": 3
   },
   "file_extension": ".py",
   "mimetype": "text/x-python",
   "name": "python",
   "nbconvert_exporter": "python",
   "pygments_lexer": "ipython3",
   "version": "3.9.7"
  }
 },
 "nbformat": 4,
 "nbformat_minor": 1
}